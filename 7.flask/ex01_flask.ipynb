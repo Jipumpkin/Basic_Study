{
 "cells": [
  {
   "cell_type": "code",
   "execution_count": 1,
   "metadata": {},
   "outputs": [
    {
     "name": "stdout",
     "output_type": "stream",
     "text": [
      "Collecting flask\n",
      "  Downloading flask-3.0.3-py3-none-any.whl.metadata (3.2 kB)\n",
      "Collecting Werkzeug>=3.0.0 (from flask)\n",
      "  Downloading werkzeug-3.0.3-py3-none-any.whl.metadata (3.7 kB)\n",
      "Collecting Jinja2>=3.1.2 (from flask)\n",
      "  Downloading jinja2-3.1.4-py3-none-any.whl.metadata (2.6 kB)\n",
      "Collecting itsdangerous>=2.1.2 (from flask)\n",
      "  Downloading itsdangerous-2.2.0-py3-none-any.whl.metadata (1.9 kB)\n",
      "Collecting click>=8.1.3 (from flask)\n",
      "  Using cached click-8.1.7-py3-none-any.whl.metadata (3.0 kB)\n",
      "Collecting blinker>=1.6.2 (from flask)\n",
      "  Downloading blinker-1.8.2-py3-none-any.whl.metadata (1.6 kB)\n",
      "Requirement already satisfied: importlib-metadata>=3.6.0 in c:\\users\\user\\anaconda3\\envs\\flask\\lib\\site-packages (from flask) (8.0.0)\n",
      "Requirement already satisfied: colorama in c:\\users\\user\\anaconda3\\envs\\flask\\lib\\site-packages (from click>=8.1.3->flask) (0.4.6)\n",
      "Requirement already satisfied: zipp>=0.5 in c:\\users\\user\\anaconda3\\envs\\flask\\lib\\site-packages (from importlib-metadata>=3.6.0->flask) (3.19.2)\n",
      "Collecting MarkupSafe>=2.0 (from Jinja2>=3.1.2->flask)\n",
      "  Downloading MarkupSafe-2.1.5-cp39-cp39-win_amd64.whl.metadata (3.1 kB)\n",
      "Downloading flask-3.0.3-py3-none-any.whl (101 kB)\n",
      "   ---------------------------------------- 0.0/101.7 kB ? eta -:--:--\n",
      "   ----------- --------------------------- 30.7/101.7 kB 660.6 kB/s eta 0:00:01\n",
      "   ---------------------------------------- 101.7/101.7 kB 1.5 MB/s eta 0:00:00\n",
      "Downloading blinker-1.8.2-py3-none-any.whl (9.5 kB)\n",
      "Using cached click-8.1.7-py3-none-any.whl (97 kB)\n",
      "Downloading itsdangerous-2.2.0-py3-none-any.whl (16 kB)\n",
      "Downloading jinja2-3.1.4-py3-none-any.whl (133 kB)\n",
      "   ---------------------------------------- 0.0/133.3 kB ? eta -:--:--\n",
      "   ---------------------------------------- 133.3/133.3 kB 7.7 MB/s eta 0:00:00\n",
      "Downloading werkzeug-3.0.3-py3-none-any.whl (227 kB)\n",
      "   ---------------------------------------- 0.0/227.3 kB ? eta -:--:--\n",
      "   --------------------------------------- 227.3/227.3 kB 14.5 MB/s eta 0:00:00\n",
      "Downloading MarkupSafe-2.1.5-cp39-cp39-win_amd64.whl (17 kB)\n",
      "Installing collected packages: MarkupSafe, itsdangerous, click, blinker, Werkzeug, Jinja2, flask\n",
      "Successfully installed Jinja2-3.1.4 MarkupSafe-2.1.5 Werkzeug-3.0.3 blinker-1.8.2 click-8.1.7 flask-3.0.3 itsdangerous-2.2.0\n"
     ]
    }
   ],
   "source": [
    "!pip install flask"
   ]
  },
  {
   "cell_type": "markdown",
   "metadata": {},
   "source": [
    "### Flask\n",
    "- python 언어를 홯용하여 웹을 구축할수 있도록 해놓은 마이크로 웹프레임워크"
   ]
  },
  {
   "cell_type": "markdown",
   "metadata": {},
   "source": [
    "##### Flask 기본구조\n",
    "app = Flask(__name__) -> 초기화  \n",
    "@app.route('/') -> 라우팅 -> 해당 페이지로 가는 경로설정  \n",
    "app.run(host, port)\n"
   ]
  },
  {
   "cell_type": "code",
   "execution_count": null,
   "metadata": {},
   "outputs": [
    {
     "name": "stdout",
     "output_type": "stream",
     "text": [
      " * Serving Flask app '__main__'\n",
      " * Debug mode: off\n"
     ]
    },
    {
     "name": "stderr",
     "output_type": "stream",
     "text": [
      "WARNING: This is a development server. Do not use it in a production deployment. Use a production WSGI server instead.\n",
      " * Running on http://192.168.21.152:5000\n",
      "Press CTRL+C to quit\n",
      "192.168.21.152 - - [09/Jul/2024 09:42:57] \"GET / HTTP/1.1\" 200 -\n",
      "192.168.21.152 - - [09/Jul/2024 09:42:57] \"GET /favicon.ico HTTP/1.1\" 404 -\n"
     ]
    }
   ],
   "source": [
    "from flask import Flask\n",
    "\n",
    "# 초기화\n",
    "app = Flask(__name__)\n",
    "\n",
    "# 라우팅\n",
    "@app.route('/') # 웹서버의 root\n",
    "# 위의 해당하는 경로에서 실행될 함수 정의\n",
    "def hello():\n",
    "    return \"Hello World\"\n",
    "\n",
    "# 웹서버 구동\n",
    "\n",
    "if __name__ == \"__main__\": # 해당 파일을 직접적으로 실행했을때만 진행\n",
    "    app.run(port = 5000, host = \"192.168.21.152\")\n",
    "    "
   ]
  },
  {
   "cell_type": "markdown",
   "metadata": {},
   "source": [
    "### 새로운 라우터 생성\n",
    "- 추가적인 경로 설정하기\n"
   ]
  },
  {
   "cell_type": "code",
   "execution_count": 4,
   "metadata": {},
   "outputs": [
    {
     "name": "stdout",
     "output_type": "stream",
     "text": [
      " * Serving Flask app '__main__'\n",
      " * Debug mode: off\n"
     ]
    },
    {
     "name": "stderr",
     "output_type": "stream",
     "text": [
      "WARNING: This is a development server. Do not use it in a production deployment. Use a production WSGI server instead.\n",
      " * Running on http://192.168.21.152:5000\n",
      "Press CTRL+C to quit\n",
      "192.168.21.152 - - [09/Jul/2024 09:48:08] \"GET / HTTP/1.1\" 200 -\n",
      "192.168.21.152 - - [09/Jul/2024 09:48:28] \"GET / HTTP/1.1\" 200 -\n",
      "192.168.21.152 - - [09/Jul/2024 09:48:37] \"GET /route1 HTTP/1.1\" 200 -\n"
     ]
    }
   ],
   "source": [
    "from flask import Flask\n",
    "\n",
    "# 초기화\n",
    "app = Flask(__name__)\n",
    "\n",
    "# 라우팅\n",
    "@app.route('/') # 웹서버의 root\n",
    "# 위의 해당하는 경로에서 실행될 함수 정의\n",
    "def hello():\n",
    "    return \"Hello World\"\n",
    "\n",
    "# 새로운 경로 설정\n",
    "@app.route('/route1')\n",
    "def new_page():\n",
    "    return \"1번 라우터에 연결되었음\"\n",
    "\n",
    "# 웹서버 구동\n",
    "if __name__ == \"__main__\": # 해당 파일을 직접적으로 실행했을때만 진행\n",
    "    app.run(port = 5000, host = \"192.168.21.152\")\n",
    "    "
   ]
  },
  {
   "cell_type": "code",
   "execution_count": 7,
   "metadata": {},
   "outputs": [
    {
     "name": "stdout",
     "output_type": "stream",
     "text": [
      " * Serving Flask app '__main__'\n",
      " * Debug mode: off\n"
     ]
    },
    {
     "name": "stderr",
     "output_type": "stream",
     "text": [
      "WARNING: This is a development server. Do not use it in a production deployment. Use a production WSGI server instead.\n",
      " * Running on http://192.168.21.152:5000\n",
      "Press CTRL+C to quit\n",
      "192.168.21.152 - - [09/Jul/2024 10:13:20] \"GET /home HTTP/1.1\" 404 -\n",
      "192.168.21.152 - - [09/Jul/2024 10:13:22] \"GET / HTTP/1.1\" 200 -\n",
      "192.168.21.152 - - [09/Jul/2024 10:13:51] \"GET /bye HTTP/1.1\" 404 -\n",
      "192.168.21.152 - - [09/Jul/2024 10:14:02] \"GET /goobye HTTP/1.1\" 200 -\n"
     ]
    }
   ],
   "source": [
    "from flask import Flask\n",
    "\n",
    "# 초기화\n",
    "app = Flask(__name__)\n",
    "\n",
    "# 라우팅\n",
    "@app.route('/') # 웹서버의 root\n",
    "# 위의 해당하는 경로에서 실행될 함수 정의\n",
    "def home():\n",
    "    return \"Hello Home Page\"\n",
    "\n",
    "\n",
    "@app.route('/hello')\n",
    "def hello():\n",
    "    return \"ㅎㅇ\"\n",
    "\n",
    "@app.route('/goobye')\n",
    "def bye():\n",
    "    return \"ㅂㅇ\"\n",
    "\n",
    "\n",
    "\n",
    "\n",
    "# 웹서버 구동\n",
    "\n",
    "if __name__ == \"__main__\": # 해당 파일을 직접적으로 실행했을때만 진행\n",
    "    app.run(port = 5000, host = \"192.168.21.152\")\n",
    "    "
   ]
  },
  {
   "cell_type": "markdown",
   "metadata": {},
   "source": [
    "### url을 변수로 사용"
   ]
  },
  {
   "cell_type": "code",
   "execution_count": 8,
   "metadata": {},
   "outputs": [
    {
     "name": "stdout",
     "output_type": "stream",
     "text": [
      " * Serving Flask app '__main__'\n",
      " * Debug mode: off\n"
     ]
    },
    {
     "name": "stderr",
     "output_type": "stream",
     "text": [
      "WARNING: This is a development server. Do not use it in a production deployment. Use a production WSGI server instead.\n",
      " * Running on http://192.168.21.152:5000\n",
      "Press CTRL+C to quit\n",
      "192.168.21.152 - - [09/Jul/2024 10:17:19] \"GET / HTTP/1.1\" 200 -\n",
      "192.168.21.152 - - [09/Jul/2024 10:17:39] \"GET /hello/서버샀죠 HTTP/1.1\" 200 -\n",
      "192.168.21.152 - - [09/Jul/2024 10:17:50] \"GET /hello/ㅂㅇ HTTP/1.1\" 200 -\n",
      "192.168.21.152 - - [09/Jul/2024 10:18:27] \"GET /hello/<h1>UUU<h1> HTTP/1.1\" 200 -\n"
     ]
    }
   ],
   "source": [
    "from flask import Flask\n",
    "\n",
    "\n",
    "app = Flask(__name__)\n",
    "\n",
    "\n",
    "@app.route('/')\n",
    "def home():\n",
    "    return \"Hello Home Page\"\n",
    "\n",
    "\n",
    "@app.route('/hello/<value>')\n",
    "def hello(value):\n",
    "    return \"ㅎㅇ\" + value\n",
    "\n",
    "@app.route('/goobye')\n",
    "def bye():\n",
    "    return \"ㅂㅇ\"\n",
    "\n",
    "\n",
    "\n",
    "\n",
    "\n",
    "if __name__ == \"__main__\":\n",
    "    app.run(port = 5000, host = \"192.168.21.152\")\n",
    "    "
   ]
  },
  {
   "cell_type": "markdown",
   "metadata": {},
   "source": [
    "### html 문서 웹페이지에 전송\n",
    "- 렌더링: 서버에서 데이터를 html 코드로 변환하여 웹브라우저가 이를 사용자에게 표시할수있게 하는 과정"
   ]
  },
  {
   "cell_type": "code",
   "execution_count": 9,
   "metadata": {},
   "outputs": [
    {
     "name": "stdout",
     "output_type": "stream",
     "text": [
      " * Serving Flask app '__main__'\n",
      " * Debug mode: off\n"
     ]
    },
    {
     "name": "stderr",
     "output_type": "stream",
     "text": [
      "WARNING: This is a development server. Do not use it in a production deployment. Use a production WSGI server instead.\n",
      " * Running on http://192.168.21.152:5000\n",
      "Press CTRL+C to quit\n",
      "192.168.21.152 - - [09/Jul/2024 10:28:04] \"GET / HTTP/1.1\" 200 -\n"
     ]
    }
   ],
   "source": [
    "from flask import Flask, render_template\n",
    "# render_template: html 문서를 가져올수 있도록 도와주는 함수\n",
    "\n",
    "app = Flask(__name__)\n",
    "\n",
    "@app.route('/')\n",
    "def index():\n",
    "    return render_template('index.html')\n",
    "\n",
    "if __name__ == \"__main__\":\n",
    "    app.run(port = 5000, host = \"192.168.21.152\")"
   ]
  },
  {
   "cell_type": "markdown",
   "metadata": {},
   "source": [
    "### GET / POST\n",
    "- GET: url 값을 붙여서 전송  \n",
    "    - 장점: 간단하고 빠름  \n",
    "    - 단점: 보안에 취약하고, 큰 파일 전송이 어려움  \n",
    "- POST: 데이터를 HTTP요청의 body에 정보를 포함시켜 전송  \n",
    "    - 장점: 데이터가 노출되지않음, 보안이 우수, 길이제한 없음  \n",
    "    - 단점: 복잡함, get에 비해서 상대적으로 응답시간이 느림  "
   ]
  },
  {
   "cell_type": "code",
   "execution_count": 10,
   "metadata": {},
   "outputs": [
    {
     "name": "stdout",
     "output_type": "stream",
     "text": [
      " * Serving Flask app '__main__'\n",
      " * Debug mode: off\n"
     ]
    },
    {
     "name": "stderr",
     "output_type": "stream",
     "text": [
      "WARNING: This is a development server. Do not use it in a production deployment. Use a production WSGI server instead.\n",
      " * Running on http://192.168.21.152:5000\n",
      "Press CTRL+C to quit\n",
      "192.168.21.152 - - [09/Jul/2024 10:46:48] \"GET / HTTP/1.1\" 200 -\n",
      "192.168.21.152 - - [09/Jul/2024 10:46:57] \"GET /?id=엄준식&pw=tlqkffusdk HTTP/1.1\" 200 -\n",
      "192.168.21.152 - - [09/Jul/2024 11:03:43] \"GET /?id=adsasdasddasdsadsadasdas&pw=adasdsadasdasdasdasdasdasdasdas HTTP/1.1\" 200 -\n",
      "192.168.21.152 - - [09/Jul/2024 11:04:05] \"GET /?id=adsasdasddasdsadsadasdas&pw=adasdsadasdasdasdasdasdasdasdas HTTP/1.1\" 200 -\n"
     ]
    }
   ],
   "source": [
    "# login.html 을 초기화면에 띄우기\n",
    "\n",
    "from flask import Flask, render_template\n",
    "\n",
    "app = Flask(__name__)\n",
    "\n",
    "@app.route('/')\n",
    "def index():\n",
    "    return render_template('login.html')\n",
    "\n",
    "if __name__ == \"__main__\":\n",
    "    app.run(port = 5000, host = \"192.168.21.152\")"
   ]
  },
  {
   "cell_type": "code",
   "execution_count": 15,
   "metadata": {},
   "outputs": [
    {
     "name": "stdout",
     "output_type": "stream",
     "text": [
      " * Serving Flask app '__main__'\n",
      " * Debug mode: off\n"
     ]
    },
    {
     "name": "stderr",
     "output_type": "stream",
     "text": [
      "WARNING: This is a development server. Do not use it in a production deployment. Use a production WSGI server instead.\n",
      " * Running on http://192.168.21.152:5000\n",
      "Press CTRL+C to quit\n",
      "192.168.21.152 - - [09/Jul/2024 11:14:24] \"GET / HTTP/1.1\" 200 -\n",
      "192.168.21.152 - - [09/Jul/2024 11:14:33] \"GET /login HTTP/1.1\" 200 -\n",
      "192.168.21.152 - - [09/Jul/2024 11:14:36] \"GET /login_ok?id=asfdadsf&pw=asdfasdf HTTP/1.1\" 200 -\n"
     ]
    }
   ],
   "source": [
    "# login 페이지에서 입력받은 데이터 받기(get)\n",
    "\n",
    "from flask import Flask, render_template, request\n",
    "\n",
    "app = Flask(__name__)\n",
    "\n",
    "@app.route('/')\n",
    "def index1():\n",
    "    return render_template('index.html')\n",
    "\n",
    "@app.route('/login')\n",
    "def index():\n",
    "    return render_template('login.html')\n",
    "\n",
    "# GET 방식으로 넘어온 값을 받기\n",
    "@app.route('/login_ok', methods = ['GET'])\n",
    "\n",
    "def login_ok():\n",
    "    id = request.args.get('id')\n",
    "    pw = request.args.get('pw')\n",
    "    return f\"ID : {id} PW : {pw}\"\n",
    "if __name__ == \"__main__\":\n",
    "    app.run(port = 5000, host = \"192.168.21.152\")"
   ]
  },
  {
   "cell_type": "code",
   "execution_count": 16,
   "metadata": {},
   "outputs": [
    {
     "name": "stdout",
     "output_type": "stream",
     "text": [
      " * Serving Flask app '__main__'\n",
      " * Debug mode: off\n"
     ]
    },
    {
     "name": "stderr",
     "output_type": "stream",
     "text": [
      "WARNING: This is a development server. Do not use it in a production deployment. Use a production WSGI server instead.\n",
      " * Running on http://192.168.21.152:5000\n",
      "Press CTRL+C to quit\n",
      "192.168.21.152 - - [09/Jul/2024 11:21:35] \"GET / HTTP/1.1\" 200 -\n",
      "192.168.21.152 - - [09/Jul/2024 11:21:43] \"GET /login HTTP/1.1\" 200 -\n",
      "192.168.21.152 - - [09/Jul/2024 11:21:49] \"POST /login_ok HTTP/1.1\" 200 -\n"
     ]
    }
   ],
   "source": [
    "# login 페이지에서 입력받은 데이터 받기(get)\n",
    "\n",
    "from flask import Flask, render_template, request\n",
    "\n",
    "app = Flask(__name__)\n",
    "\n",
    "@app.route('/')\n",
    "def index1():\n",
    "    return render_template('index.html')\n",
    "\n",
    "@app.route('/login')\n",
    "def index():\n",
    "    return render_template('login_post.html')\n",
    "\n",
    "# POST 방식으로 넘어온 값을 받기\n",
    "@app.route('/login_ok', methods = ['POST'])\n",
    "\n",
    "def login_ok():\n",
    "    id = request.form['id']\n",
    "    pw = request.form['pw']\n",
    "    return f\"ID : {id} PW : {pw}\"\n",
    "if __name__ == \"__main__\":\n",
    "    app.run(port = 5000, host = \"192.168.21.152\")"
   ]
  },
  {
   "cell_type": "code",
   "execution_count": null,
   "metadata": {},
   "outputs": [],
   "source": []
  },
  {
   "cell_type": "code",
   "execution_count": null,
   "metadata": {},
   "outputs": [],
   "source": []
  },
  {
   "cell_type": "code",
   "execution_count": null,
   "metadata": {},
   "outputs": [],
   "source": []
  },
  {
   "cell_type": "code",
   "execution_count": null,
   "metadata": {},
   "outputs": [],
   "source": []
  },
  {
   "cell_type": "code",
   "execution_count": null,
   "metadata": {},
   "outputs": [],
   "source": []
  }
 ],
 "metadata": {
  "kernelspec": {
   "display_name": "flask",
   "language": "python",
   "name": "python3"
  },
  "language_info": {
   "codemirror_mode": {
    "name": "ipython",
    "version": 3
   },
   "file_extension": ".py",
   "mimetype": "text/x-python",
   "name": "python",
   "nbconvert_exporter": "python",
   "pygments_lexer": "ipython3",
   "version": "3.9.19"
  }
 },
 "nbformat": 4,
 "nbformat_minor": 2
}
