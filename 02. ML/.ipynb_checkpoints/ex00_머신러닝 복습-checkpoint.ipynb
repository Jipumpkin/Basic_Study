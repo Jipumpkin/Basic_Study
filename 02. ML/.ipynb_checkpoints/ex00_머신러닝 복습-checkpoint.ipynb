{
 "cells": [
  {
   "cell_type": "markdown",
   "id": "f847d577-6002-483d-b6e3-587f3764d47a",
   "metadata": {},
   "source": [
    "### 1.인공지능 vs 머신러닝 vs 딥러닝\n",
    "- 인공지능 : 사람의 모든 것을 흉내내는 기술\n",
    "- 머신러닝 : 사람이 학습하는 방식을 기꼐에게 적용하는 기술 -> 다양한 학습방식이 있음\n",
    "- 딥러닝 : 머신러닝의 하위분야로 사람의 뇌(신경망)를 모방하여 학습하는 방식의 기술 -> 최근 인공지능의 결과물의 근본"
   ]
  },
  {
   "cell_type": "markdown",
   "id": "67b08339-4031-47ff-a8ef-2e369d7dc950",
   "metadata": {},
   "source": [
    "### 2.ML이란?\n",
    "- Data를 Nodel에게 넣어서 스스로 학습하게 하는 방법\n",
    "- 장점 : 사람이 관여하는 부분이 적다 -> 자동화가 가능\n",
    "- 단점 : 기계가 어떤 방식으로 학습/추론 하는지 파악하기 어렵다 -> 평가가 중요하다"
   ]
  },
  {
   "cell_type": "markdown",
   "id": "65c00db3-6566-484f-a4df-41e2f6b6bd53",
   "metadata": {},
   "source": [
    "### 3. 인공지능 활용 프로세스\n",
    "1. 문제정의\n",
    "2. 관련 학습 데이터 수집\n",
    "3. 데이터 전처리\n",
    "4. 데이터 탐색(EDA)\n",
    "5. 학습모델 선택 및 하이퍼파라미터 튜닝\n",
    "6. 모델평가\n",
    "7. 서비스화"
   ]
  },
  {
   "cell_type": "code",
   "execution_count": null,
   "id": "0dbe04bc-07c6-4fe5-8df3-25deb02d98d5",
   "metadata": {},
   "outputs": [],
   "source": []
  }
 ],
 "metadata": {
  "kernelspec": {
   "display_name": "Python 3 (ipykernel)",
   "language": "python",
   "name": "python3"
  },
  "language_info": {
   "codemirror_mode": {
    "name": "ipython",
    "version": 3
   },
   "file_extension": ".py",
   "mimetype": "text/x-python",
   "name": "python",
   "nbconvert_exporter": "python",
   "pygments_lexer": "ipython3",
   "version": "3.11.7"
  }
 },
 "nbformat": 4,
 "nbformat_minor": 5
}
