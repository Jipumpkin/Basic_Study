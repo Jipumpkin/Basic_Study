{
 "cells": [
  {
   "cell_type": "markdown",
   "id": "02bf0de9-0671-4399-80ab-5f56e54a38a0",
   "metadata": {},
   "source": [
    "### 조건문\n",
    "- if문\n",
    "- if-else문\n",
    "- if-elif-else문"
   ]
  },
  {
   "cell_type": "code",
   "execution_count": 2,
   "id": "05ef4b2a-379f-439a-b944-04dcc11a464b",
   "metadata": {},
   "outputs": [
    {
     "name": "stdout",
     "output_type": "stream",
     "text": [
      "택시\n"
     ]
    }
   ],
   "source": [
    "money = 11000\n",
    "if money >= 10000:\n",
    "    print('택시')\n",
    "else:\n",
    "    print('버스')"
   ]
  },
  {
   "cell_type": "markdown",
   "id": "134b236e-9110-4876-8f16-d6e422d9a190",
   "metadata": {},
   "source": [
    "- if else문 실습 문제 ) 대박이가 마스크를 대량으로 구매함 ㅄ 주변 친구들에게 소분해서 버려버리기 위해 포장지를 사려고 한다.포장지는 8개들이와 5개들이로 두종류가 있다. 8개들이 포장지는 비싸기 때문에 꼭 모두 패워서 포장할때만 사용하고, 나머지는 5개들이 포장지로 포장하려한다. 이때 마스크의 개수를 입력받아서 포장을 하려면 포장지가 각각 몇개씩 필요할까요 (단, 남는 마스크 없이)"
   ]
  },
  {
   "cell_type": "code",
   "execution_count": 25,
   "id": "77c64dc7-e0d5-471f-9e03-7f38dbc65b8b",
   "metadata": {},
   "outputs": [
    {
     "name": "stdin",
     "output_type": "stream",
     "text": [
      "마스크 개수 입력>> 7\n"
     ]
    },
    {
     "name": "stdout",
     "output_type": "stream",
     "text": [
      "필요한 8개들이 개수:0, 5개들이 개수:2\n"
     ]
    }
   ],
   "source": [
    "\n",
    "mask = int(input('마스크 개수 입력>>'))\n",
    "\n",
    "pal = mask//8\n",
    "\n",
    "O = 0\n",
    "\n",
    "if (mask % 8) > 5:\n",
    "    O = 2\n",
    "else:\n",
    "    O = 1\n",
    "\n",
    "\n",
    "print(f'필요한 8개들이 개수:{pal}, 5개들이 개수:{O}')\n"
   ]
  },
  {
   "cell_type": "code",
   "execution_count": 29,
   "id": "4b625ca6-729f-41ab-87de-4ed28d58bebb",
   "metadata": {},
   "outputs": [
    {
     "name": "stdin",
     "output_type": "stream",
     "text": [
      "이 동물의 크기가 작은가? (참 혹은 거짓) 참\n",
      "이 동물 날개가 있나? (참 혹은 거짓) 참\n"
     ]
    },
    {
     "name": "stdout",
     "output_type": "stream",
     "text": [
      "참새\n"
     ]
    }
   ],
   "source": [
    "# if-else 아키네이터 실습\n",
    "# 사용자에게 참과 거짓을 입력 받아서 참새, 고양이, 독수리, 호랑이 중에서\n",
    "# 어떤 동물인지 맞추는 프로그램\n",
    "\n",
    "q1 = input('이 동물의 크기가 작은가? (참 혹은 거짓)')\n",
    "q2 = input('이 동물 날개가 있나? (참 혹은 거짓)')\n",
    "\n",
    "if q1 == '참' :\n",
    "    if q2 == '참' :\n",
    "        print('참새')\n",
    "    else:\n",
    "        print('냥이')\n",
    "else:\n",
    "    if q2 == '참' :\n",
    "        print('독수리')\n",
    "    else:\n",
    "        print('호랑이')\n",
    "\n"
   ]
  },
  {
   "cell_type": "code",
   "execution_count": null,
   "id": "786a8113-be07-4512-9b07-a5092c388afe",
   "metadata": {},
   "outputs": [],
   "source": []
  },
  {
   "cell_type": "code",
   "execution_count": null,
   "id": "af4964bd-7762-4449-8ed2-c9df297d5cb1",
   "metadata": {},
   "outputs": [],
   "source": []
  },
  {
   "cell_type": "code",
   "execution_count": null,
   "id": "203c6d2d-323d-4cdc-b11f-ed9775a70342",
   "metadata": {},
   "outputs": [],
   "source": []
  },
  {
   "cell_type": "code",
   "execution_count": null,
   "id": "40bd9f43-9dcd-4728-883b-27c53c1fbeba",
   "metadata": {},
   "outputs": [],
   "source": []
  },
  {
   "cell_type": "code",
   "execution_count": null,
   "id": "565000cc-b4db-4e6e-9fe9-6c6a5ba9e436",
   "metadata": {},
   "outputs": [],
   "source": []
  },
  {
   "cell_type": "code",
   "execution_count": null,
   "id": "5253bc9f-2364-41a5-aef7-c8d5827e5dbe",
   "metadata": {},
   "outputs": [],
   "source": []
  },
  {
   "cell_type": "code",
   "execution_count": null,
   "id": "85282edf-9b42-40d0-b1db-50036856fe4b",
   "metadata": {},
   "outputs": [],
   "source": []
  }
 ],
 "metadata": {
  "kernelspec": {
   "display_name": "Python 3 (ipykernel)",
   "language": "python",
   "name": "python3"
  },
  "language_info": {
   "codemirror_mode": {
    "name": "ipython",
    "version": 3
   },
   "file_extension": ".py",
   "mimetype": "text/x-python",
   "name": "python",
   "nbconvert_exporter": "python",
   "pygments_lexer": "ipython3",
   "version": "3.11.7"
  }
 },
 "nbformat": 4,
 "nbformat_minor": 5
}
