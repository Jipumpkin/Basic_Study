{
 "cells": [
  {
   "cell_type": "code",
   "execution_count": 4,
   "id": "1f500a27-feb3-4088-9c03-8f9481b62dcb",
   "metadata": {},
   "outputs": [],
   "source": [
    "# numpy 라이브러리 로딩\n",
    "import numpy as np"
   ]
  },
  {
   "cell_type": "markdown",
   "id": "d8078f02-0c5c-4456-8dee-b6095453dc74",
   "metadata": {},
   "source": [
    "#### 리스트와 array의 차이점\n",
    "- 리스트\n",
    "  - 여러가지 자료형을 가질수 있다\n",
    "  - 메모리 용량이 크고 연산 속도가 느리다\n",
    "- array\n",
    "  - 동일한 자료형을 가지는 값들이 배열형태로 존재\n",
    "  - 메모리최적화, 계속속도가 빠름\n",
    "  - n차원 형태도 구성이 가능"
   ]
  },
  {
   "cell_type": "code",
   "execution_count": 11,
   "id": "0cb64ab3-6c32-4a7e-9fd4-8979e348c860",
   "metadata": {},
   "outputs": [
    {
     "data": {
      "text/plain": [
       "array([1, 2, 3, 4, 5])"
      ]
     },
     "execution_count": 11,
     "metadata": {},
     "output_type": "execute_result"
    }
   ],
   "source": [
    "list1 = [1,2,3,4,5]\n",
    "\n",
    "arr = np.array(list1)\n",
    "\n",
    "arr2 = np.array([\n",
    "    [1, 2, 3],\n",
    "    [4, 5, 6]\n",
    "])\n",
    "\n",
    "arr"
   ]
  },
  {
   "cell_type": "markdown",
   "id": "7bda1bba-4efa-4960-acdf-9176314d5102",
   "metadata": {},
   "source": [
    "### ndarray클래스의 속성들을 활용해서 자료구조 파악하기\n"
   ]
  },
  {
   "cell_type": "code",
   "execution_count": 14,
   "id": "ea7e882a-71a7-4095-88a0-a98caa51b529",
   "metadata": {},
   "outputs": [
    {
     "name": "stdout",
     "output_type": "stream",
     "text": [
      "6\n",
      "2\n"
     ]
    }
   ],
   "source": [
    "# 배열의 크기(모양) 확인 : ==> .shape\n",
    "# 배열의 요소 개수 확인 : .size != len()\n",
    "# 배열의 차원 확인 : .ndim\n",
    "# 배열이 가진 데이터의 타입 확인 : .dtype\n",
    "print(arr2.size)\n",
    "print(len(arr2))"
   ]
  },
  {
   "cell_type": "markdown",
   "id": "88fa5fd3-9f76-48cc-8793-2f956e7012cf",
   "metadata": {},
   "source": [
    "### array 연산\n",
    "- numpy는 기본적으로 array요소간 사칙연산을 지원한다.\n",
    "- 행과 열이 같은 배열을 연산하면 인덱스에 있는 값들끼리 연산이 된다."
   ]
  },
  {
   "cell_type": "code",
   "execution_count": 19,
   "id": "a81771ff-49e3-49db-b1e3-5d605c05fd7a",
   "metadata": {},
   "outputs": [
    {
     "data": {
      "text/plain": [
       "[1, 2, 3, 5, 6, 7]"
      ]
     },
     "execution_count": 19,
     "metadata": {},
     "output_type": "execute_result"
    }
   ],
   "source": [
    "lst1 = [1,2,3]\n",
    "lst2 = [5,6,7]\n",
    "lst1+lst2"
   ]
  },
  {
   "cell_type": "code",
   "execution_count": 23,
   "id": "37a93a0d-1931-445d-9c12-6d31b14b435d",
   "metadata": {},
   "outputs": [
    {
     "data": {
      "text/plain": [
       "array([ 6,  8, 10])"
      ]
     },
     "execution_count": 23,
     "metadata": {},
     "output_type": "execute_result"
    }
   ],
   "source": [
    "arr11 = np.array(lst1)\n",
    "arr22 = np.array(lst2)\n",
    "arr11+arr22"
   ]
  },
  {
   "cell_type": "code",
   "execution_count": 25,
   "id": "47f14ab0-5fb5-4074-b4d0-27c431cc31eb",
   "metadata": {},
   "outputs": [
    {
     "data": {
      "text/plain": [
       "array([[1, 2, 3],\n",
       "       [4, 5, 6]])"
      ]
     },
     "execution_count": 25,
     "metadata": {},
     "output_type": "execute_result"
    }
   ],
   "source": [
    "# 2차원 배열 연산\n",
    "arr3 = np.array([[1,2,3],[4,5,6]])\n",
    "arr3"
   ]
  },
  {
   "cell_type": "code",
   "execution_count": 37,
   "id": "3e66d5cb-0aaa-4094-a524-368d546ec11b",
   "metadata": {},
   "outputs": [
    {
     "name": "stdout",
     "output_type": "stream",
     "text": [
      "(2, 3)\n",
      "(3,)\n",
      "(5,)\n"
     ]
    }
   ],
   "source": [
    "print(arr3.shape)\n",
    "print(arr22.shape)\n",
    "\n",
    "arr4 = np.array([1,2,3,4,5])\n",
    "print(arr.shape)\n",
    "\n",
    "# arr22 + arr4 -> 오류발생\n",
    "# 크기(shape)가 다른 배열끼리 연산은 불가능"
   ]
  },
  {
   "cell_type": "code",
   "execution_count": 41,
   "id": "e3427ca3-0eba-4910-91f2-09d59fb0e2d0",
   "metadata": {},
   "outputs": [
    {
     "data": {
      "text/plain": [
       "array([[ 6,  8, 10],\n",
       "       [ 9, 11, 13]])"
      ]
     },
     "execution_count": 41,
     "metadata": {},
     "output_type": "execute_result"
    }
   ],
   "source": [
    "arr22 + arr3 # 브로드캐스트 연산"
   ]
  },
  {
   "cell_type": "markdown",
   "id": "b93dadf1-2bbb-41cf-b633-9a5cecab24b5",
   "metadata": {},
   "source": [
    "### numpy 인덱싱&슬라이싱\n",
    "- 인덱싱 : 무언가를 '가리킨다'\n",
    "- 슬라이싱 : 무언가를 '잘라낸다'"
   ]
  },
  {
   "cell_type": "code",
   "execution_count": 45,
   "id": "a6911d8f-776a-45df-ab8c-ec46a7a5bce7",
   "metadata": {},
   "outputs": [
    {
     "data": {
      "text/plain": [
       "array([[ 1,  2,  3,  4,  5,  6,  7,  8,  9, 10],\n",
       "       [11, 12, 13, 14, 15, 16, 17, 18, 19, 20],\n",
       "       [21, 22, 23, 24, 25, 26, 27, 28, 29, 30],\n",
       "       [31, 32, 33, 34, 35, 36, 37, 38, 39, 40],\n",
       "       [41, 42, 43, 44, 45, 46, 47, 48, 49, 50]])"
      ]
     },
     "execution_count": 45,
     "metadata": {},
     "output_type": "execute_result"
    }
   ],
   "source": [
    "arr2 = np.arange(1,51).reshape(5,10) #(5행 10열)\n",
    "arr2"
   ]
  },
  {
   "cell_type": "code",
   "execution_count": 47,
   "id": "082b25cd-a827-4726-a5d7-0a79e9d9dee7",
   "metadata": {},
   "outputs": [
    {
     "data": {
      "text/plain": [
       "22"
      ]
     },
     "execution_count": 47,
     "metadata": {},
     "output_type": "execute_result"
    }
   ],
   "source": [
    "# 숫자 22 가져오기\n",
    "arr2[2][1]\n",
    "arr2[2,1]"
   ]
  },
  {
   "cell_type": "code",
   "execution_count": 49,
   "id": "6405f0b8-d55b-4c98-815c-6717e5105ac6",
   "metadata": {},
   "outputs": [
    {
     "data": {
      "text/plain": [
       "array([22])"
      ]
     },
     "execution_count": 49,
     "metadata": {},
     "output_type": "execute_result"
    }
   ],
   "source": [
    "# array 형태로 가져오기\n",
    "arr2[[2],[1]]"
   ]
  },
  {
   "cell_type": "markdown",
   "id": "720162fa-292d-41f4-b6a0-3972af32b75d",
   "metadata": {},
   "source": [
    "- 슬라이싱 예제 : 22와 33을 인덱싱해보자"
   ]
  },
  {
   "cell_type": "code",
   "execution_count": 52,
   "id": "0083e660-831a-486a-92d8-3cf399dec3d4",
   "metadata": {},
   "outputs": [
    {
     "data": {
      "text/plain": [
       "array([22, 33])"
      ]
     },
     "execution_count": 52,
     "metadata": {},
     "output_type": "execute_result"
    }
   ],
   "source": [
    "arr2[[2,3],[1,2]]"
   ]
  },
  {
   "cell_type": "code",
   "execution_count": 71,
   "id": "802f6290-0e1b-4162-baf8-c21718c889fb",
   "metadata": {},
   "outputs": [],
   "source": [
    "import numpy as np\n",
    "import pandas as pd\n",
    "\n",
    "data = np.loadtxt('height_weight(p).txt', delimiter=\",\")"
   ]
  },
  {
   "cell_type": "markdown",
   "id": "cbf988fa-f299-4f39-89b8-f4105715ccf4",
   "metadata": {},
   "source": [
    "### 데이터 설명\n",
    "- 0행은 키 정보 데이터\n",
    "- 키 데이터는 cm 단위로 되어있다.\n",
    "- 1행은 몸무게 정보 데이터\n",
    "- 몸무게 데이터는 pound 단위로 되어있다.\n",
    "- 키는 m단위 몸무게는 kg 단위로 단위변환이 필요"
   ]
  },
  {
   "cell_type": "code",
   "execution_count": 74,
   "id": "8b0904b5-8398-4c6f-b752-9e4edee99c8c",
   "metadata": {},
   "outputs": [
    {
     "name": "stdout",
     "output_type": "stream",
     "text": [
      "(2, 10)\n",
      "2\n"
     ]
    }
   ],
   "source": [
    "# 데이터의 크기(모양),차원 확인\n",
    "print(data.shape)\n",
    "print(data.ndim)"
   ]
  },
  {
   "cell_type": "code",
   "execution_count": 94,
   "id": "3108ea03-99f6-4419-b716-ec1d89498b7b",
   "metadata": {},
   "outputs": [
    {
     "data": {
      "text/plain": [
       "array([21.37153104, 27.07018468, 25.86122449, 24.20652885, 16.03543423,\n",
       "       20.14486193, 23.14392095, 21.69720651, 23.62028791, 25.59220998])"
      ]
     },
     "execution_count": 94,
     "metadata": {},
     "output_type": "execute_result"
    }
   ],
   "source": [
    "# 1. 키 데이터 인덱싱으로 가져오기 -> h변수에 담아주기\n",
    "h = data[0]\n",
    "# 2. 몸무게 데이터 인덱싱으로 가져오기 -> w변수에 담아주기\n",
    "w = data[1]\n",
    "# 3. 키 데이터는 cm -> m 단위변환\n",
    "h = h*0.01 # numpy의 요소별 연산\n",
    "# cm * 0.01\n",
    "# 4. 몸무게 데이터 pond -> kg로 반위변환\n",
    "# pound / 2.204\n",
    "w = w/2.204 # numpy의 요소별 연산\n",
    "# 5. bmi 지수 구하기 공식 -> 몸무게(kg) / 키(m) * 키(m)\n",
    "bmi = w/(h*h) # numpy의 요소별 연산\n",
    "bmi"
   ]
  },
  {
   "cell_type": "code",
   "execution_count": null,
   "id": "5593e1cf-38cd-46d6-af62-8344bf89d4a5",
   "metadata": {},
   "outputs": [],
   "source": []
  }
 ],
 "metadata": {
  "kernelspec": {
   "display_name": "Python 3 (ipykernel)",
   "language": "python",
   "name": "python3"
  },
  "language_info": {
   "codemirror_mode": {
    "name": "ipython",
    "version": 3
   },
   "file_extension": ".py",
   "mimetype": "text/x-python",
   "name": "python",
   "nbconvert_exporter": "python",
   "pygments_lexer": "ipython3",
   "version": "3.11.7"
  }
 },
 "nbformat": 4,
 "nbformat_minor": 5
}
