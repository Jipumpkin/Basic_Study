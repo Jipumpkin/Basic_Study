{
 "cells": [
  {
   "cell_type": "markdown",
   "id": "8f4b667e-af53-47b0-99a6-7803c466690e",
   "metadata": {},
   "source": [
    "### 반복문\n",
    "- 종류 : for문, while문\n",
    "- for문 : 반복횟수가 정해져 있을 때 -> 리스트나 튜플의 길이\n",
    "- while문 : 반복횟수가 정해져있지 않을 때"
   ]
  },
  {
   "cell_type": "code",
   "execution_count": 1,
   "id": "7cad85cc-05ce-44f6-9f9d-f0c789685a44",
   "metadata": {},
   "outputs": [
    {
     "name": "stdout",
     "output_type": "stream",
     "text": [
      "1\n",
      "2\n"
     ]
    }
   ],
   "source": [
    "# 반복문은 언제 써야할까 --> 코드가 길어지거나 복잡하면 반복문\n",
    "# 반복되어야 일처리가 편한 실행문장에서 변하는 부분만 변수처리\n",
    "a = 1\n",
    "print(a*1)\n",
    "print(a*2)\n",
    "# ... -> 반복되는 부분은?"
   ]
  },
  {
   "cell_type": "code",
   "execution_count": 7,
   "id": "cf8b7a57-4ad7-47aa-a2aa-2a13d21c074c",
   "metadata": {},
   "outputs": [
    {
     "name": "stdout",
     "output_type": "stream",
     "text": [
      "1\n",
      "2\n",
      "3\n",
      "4\n",
      "5\n",
      "6\n",
      "7\n",
      "8\n",
      "9\n"
     ]
    }
   ],
   "source": [
    "a = 1\n",
    "for i in range(1, 10, 1):\n",
    "    print(a*i)"
   ]
  },
  {
   "cell_type": "markdown",
   "id": "aa57d5c2-7a3a-4358-a4ba-445f93c37b4c",
   "metadata": {},
   "source": [
    "1. while 문 실습예제) 다이어트 관리 ㅍ로그램 -> 현재 몸무게와 목표 몸무게를 입력받고 주차별 감량 몸무게를 입력받음, 목표몸무게를 달성하면 축하문구와 입력종료"
   ]
  },
  {
   "cell_type": "code",
   "execution_count": 15,
   "id": "c89362ef-72cb-4a85-8da6-0542b20a6cd3",
   "metadata": {},
   "outputs": [
    {
     "name": "stdin",
     "output_type": "stream",
     "text": [
      "현재 몸무게를 입력> 80\n",
      "목표 몸무게를 입력>  60\n",
      "1주차 감량 몸무게> 20\n"
     ]
    },
    {
     "name": "stdout",
     "output_type": "stream",
     "text": [
      "ㅊㅋ\n"
     ]
    }
   ],
   "source": [
    "현재몸무게 = int(input(\"현재 몸무게를 입력>\"))\n",
    "목표몸무게 = int(input(\"목표 몸무게를 입력>\"))\n",
    "주차 = 1\n",
    "while 현재몸무게>목표몸무게 :\n",
    "    감량몸무게 = int(input(f'{주차}주차 감량 몸무게>'))\n",
    "    현재몸무게 -= 감량몸무게\n",
    "\n",
    "print(f'{목표몸무게} 달성 ㅊㅋ')"
   ]
  },
  {
   "cell_type": "markdown",
   "id": "2551b81a-cdcf-47cf-a67a-c006f0e1c78d",
   "metadata": {},
   "source": [
    "### for문\n",
    "- 반복횟수가 정해져있는 리스트, 튜플, 문자열과 같은 집합에서 사용"
   ]
  },
  {
   "cell_type": "code",
   "execution_count": 20,
   "id": "b8081002-90b9-4ac5-b07b-0e4027ef3648",
   "metadata": {},
   "outputs": [
    {
     "name": "stdout",
     "output_type": "stream",
     "text": [
      "햄버거\n",
      "치킨\n",
      "피자\n"
     ]
    }
   ],
   "source": [
    "list_food = ['햄버거','치킨','피자']\n",
    "for food in list_food:\n",
    "    print(food)"
   ]
  },
  {
   "cell_type": "markdown",
   "id": "0c118f54-78b8-44ba-8836-aa92005234a5",
   "metadata": {},
   "source": [
    "- for-range함수"
   ]
  },
  {
   "cell_type": "code",
   "execution_count": 23,
   "id": "cc5f1093-2cbc-488a-8c81-bbf602206b27",
   "metadata": {},
   "outputs": [
    {
     "data": {
      "text/plain": [
       "range(1, 10)"
      ]
     },
     "execution_count": 23,
     "metadata": {},
     "output_type": "execute_result"
    }
   ],
   "source": [
    "# range(시작할 숫자, 종료할 숫자, 증감량)\n",
    "range(1,10,1)\n"
   ]
  },
  {
   "cell_type": "code",
   "execution_count": 27,
   "id": "34486503-ab0f-4bf4-a692-e0ce18db5139",
   "metadata": {},
   "outputs": [
    {
     "name": "stdout",
     "output_type": "stream",
     "text": [
      "1 2 3 4 5 6 7 8 9 "
     ]
    }
   ],
   "source": [
    "for i in range(1,10):\n",
    "    print(i, end = \" \")"
   ]
  },
  {
   "cell_type": "markdown",
   "id": "cb63e390-1a07-4a43-b9f1-4007d5e3f46b",
   "metadata": {},
   "source": [
    "- for문 예제) 숫자를 입력 받아서 입력받은 숫자의 약수를 구하시오."
   ]
  },
  {
   "cell_type": "code",
   "execution_count": 32,
   "id": "0730ff2c-578d-467b-8058-01cb5ef852c2",
   "metadata": {},
   "outputs": [
    {
     "name": "stdin",
     "output_type": "stream",
     "text": [
      "정수 입력 >  90\n"
     ]
    },
    {
     "name": "stdout",
     "output_type": "stream",
     "text": [
      "약수 >  1 2 3 5 6 9 10 15 18 30 45 90 "
     ]
    }
   ],
   "source": [
    "num = int(input('정수 입력 > '))\n",
    "\n",
    "print(\"약수 > \", end = \" \")\n",
    "for i in range(1,num+1) :\n",
    "    if num%i == 0:\n",
    "        print(i, end = \" \")"
   ]
  },
  {
   "cell_type": "code",
   "execution_count": null,
   "id": "f77ccfd7-4449-4633-8f9e-fc3434c23189",
   "metadata": {},
   "outputs": [],
   "source": []
  }
 ],
 "metadata": {
  "kernelspec": {
   "display_name": "Python 3 (ipykernel)",
   "language": "python",
   "name": "python3"
  },
  "language_info": {
   "codemirror_mode": {
    "name": "ipython",
    "version": 3
   },
   "file_extension": ".py",
   "mimetype": "text/x-python",
   "name": "python",
   "nbconvert_exporter": "python",
   "pygments_lexer": "ipython3",
   "version": "3.11.7"
  }
 },
 "nbformat": 4,
 "nbformat_minor": 5
}
