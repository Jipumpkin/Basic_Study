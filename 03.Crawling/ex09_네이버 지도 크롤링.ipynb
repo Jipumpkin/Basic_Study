{
 "cells": [
  {
   "cell_type": "code",
   "execution_count": 1,
   "id": "1143448c-c1da-45d6-ba8d-afb5304df8fa",
   "metadata": {},
   "outputs": [],
   "source": [
    "# 라이브러리 불러오기\n",
    "\n",
    "# ChromeDrierManager, Service 라이브러리를 사용하여\n",
    "# Chromedriver(컴퓨터용 크롬창) 를 관리\n",
    "\n",
    "from selenium.webdriver.chrome.service import Service\n",
    "from webdriver_manager.chrome import ChromeDriverManager\n",
    "\n",
    "from selenium import webdriver as wb                 # 컴퓨터용 브라우저\n",
    "from selenium.webdriver.common.keys import Keys      # 컴퓨터용 키보드\n",
    "from selenium.webdriver.common.by import By          # 기준 -> 선택자 지정 방식\n",
    "\n",
    "import time"
   ]
  },
  {
   "cell_type": "code",
   "execution_count": 3,
   "id": "187ea46c-2a17-4cd7-91cb-79b3b60d1314",
   "metadata": {},
   "outputs": [],
   "source": [
    "# 브라우저 열기\n",
    "s = Service(ChromeDriverManager().install())\n",
    "driver = wb.Chrome(service = s)\n",
    "driver.get(\"https://map.naver.com/p?c=15.00,0,0,0,dh\")"
   ]
  },
  {
   "cell_type": "code",
   "execution_count": 27,
   "id": "2a4f5c51-ef0d-4cfe-a72e-7823a9acf08b",
   "metadata": {},
   "outputs": [],
   "source": [
    "search = driver.find_element(By.CLASS_NAME,'input_search')\n",
    "\n",
    "search.send_keys('동명동맛집', Keys.ENTER)\n",
    "\n"
   ]
  },
  {
   "cell_type": "code",
   "execution_count": 37,
   "id": "2f1bd7d0-da42-4106-95f5-cb7ce93f70dc",
   "metadata": {},
   "outputs": [
    {
     "ename": "NoSuchElementException",
     "evalue": "Message: no such element: Unable to locate element: {\"method\":\"css selector\",\"selector\":\"span.place_bluelink.TYaxT\"}\n  (Session info: chrome=127.0.6533.120); For documentation on this error, please visit: https://www.selenium.dev/documentation/webdriver/troubleshooting/errors#no-such-element-exception\nStacktrace:\n\tGetHandleVerifier [0x00E28923+23283]\n\t(No symbol) [0x00DEE934]\n\t(No symbol) [0x00D20733]\n\t(No symbol) [0x00D6326F]\n\t(No symbol) [0x00D634AB]\n\t(No symbol) [0x00D9EE42]\n\t(No symbol) [0x00D84464]\n\t(No symbol) [0x00D9CB8D]\n\t(No symbol) [0x00D841B6]\n\t(No symbol) [0x00D58017]\n\t(No symbol) [0x00D5890D]\n\tGetHandleVerifier [0x00F1A5F3+1013699]\n\tGetHandleVerifier [0x00F23E4C+1052700]\n\tGetHandleVerifier [0x00F1D4B4+1025668]\n\tGetHandleVerifier [0x00E4EA2B+179195]\n\t(No symbol) [0x00DF6833]\n\t(No symbol) [0x00DF3198]\n\t(No symbol) [0x00DF3337]\n\t(No symbol) [0x00DEB4BE]\n\tBaseThreadInitThunk [0x75A2FCC9+25]\n\tRtlGetAppContainerNamedObjectPath [0x77857B1E+286]\n\tRtlGetAppContainerNamedObjectPath [0x77857AEE+238]\n",
     "output_type": "error",
     "traceback": [
      "\u001b[1;31m---------------------------------------------------------------------------\u001b[0m",
      "\u001b[1;31mNoSuchElementException\u001b[0m                    Traceback (most recent call last)",
      "Cell \u001b[1;32mIn[37], line 1\u001b[0m\n\u001b[1;32m----> 1\u001b[0m driver\u001b[38;5;241m.\u001b[39mfind_element(By\u001b[38;5;241m.\u001b[39mCSS_SELECTOR, \u001b[38;5;124m'\u001b[39m\u001b[38;5;124mspan.place_bluelink.TYaxT\u001b[39m\u001b[38;5;124m'\u001b[39m)\n",
      "File \u001b[1;32m~\\anaconda3\\Lib\\site-packages\\selenium\\webdriver\\remote\\webdriver.py:748\u001b[0m, in \u001b[0;36mWebDriver.find_element\u001b[1;34m(self, by, value)\u001b[0m\n\u001b[0;32m    745\u001b[0m     by \u001b[38;5;241m=\u001b[39m By\u001b[38;5;241m.\u001b[39mCSS_SELECTOR\n\u001b[0;32m    746\u001b[0m     value \u001b[38;5;241m=\u001b[39m \u001b[38;5;124mf\u001b[39m\u001b[38;5;124m'\u001b[39m\u001b[38;5;124m[name=\u001b[39m\u001b[38;5;124m\"\u001b[39m\u001b[38;5;132;01m{\u001b[39;00mvalue\u001b[38;5;132;01m}\u001b[39;00m\u001b[38;5;124m\"\u001b[39m\u001b[38;5;124m]\u001b[39m\u001b[38;5;124m'\u001b[39m\n\u001b[1;32m--> 748\u001b[0m \u001b[38;5;28;01mreturn\u001b[39;00m \u001b[38;5;28mself\u001b[39m\u001b[38;5;241m.\u001b[39mexecute(Command\u001b[38;5;241m.\u001b[39mFIND_ELEMENT, {\u001b[38;5;124m\"\u001b[39m\u001b[38;5;124musing\u001b[39m\u001b[38;5;124m\"\u001b[39m: by, \u001b[38;5;124m\"\u001b[39m\u001b[38;5;124mvalue\u001b[39m\u001b[38;5;124m\"\u001b[39m: value})[\u001b[38;5;124m\"\u001b[39m\u001b[38;5;124mvalue\u001b[39m\u001b[38;5;124m\"\u001b[39m]\n",
      "File \u001b[1;32m~\\anaconda3\\Lib\\site-packages\\selenium\\webdriver\\remote\\webdriver.py:354\u001b[0m, in \u001b[0;36mWebDriver.execute\u001b[1;34m(self, driver_command, params)\u001b[0m\n\u001b[0;32m    352\u001b[0m response \u001b[38;5;241m=\u001b[39m \u001b[38;5;28mself\u001b[39m\u001b[38;5;241m.\u001b[39mcommand_executor\u001b[38;5;241m.\u001b[39mexecute(driver_command, params)\n\u001b[0;32m    353\u001b[0m \u001b[38;5;28;01mif\u001b[39;00m response:\n\u001b[1;32m--> 354\u001b[0m     \u001b[38;5;28mself\u001b[39m\u001b[38;5;241m.\u001b[39merror_handler\u001b[38;5;241m.\u001b[39mcheck_response(response)\n\u001b[0;32m    355\u001b[0m     response[\u001b[38;5;124m\"\u001b[39m\u001b[38;5;124mvalue\u001b[39m\u001b[38;5;124m\"\u001b[39m] \u001b[38;5;241m=\u001b[39m \u001b[38;5;28mself\u001b[39m\u001b[38;5;241m.\u001b[39m_unwrap_value(response\u001b[38;5;241m.\u001b[39mget(\u001b[38;5;124m\"\u001b[39m\u001b[38;5;124mvalue\u001b[39m\u001b[38;5;124m\"\u001b[39m, \u001b[38;5;28;01mNone\u001b[39;00m))\n\u001b[0;32m    356\u001b[0m     \u001b[38;5;28;01mreturn\u001b[39;00m response\n",
      "File \u001b[1;32m~\\anaconda3\\Lib\\site-packages\\selenium\\webdriver\\remote\\errorhandler.py:229\u001b[0m, in \u001b[0;36mErrorHandler.check_response\u001b[1;34m(self, response)\u001b[0m\n\u001b[0;32m    227\u001b[0m         alert_text \u001b[38;5;241m=\u001b[39m value[\u001b[38;5;124m\"\u001b[39m\u001b[38;5;124malert\u001b[39m\u001b[38;5;124m\"\u001b[39m]\u001b[38;5;241m.\u001b[39mget(\u001b[38;5;124m\"\u001b[39m\u001b[38;5;124mtext\u001b[39m\u001b[38;5;124m\"\u001b[39m)\n\u001b[0;32m    228\u001b[0m     \u001b[38;5;28;01mraise\u001b[39;00m exception_class(message, screen, stacktrace, alert_text)  \u001b[38;5;66;03m# type: ignore[call-arg]  # mypy is not smart enough here\u001b[39;00m\n\u001b[1;32m--> 229\u001b[0m \u001b[38;5;28;01mraise\u001b[39;00m exception_class(message, screen, stacktrace)\n",
      "\u001b[1;31mNoSuchElementException\u001b[0m: Message: no such element: Unable to locate element: {\"method\":\"css selector\",\"selector\":\"span.place_bluelink.TYaxT\"}\n  (Session info: chrome=127.0.6533.120); For documentation on this error, please visit: https://www.selenium.dev/documentation/webdriver/troubleshooting/errors#no-such-element-exception\nStacktrace:\n\tGetHandleVerifier [0x00E28923+23283]\n\t(No symbol) [0x00DEE934]\n\t(No symbol) [0x00D20733]\n\t(No symbol) [0x00D6326F]\n\t(No symbol) [0x00D634AB]\n\t(No symbol) [0x00D9EE42]\n\t(No symbol) [0x00D84464]\n\t(No symbol) [0x00D9CB8D]\n\t(No symbol) [0x00D841B6]\n\t(No symbol) [0x00D58017]\n\t(No symbol) [0x00D5890D]\n\tGetHandleVerifier [0x00F1A5F3+1013699]\n\tGetHandleVerifier [0x00F23E4C+1052700]\n\tGetHandleVerifier [0x00F1D4B4+1025668]\n\tGetHandleVerifier [0x00E4EA2B+179195]\n\t(No symbol) [0x00DF6833]\n\t(No symbol) [0x00DF3198]\n\t(No symbol) [0x00DF3337]\n\t(No symbol) [0x00DEB4BE]\n\tBaseThreadInitThunk [0x75A2FCC9+25]\n\tRtlGetAppContainerNamedObjectPath [0x77857B1E+286]\n\tRtlGetAppContainerNamedObjectPath [0x77857AEE+238]\n"
     ]
    }
   ],
   "source": [
    "driver.find_element(By.CSS_SELECTOR, 'span.place_bluelink.TYaxT')\n",
    "# iframe 안에 있는 데이터이기 때문에 요소를 찾을 수 없음"
   ]
  },
  {
   "cell_type": "code",
   "execution_count": 39,
   "id": "017af99f-99a6-4230-9e41-00a6c3c0ca83",
   "metadata": {},
   "outputs": [],
   "source": [
    "# 해당 iframe 으로 접근\n",
    "driver.switch_to.default_content()\n",
    "driver.switch_to.frame('searchIframe')"
   ]
  },
  {
   "cell_type": "code",
   "execution_count": 55,
   "id": "01d4db7d-71c9-4409-ad37-9486fcc08bbc",
   "metadata": {},
   "outputs": [],
   "source": [
    "# 기게 이름 수집\n",
    "title = driver.find_elements(By.CSS_SELECTOR, 'span.place_bluelink.TYaxT')"
   ]
  },
  {
   "cell_type": "code",
   "execution_count": 57,
   "id": "4c9fdb83-34d2-4534-9d65-cd5a12ffe923",
   "metadata": {},
   "outputs": [
    {
     "data": {
      "text/plain": [
       "'쭈꾸미잡스'"
      ]
     },
     "execution_count": 57,
     "metadata": {},
     "output_type": "execute_result"
    }
   ],
   "source": [
    "title[0].text"
   ]
  },
  {
   "cell_type": "code",
   "execution_count": 59,
   "id": "0cbac644-e255-4f77-9ec6-c2b2ebbbbcc9",
   "metadata": {},
   "outputs": [
    {
     "name": "stdout",
     "output_type": "stream",
     "text": [
      "쭈꾸미잡스\n",
      "캬베츠\n",
      "레브\n",
      "목하식당\n",
      "싱푸미엔관 광주점\n",
      "사월의파랑\n",
      "오펜스커피\n",
      "송경솥밥\n",
      "원 나인스 텐드\n",
      "화조사\n",
      "캬베츠\n",
      "프랭크커핀바 광주동명점\n",
      "컴피코지\n",
      "피스커피랩\n",
      "미미원\n",
      "육값어치\n",
      "산수쌈밥 동명점\n",
      "동백카츠 동명점\n",
      "동명동오보에루\n",
      "꾀꾀로\n",
      "본투비버거 본점\n",
      "대풍쪽갈비 본점\n",
      "규슈\n",
      "오감탄\n",
      "규슈\n",
      "티앗\n",
      "카페 드 토스트\n",
      "폴리아\n",
      "라그로쏘\n",
      "천지라멘\n",
      "왕산식당 동명점\n",
      "한식경\n",
      "돌애\n",
      "멜크\n",
      "황톳길\n",
      "소보쿠\n",
      "돈부리바쇼 유메노덴\n",
      "야키토리 도요\n",
      "구미구미\n",
      "라이드올스테이카페클럽\n",
      "윤슬베이커리\n",
      "블루웨일\n",
      "코코로나인\n",
      "사랑과평화\n",
      "계주\n",
      "틸트틸트 동명\n",
      "정희 동명점\n",
      "틸트틸트 동명\n",
      "고강도\n",
      "츠바메\n",
      "동명동2F\n",
      "재주당 동명점\n",
      "퀴비\n",
      "쎄쎄쎄\n",
      "온우\n",
      "중정\n",
      "소바 쿄다이\n",
      "포카포카\n",
      "코코네\n",
      "동명 모락\n",
      "미노라멘 동명본점\n",
      "부엌간 동명 직영점\n",
      "도피 동명점\n",
      "아우르 광주동명본점\n",
      "파블로츄러스\n",
      "쭈꾸미잡스\n",
      "녹는당\n",
      "차오르면\n",
      "연어쁘다 광주본점\n",
      "마당집\n",
      "900달러\n",
      "델리셔스샌드위치\n",
      "바다포차돌섬\n",
      "달곰식당\n",
      "파트 오브 런던\n",
      "행복경양식\n"
     ]
    }
   ],
   "source": [
    "for i in title:\n",
    "    print(i.text)"
   ]
  },
  {
   "cell_type": "code",
   "execution_count": 51,
   "id": "5ae3e9a6-306b-4cf9-b570-c6941bf14994",
   "metadata": {},
   "outputs": [],
   "source": [
    "# iframe 스크롤 내리는 방법\n",
    "# 1. 드라이버에게 iframe 위치 설정\n",
    "driver.switch_to.default_content() # 초기화\n",
    "driver.switch_to.frame('searchIframe') # 맛집 프레임 접근\n",
    "# 2. 화면이 분리되어있기 때문에 내릴 영역을 선택\n",
    "div = driver.find_element(By.CSS_SELECTOR, 'div.Ryr1F')\n",
    "div.click()\n",
    "# 3. 스크롤 내리기\n",
    "for i in range(5):\n",
    "    body = driver.find_element(By.CSS_SELECTOR, 'body')\n",
    "    body.send_keys(Keys.END)\n",
    "    time.sleep(1)"
   ]
  },
  {
   "cell_type": "code",
   "execution_count": null,
   "id": "3a250fb6-1ea2-4578-8dca-b2e2d118a0e9",
   "metadata": {},
   "outputs": [],
   "source": []
  },
  {
   "cell_type": "code",
   "execution_count": null,
   "id": "45e7be85-5d2e-4489-bb98-924be9b4025e",
   "metadata": {},
   "outputs": [],
   "source": []
  },
  {
   "cell_type": "code",
   "execution_count": null,
   "id": "433b1a3e-3cfd-49c4-bdbe-5620f3b3f346",
   "metadata": {},
   "outputs": [],
   "source": []
  },
  {
   "cell_type": "code",
   "execution_count": null,
   "id": "8372e47f-35dd-401b-b0bd-313e743b3da9",
   "metadata": {},
   "outputs": [],
   "source": []
  },
  {
   "cell_type": "code",
   "execution_count": null,
   "id": "75a6039c-059b-49f6-a5be-ac19c204a6cc",
   "metadata": {},
   "outputs": [],
   "source": []
  },
  {
   "cell_type": "code",
   "execution_count": null,
   "id": "3aface57-966a-4285-8aa5-a8055d0d69dc",
   "metadata": {},
   "outputs": [],
   "source": []
  },
  {
   "cell_type": "code",
   "execution_count": null,
   "id": "f9feafbc-5d7d-463a-872a-eaf2e89db09e",
   "metadata": {},
   "outputs": [],
   "source": []
  },
  {
   "cell_type": "code",
   "execution_count": null,
   "id": "dd163b76-4c59-47de-9f8d-506731ffb33f",
   "metadata": {},
   "outputs": [],
   "source": []
  },
  {
   "cell_type": "code",
   "execution_count": null,
   "id": "6d94e797-600b-4e7e-88af-085266e497b6",
   "metadata": {},
   "outputs": [],
   "source": []
  },
  {
   "cell_type": "code",
   "execution_count": null,
   "id": "7f9b2322-97cf-4c4c-840c-66c12825a11d",
   "metadata": {},
   "outputs": [],
   "source": []
  },
  {
   "cell_type": "code",
   "execution_count": null,
   "id": "cde7a2df-5358-4e7d-8ef5-ace51968140b",
   "metadata": {},
   "outputs": [],
   "source": []
  },
  {
   "cell_type": "code",
   "execution_count": null,
   "id": "e00dee3d-a119-445c-a7bd-ff7c60164676",
   "metadata": {},
   "outputs": [],
   "source": []
  },
  {
   "cell_type": "code",
   "execution_count": null,
   "id": "6998ed9e-c6aa-48e7-8666-1fc44afe4ae1",
   "metadata": {},
   "outputs": [],
   "source": []
  },
  {
   "cell_type": "code",
   "execution_count": null,
   "id": "8cf357b4-6943-4907-9972-d85837663d4c",
   "metadata": {},
   "outputs": [],
   "source": []
  },
  {
   "cell_type": "code",
   "execution_count": null,
   "id": "a3c3b380-6c45-476c-a9f5-1ca2a7e590d3",
   "metadata": {},
   "outputs": [],
   "source": []
  },
  {
   "cell_type": "code",
   "execution_count": null,
   "id": "875f2e18-cb8f-42a0-8883-dd664b5b1f32",
   "metadata": {},
   "outputs": [],
   "source": []
  },
  {
   "cell_type": "code",
   "execution_count": null,
   "id": "30badb12-eff4-4411-b33b-bc2aab8ad719",
   "metadata": {},
   "outputs": [],
   "source": []
  },
  {
   "cell_type": "code",
   "execution_count": null,
   "id": "e544aec4-bb1c-4ec2-a5b9-936b22a1aaab",
   "metadata": {},
   "outputs": [],
   "source": []
  },
  {
   "cell_type": "code",
   "execution_count": null,
   "id": "cec56f8f-265d-4e7f-9123-1292fe28b370",
   "metadata": {},
   "outputs": [],
   "source": []
  },
  {
   "cell_type": "code",
   "execution_count": null,
   "id": "15968a7b-5b73-4590-9007-57be63045fde",
   "metadata": {},
   "outputs": [],
   "source": []
  },
  {
   "cell_type": "code",
   "execution_count": null,
   "id": "76c553c3-5b7c-4b6b-9ee6-da673bfb6d61",
   "metadata": {},
   "outputs": [],
   "source": []
  },
  {
   "cell_type": "code",
   "execution_count": null,
   "id": "8f1eb4cb-9fae-412b-b59f-eaae4cc105a0",
   "metadata": {},
   "outputs": [],
   "source": []
  },
  {
   "cell_type": "code",
   "execution_count": null,
   "id": "0b1c374e-b36d-430a-a3ef-6823d731b133",
   "metadata": {},
   "outputs": [],
   "source": []
  },
  {
   "cell_type": "code",
   "execution_count": null,
   "id": "898c817c-56ce-4469-8fe2-6749eecc7bbc",
   "metadata": {},
   "outputs": [],
   "source": []
  },
  {
   "cell_type": "code",
   "execution_count": null,
   "id": "fde50497-ab27-48dd-8022-4e338eae0cae",
   "metadata": {},
   "outputs": [],
   "source": []
  },
  {
   "cell_type": "code",
   "execution_count": null,
   "id": "06d4a866-e96b-46c3-a6e5-ecf15ba78e8d",
   "metadata": {},
   "outputs": [],
   "source": []
  },
  {
   "cell_type": "code",
   "execution_count": null,
   "id": "8998ced4-5919-4fb0-beed-cb5af8378892",
   "metadata": {},
   "outputs": [],
   "source": []
  },
  {
   "cell_type": "code",
   "execution_count": null,
   "id": "2a85d05e-fe7d-47bc-a6e6-8ea6ad172627",
   "metadata": {},
   "outputs": [],
   "source": []
  },
  {
   "cell_type": "code",
   "execution_count": null,
   "id": "f3fc2326-3c9d-4a2d-910a-94593dfe5487",
   "metadata": {},
   "outputs": [],
   "source": []
  },
  {
   "cell_type": "code",
   "execution_count": null,
   "id": "a7b0557f-69e4-4b96-a078-6c12b909e6c0",
   "metadata": {},
   "outputs": [],
   "source": []
  },
  {
   "cell_type": "code",
   "execution_count": null,
   "id": "57900db3-4921-43a1-bead-9655bd43d9e0",
   "metadata": {},
   "outputs": [],
   "source": []
  },
  {
   "cell_type": "code",
   "execution_count": null,
   "id": "28ab51d5-da92-44f6-8374-b7d93117caf2",
   "metadata": {},
   "outputs": [],
   "source": []
  },
  {
   "cell_type": "code",
   "execution_count": null,
   "id": "4dc2aad7-4951-44bc-9136-1c52a21f1aec",
   "metadata": {},
   "outputs": [],
   "source": []
  },
  {
   "cell_type": "code",
   "execution_count": null,
   "id": "dd089e87-f98b-414d-a697-f950c56da092",
   "metadata": {},
   "outputs": [],
   "source": []
  },
  {
   "cell_type": "code",
   "execution_count": null,
   "id": "442b2c59-73fc-4e62-bf3e-b2ebf8194208",
   "metadata": {},
   "outputs": [],
   "source": []
  },
  {
   "cell_type": "code",
   "execution_count": null,
   "id": "8d6df588-7534-4f2d-ab2d-d2b94683279b",
   "metadata": {},
   "outputs": [],
   "source": []
  },
  {
   "cell_type": "code",
   "execution_count": null,
   "id": "2c41a044-74c3-49dc-9b76-6ba8d2272910",
   "metadata": {},
   "outputs": [],
   "source": []
  }
 ],
 "metadata": {
  "kernelspec": {
   "display_name": "Python 3 (ipykernel)",
   "language": "python",
   "name": "python3"
  },
  "language_info": {
   "codemirror_mode": {
    "name": "ipython",
    "version": 3
   },
   "file_extension": ".py",
   "mimetype": "text/x-python",
   "name": "python",
   "nbconvert_exporter": "python",
   "pygments_lexer": "ipython3",
   "version": "3.11.7"
  }
 },
 "nbformat": 4,
 "nbformat_minor": 5
}
