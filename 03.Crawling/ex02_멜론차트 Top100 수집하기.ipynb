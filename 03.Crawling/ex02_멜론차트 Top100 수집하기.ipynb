{
 "cells": [
  {
   "cell_type": "markdown",
   "id": "d3c4c122-507a-4310-90e4-b14c8b300e8c",
   "metadata": {},
   "source": [
    "### "
   ]
  },
  {
   "cell_type": "code",
   "execution_count": 1,
   "id": "fd5f3171-4453-431c-b1f6-5a06990692a3",
   "metadata": {},
   "outputs": [],
   "source": [
    "import requests as req # 페이지 정보를 요청하고 응답하는 라이브러리\n",
    "from bs4 import BeautifulSoup as bs # 응답받은 문자열 데이터를 html로 변경"
   ]
  },
  {
   "cell_type": "code",
   "execution_count": 7,
   "id": "1e6baa24-7ca8-4c37-974e-be325e3bd773",
   "metadata": {},
   "outputs": [
    {
     "data": {
      "text/plain": [
       "<Response [406]>"
      ]
     },
     "execution_count": 7,
     "metadata": {},
     "output_type": "execute_result"
    }
   ],
   "source": [
    "# melon 차트 페이지 정보 받아오기\n",
    "url = \"https://www.melon.com/chart/\"\n",
    "\n",
    "\n",
    "req.get(url)\n",
    "# Response [406]: 클라이언트의 요청에 문제 발생\n",
    "# 멜론페이지에서 브라우저가 아닌 파이썬 코드 즉 requests 라이브러리를 통해 접근한것을 인지했기때문에 접근 불가"
   ]
  },
  {
   "cell_type": "code",
   "execution_count": 9,
   "id": "9d257e18-d108-403b-aa22-eed48a946263",
   "metadata": {},
   "outputs": [],
   "source": [
    "# 브라우저를 통해 접근한것처럼 속여서 페이지 접근하기\n",
    "# 브라우저 정보를 포함시켜 페이지 요청하기\n",
    "# 브라우저 정보를 포함시켜 페이지 요청하기\n",
    "h = {'user-agent':'Mozilla/5.0 (Windows NT 10.0; Win64; x64) AppleWebKit/537.36 (KHTML, like Gecko) Chrome/127.0.0.0 Safari/537.36'}\n",
    "\n",
    "# headers라는 공간에 'user=agent' 값을 포함하여 포함하여 페이지정보 요청\n",
    "res = req.get(url, headers = h)\n",
    "\n",
    "# 페이지정보 beautifulsoup 갹채화 진행\n",
    "soup = bs(res.text, 'lxml')\n"
   ]
  },
  {
   "cell_type": "code",
   "execution_count": 11,
   "id": "8d023de7-d4d8-49d2-a169-f28d04105a18",
   "metadata": {},
   "outputs": [
    {
     "data": {
      "text/plain": [
       "[]"
      ]
     },
     "execution_count": 11,
     "metadata": {},
     "output_type": "execute_result"
    }
   ],
   "source": [
    "# 노래 제목 수집하기\n",
    "# 경로를 타고 타고 작성해주기\n",
    "soup.select('.ellipsis rank01>span>a')\n",
    "# 빈리스트 출력 -> 현재작성한 태그정보를 가진 요소를 찾을 수 없음을 의미"
   ]
  },
  {
   "cell_type": "code",
   "execution_count": 51,
   "id": "3796b4a8-202d-456a-888d-24969f1cf3ef",
   "metadata": {},
   "outputs": [
    {
     "data": {
      "text/plain": [
       "'Supernova'"
      ]
     },
     "execution_count": 51,
     "metadata": {},
     "output_type": "execute_result"
    }
   ],
   "source": [
    "# 공백을 . 으로 바꿔주기\n",
    "# 클래스가 2개인 태그. 이를 표시해주기 위해서 공백 -> .\n",
    "soup.select('.ellipsis.rank01>span>a')[0].text"
   ]
  },
  {
   "cell_type": "code",
   "execution_count": 53,
   "id": "d8ddfd1a-72c1-4924-9b33-22bbc0e1a856",
   "metadata": {},
   "outputs": [],
   "source": [
    "song = soup.select('.ellipsis.rank01>span>a')"
   ]
  },
  {
   "cell_type": "code",
   "execution_count": 25,
   "id": "8e872ec1-398e-437f-8f23-2c6f8cc50392",
   "metadata": {},
   "outputs": [
    {
     "data": {
      "text/plain": [
       "'aespa'"
      ]
     },
     "execution_count": 25,
     "metadata": {},
     "output_type": "execute_result"
    }
   ],
   "source": [
    "singers = soup.select('.ellipsis.rank02>a')\n",
    "\n",
    "singers[0].text"
   ]
  },
  {
   "cell_type": "code",
   "execution_count": 33,
   "id": "c250b119-9666-4108-b4d9-8f6506562fdf",
   "metadata": {},
   "outputs": [
    {
     "data": {
      "text/plain": [
       "106"
      ]
     },
     "execution_count": 33,
     "metadata": {},
     "output_type": "execute_result"
    }
   ],
   "source": [
    "# 데이터 수집을 할때 주의할점\n",
    "# 갯수가 정해진 데이터를 수집할때는 데이터 개수가 정확하게 가져와졌는지 확인해야함\n",
    "\n",
    "len(singers)\n",
    "\n",
    "# Top100 의 가수이름을 수집했는데 106명의 가수가 추출\n",
    "# 한 노래에 여러명의 가수가 노래를 부른 경우 각각의 가수가 수집됨\n",
    "# 가수들을 묶음으로 묶어서 추출 -> div 자체를 추출"
   ]
  },
  {
   "cell_type": "code",
   "execution_count": 37,
   "id": "620e710a-da1b-4927-b818-e05ad0cf3842",
   "metadata": {},
   "outputs": [
    {
     "data": {
      "text/plain": [
       "100"
      ]
     },
     "execution_count": 37,
     "metadata": {},
     "output_type": "execute_result"
    }
   ],
   "source": [
    "# div태그로 묶어서 하나로 추출\n",
    "temp2 = soup.select('div.ellipsis.rank02')\n",
    "len(temp2)"
   ]
  },
  {
   "cell_type": "code",
   "execution_count": 43,
   "id": "c5445f22-9f32-4e1c-bd2e-0bce71954f7d",
   "metadata": {},
   "outputs": [
    {
     "data": {
      "text/plain": [
       "'\\naespaaespa\\n'"
      ]
     },
     "execution_count": 43,
     "metadata": {},
     "output_type": "execute_result"
    }
   ],
   "source": [
    "# 확인\n",
    "temp2[0].text"
   ]
  },
  {
   "cell_type": "code",
   "execution_count": 45,
   "id": "08592f8e-e015-40cc-8421-e022a43b9aab",
   "metadata": {},
   "outputs": [],
   "source": [
    "# 가수이름이 2번 출력되는것을 확인\n",
    "# 태그분석을 해야함\n",
    "# div 태그 안에 span 태그가 하나 더 있는것을 확인\n",
    "# div 아래에 span태그 안에있는 태그들만 수집"
   ]
  },
  {
   "cell_type": "code",
   "execution_count": 55,
   "id": "0ade737d-919f-44a3-a5dd-5e06e6ad6e69",
   "metadata": {},
   "outputs": [],
   "source": [
    "#singer\n",
    "singer = soup.select('div.ellipsis.rank02>span')"
   ]
  },
  {
   "cell_type": "code",
   "execution_count": 71,
   "id": "efcadd5d-23d9-4591-803b-78952ab71554",
   "metadata": {},
   "outputs": [],
   "source": [
    "# 반복문을 통해서 list 에 순수한 콘텐츠가 담긴 데이터를 누적\n",
    "song_list = []\n",
    "singer_list = []\n",
    "rank_list = range(1,101)\n",
    "for i in range(len(song)):\n",
    "    song_list.append(song[i].text)\n",
    "    singer_list.append(singer[i].text)\n",
    "    "
   ]
  },
  {
   "cell_type": "code",
   "execution_count": 73,
   "id": "d551bc05-ee0f-4196-953c-f072d2057902",
   "metadata": {},
   "outputs": [],
   "source": [
    "# DataFrame\n",
    "import pandas as pd\n",
    "dic = {'노래제목':song_list, '가수':singer_list, '순위':rank_list}"
   ]
  },
  {
   "cell_type": "code",
   "execution_count": 77,
   "id": "e39d98ed-8820-4380-8e6f-58dbad65a209",
   "metadata": {},
   "outputs": [],
   "source": [
    "melon = pd.DataFrame(dic)"
   ]
  },
  {
   "cell_type": "code",
   "execution_count": 79,
   "id": "f2f2d56d-2236-424d-ad95-b91d8a011ac3",
   "metadata": {},
   "outputs": [],
   "source": [
    "melon.set_index('순위', inplace=True)"
   ]
  },
  {
   "cell_type": "code",
   "execution_count": 81,
   "id": "bb9c3d52-f975-4044-a9c2-579c1be92c32",
   "metadata": {},
   "outputs": [
    {
     "data": {
      "text/html": [
       "<div>\n",
       "<style scoped>\n",
       "    .dataframe tbody tr th:only-of-type {\n",
       "        vertical-align: middle;\n",
       "    }\n",
       "\n",
       "    .dataframe tbody tr th {\n",
       "        vertical-align: top;\n",
       "    }\n",
       "\n",
       "    .dataframe thead th {\n",
       "        text-align: right;\n",
       "    }\n",
       "</style>\n",
       "<table border=\"1\" class=\"dataframe\">\n",
       "  <thead>\n",
       "    <tr style=\"text-align: right;\">\n",
       "      <th></th>\n",
       "      <th>노래제목</th>\n",
       "      <th>가수</th>\n",
       "    </tr>\n",
       "    <tr>\n",
       "      <th>순위</th>\n",
       "      <th></th>\n",
       "      <th></th>\n",
       "    </tr>\n",
       "  </thead>\n",
       "  <tbody>\n",
       "    <tr>\n",
       "      <th>1</th>\n",
       "      <td>Supernova</td>\n",
       "      <td>aespa</td>\n",
       "    </tr>\n",
       "    <tr>\n",
       "      <th>2</th>\n",
       "      <td>클락션 (Klaxon)</td>\n",
       "      <td>(여자)아이들</td>\n",
       "    </tr>\n",
       "    <tr>\n",
       "      <th>3</th>\n",
       "      <td>How Sweet</td>\n",
       "      <td>NewJeans</td>\n",
       "    </tr>\n",
       "    <tr>\n",
       "      <th>4</th>\n",
       "      <td>Sticky</td>\n",
       "      <td>KISS OF LIFE</td>\n",
       "    </tr>\n",
       "    <tr>\n",
       "      <th>5</th>\n",
       "      <td>Small girl (feat. 도경수(D.O.))</td>\n",
       "      <td>이영지</td>\n",
       "    </tr>\n",
       "    <tr>\n",
       "      <th>...</th>\n",
       "      <td>...</td>\n",
       "      <td>...</td>\n",
       "    </tr>\n",
       "    <tr>\n",
       "      <th>96</th>\n",
       "      <td>Right Now</td>\n",
       "      <td>NewJeans</td>\n",
       "    </tr>\n",
       "    <tr>\n",
       "      <th>97</th>\n",
       "      <td>EASY</td>\n",
       "      <td>LE SSERAFIM (르세라핌)</td>\n",
       "    </tr>\n",
       "    <tr>\n",
       "      <th>98</th>\n",
       "      <td>내가 그댈</td>\n",
       "      <td>하동균</td>\n",
       "    </tr>\n",
       "    <tr>\n",
       "      <th>99</th>\n",
       "      <td>Who</td>\n",
       "      <td>지민</td>\n",
       "    </tr>\n",
       "    <tr>\n",
       "      <th>100</th>\n",
       "      <td>Siren</td>\n",
       "      <td>RIIZE</td>\n",
       "    </tr>\n",
       "  </tbody>\n",
       "</table>\n",
       "<p>100 rows × 2 columns</p>\n",
       "</div>"
      ],
      "text/plain": [
       "                             노래제목                  가수\n",
       "순위                                                   \n",
       "1                       Supernova               aespa\n",
       "2                    클락션 (Klaxon)             (여자)아이들\n",
       "3                       How Sweet            NewJeans\n",
       "4                          Sticky        KISS OF LIFE\n",
       "5    Small girl (feat. 도경수(D.O.))                 이영지\n",
       "..                            ...                 ...\n",
       "96                      Right Now            NewJeans\n",
       "97                           EASY  LE SSERAFIM (르세라핌)\n",
       "98                          내가 그댈                 하동균\n",
       "99                            Who                  지민\n",
       "100                         Siren               RIIZE\n",
       "\n",
       "[100 rows x 2 columns]"
      ]
     },
     "execution_count": 81,
     "metadata": {},
     "output_type": "execute_result"
    }
   ],
   "source": [
    "melon"
   ]
  },
  {
   "cell_type": "code",
   "execution_count": 83,
   "id": "0d47d43d-76a5-41aa-ad34-6b8477402f7a",
   "metadata": {},
   "outputs": [],
   "source": [
    "# DataFrame csv파일로 내보내기\n",
    "melon.to_csv('멜론차트.csv')"
   ]
  },
  {
   "cell_type": "code",
   "execution_count": null,
   "id": "e9fb01d4-9365-4fd5-9a39-bd08973613e6",
   "metadata": {},
   "outputs": [],
   "source": []
  },
  {
   "cell_type": "code",
   "execution_count": null,
   "id": "b7df57f8-1a1f-4af4-a405-a181d8bb77bf",
   "metadata": {},
   "outputs": [],
   "source": []
  },
  {
   "cell_type": "code",
   "execution_count": null,
   "id": "5596a0f2-fefe-42dd-981a-50e702490fd6",
   "metadata": {},
   "outputs": [],
   "source": []
  },
  {
   "cell_type": "code",
   "execution_count": null,
   "id": "4ad86e31-8418-45d1-a94e-2cf154cb87af",
   "metadata": {},
   "outputs": [],
   "source": []
  },
  {
   "cell_type": "code",
   "execution_count": null,
   "id": "143091c5-2de3-4203-b0a8-36ef7ebcddf1",
   "metadata": {},
   "outputs": [],
   "source": []
  },
  {
   "cell_type": "code",
   "execution_count": null,
   "id": "6bdce1b0-e640-4d45-aafe-65b01451e82d",
   "metadata": {},
   "outputs": [],
   "source": []
  },
  {
   "cell_type": "code",
   "execution_count": null,
   "id": "2f476a5c-87c9-465e-891b-5ceda3a5113a",
   "metadata": {},
   "outputs": [],
   "source": []
  },
  {
   "cell_type": "code",
   "execution_count": null,
   "id": "ee6b8688-e199-47fb-afa2-a6f4b20bbe7d",
   "metadata": {},
   "outputs": [],
   "source": []
  },
  {
   "cell_type": "code",
   "execution_count": null,
   "id": "13e1ab82-b7e4-4618-99c3-89e529e02ce6",
   "metadata": {},
   "outputs": [],
   "source": []
  },
  {
   "cell_type": "code",
   "execution_count": null,
   "id": "11cee123-f428-4747-a29a-b52e022795bb",
   "metadata": {},
   "outputs": [],
   "source": []
  },
  {
   "cell_type": "code",
   "execution_count": null,
   "id": "e15057f1-3f7d-4ff6-9c6a-c07e98a98dbe",
   "metadata": {},
   "outputs": [],
   "source": []
  },
  {
   "cell_type": "code",
   "execution_count": null,
   "id": "57e6b118-d1f7-4d43-a02f-bfbf44848da2",
   "metadata": {},
   "outputs": [],
   "source": []
  },
  {
   "cell_type": "code",
   "execution_count": null,
   "id": "c569ebb6-48ed-4617-9455-ef84c80fe7f0",
   "metadata": {},
   "outputs": [],
   "source": []
  },
  {
   "cell_type": "code",
   "execution_count": null,
   "id": "462cc7e9-71ce-4aaf-8bfa-9a51231eb45f",
   "metadata": {},
   "outputs": [],
   "source": []
  },
  {
   "cell_type": "code",
   "execution_count": null,
   "id": "64234f70-c157-4c18-bc00-e3369f71d566",
   "metadata": {},
   "outputs": [],
   "source": []
  },
  {
   "cell_type": "code",
   "execution_count": null,
   "id": "7acc28a8-5e07-4bb4-954b-cd4993ac4d8f",
   "metadata": {},
   "outputs": [],
   "source": []
  },
  {
   "cell_type": "code",
   "execution_count": null,
   "id": "420f4622-2881-4488-aafd-bad99f3a9acb",
   "metadata": {},
   "outputs": [],
   "source": []
  },
  {
   "cell_type": "code",
   "execution_count": null,
   "id": "6f6e88a1-9bbf-4d37-b7b7-67fa733d9610",
   "metadata": {},
   "outputs": [],
   "source": []
  },
  {
   "cell_type": "code",
   "execution_count": null,
   "id": "4c9e1a68-ed14-47d8-91a1-67c0c3cefdf3",
   "metadata": {},
   "outputs": [],
   "source": []
  },
  {
   "cell_type": "code",
   "execution_count": null,
   "id": "d6b3387b-e79c-4cd8-8307-6e91f6f59046",
   "metadata": {},
   "outputs": [],
   "source": []
  },
  {
   "cell_type": "code",
   "execution_count": null,
   "id": "f60e98c6-eb0e-4e36-aa31-ddc28ac4996f",
   "metadata": {},
   "outputs": [],
   "source": []
  },
  {
   "cell_type": "code",
   "execution_count": null,
   "id": "ec290eef-10d9-4ca8-ab65-698f52d667b0",
   "metadata": {},
   "outputs": [],
   "source": []
  },
  {
   "cell_type": "code",
   "execution_count": null,
   "id": "beba96b2-05d0-4a07-83a4-d1c638db6992",
   "metadata": {},
   "outputs": [],
   "source": []
  },
  {
   "cell_type": "code",
   "execution_count": null,
   "id": "d1011492-12b4-4d22-adaf-1175acd091b7",
   "metadata": {},
   "outputs": [],
   "source": []
  },
  {
   "cell_type": "code",
   "execution_count": null,
   "id": "37aa043d-0283-423a-9000-371183bab480",
   "metadata": {},
   "outputs": [],
   "source": []
  },
  {
   "cell_type": "code",
   "execution_count": null,
   "id": "81cc0f56-7d84-4151-a16d-09a4a168e29b",
   "metadata": {},
   "outputs": [],
   "source": []
  },
  {
   "cell_type": "code",
   "execution_count": null,
   "id": "46575b2c-37e8-4c24-82f1-b364765b90be",
   "metadata": {},
   "outputs": [],
   "source": []
  },
  {
   "cell_type": "code",
   "execution_count": null,
   "id": "556405d6-061d-4d6b-9193-3e46cf23c30e",
   "metadata": {},
   "outputs": [],
   "source": []
  }
 ],
 "metadata": {
  "kernelspec": {
   "display_name": "Python 3 (ipykernel)",
   "language": "python",
   "name": "python3"
  },
  "language_info": {
   "codemirror_mode": {
    "name": "ipython",
    "version": 3
   },
   "file_extension": ".py",
   "mimetype": "text/x-python",
   "name": "python",
   "nbconvert_exporter": "python",
   "pygments_lexer": "ipython3",
   "version": "3.11.7"
  }
 },
 "nbformat": 4,
 "nbformat_minor": 5
}
