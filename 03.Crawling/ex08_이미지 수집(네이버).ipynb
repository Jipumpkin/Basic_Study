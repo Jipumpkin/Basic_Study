{
 "cells": [
  {
   "cell_type": "code",
   "execution_count": 1,
   "id": "0728645d-5a91-4518-910a-8de44d9f6a5f",
   "metadata": {},
   "outputs": [],
   "source": [
    "# 1. 네이버 메인페이지열기\n",
    "# 2. 관심있는 키워드 검색하기 ('부산여행')\n",
    "# 3. 이미지 탭 클릭 -> 이미지 페이지로 이동\n",
    "# 4. 이미지 데이터 수집\n",
    "# 5. 폴더에 저장"
   ]
  },
  {
   "cell_type": "code",
   "execution_count": 3,
   "id": "9d06cf7d-2dc8-44ea-9c0d-a913e721fcbf",
   "metadata": {},
   "outputs": [],
   "source": [
    "# 라이브러리 불러오기\n",
    "\n",
    "# ChromeDrierManager, Service 라이브러리를 사용하여\n",
    "# Chromedriver(컴퓨터용 크롬창) 를 관리\n",
    "\n",
    "from selenium.webdriver.chrome.service import Service\n",
    "from webdriver_manager.chrome import ChromeDriverManager\n",
    "\n",
    "from selenium import webdriver as wb                 # 컴퓨터용 브라우저\n",
    "from selenium.webdriver.common.keys import Keys      # 컴퓨터용 키보드\n",
    "from selenium.webdriver.common.by import By          # 기준 -> 선택자 지정 방식\n",
    "\n",
    "# 폴더 생성 라이브러리 -> 파일시스템 라이브러리\n",
    "import os\n",
    "# 이미지처리 라이브러리 -> 수집한 이미지 경로 (src) -> 이미지파일로 변경\n",
    "from urllib.request import urlretrieve\n",
    "import time\n",
    "import pandas as pd"
   ]
  },
  {
   "cell_type": "code",
   "execution_count": 11,
   "id": "4dd564a8-f558-4093-8ac9-5ead5746c3fd",
   "metadata": {},
   "outputs": [
    {
     "name": "stdout",
     "output_type": "stream",
     "text": [
      "폴더생성\n"
     ]
    }
   ],
   "source": [
    "# os 라이브러리를 활용하여 폴더 생성\n",
    "# os.mkdir(\"경로/폴더명\")\n",
    "\n",
    "\n",
    "# 이미 존재하는 폴더 이름이라면 오류 발생\n",
    "# 이미 있는 폴더이름이면 있다고 출력\n",
    "\n",
    "if not os.path.isdir(\"C:/Users/USER/Desktop/네이버이미지\"):\n",
    "    print(\"폴더생성\")\n",
    "    os.mkdir(\"C:/Users/USER/Desktop/네이버이미지\")\n",
    "else :\n",
    "    print(\"이미 존재하는 폴더 이름임\")"
   ]
  },
  {
   "cell_type": "code",
   "execution_count": 5,
   "id": "9fa1e596-e188-4d0f-ad04-a5ddc58e8ad8",
   "metadata": {},
   "outputs": [],
   "source": [
    "# 브라우저 열기\n",
    "\n",
    "s = Service(ChromeDriverManager().install())\n",
    "\n",
    "driver = wb.Chrome(service = s)\n",
    "driver.get(\"https://www.naver.com/\")"
   ]
  },
  {
   "cell_type": "code",
   "execution_count": 19,
   "id": "44cbf64b-3401-4dbc-8e46-edb1d5b38c06",
   "metadata": {},
   "outputs": [],
   "source": [
    "# 1. 검색창 위치 찾기\n",
    "search = driver.find_element(By.ID,'query')"
   ]
  },
  {
   "cell_type": "code",
   "execution_count": 21,
   "id": "bf51ff20-3965-40c5-b32a-3bf486c9d401",
   "metadata": {},
   "outputs": [],
   "source": [
    "search.send_keys('엄준식')\n",
    "\n",
    "# 돋보기버튼 클릭을 통한 검색\n",
    "btn = driver.find_element(By.CLASS_NAME, 'btn_search')\n",
    "btn.click()\n",
    "\n",
    "# 이미지 탭 클릭\n",
    "driver.find_element(By.CLASS_NAME, 'flick_bx>a').click()"
   ]
  },
  {
   "cell_type": "code",
   "execution_count": 23,
   "id": "82a5e341-a5d2-4236-80c6-cdf4713b96b5",
   "metadata": {},
   "outputs": [],
   "source": [
    "# 스크롤 내리기\n",
    "body = driver.find_element(By.CSS_SELECTOR, 'body')\n",
    "for i in range(20):\n",
    "    body.send_keys(Keys.END)\n",
    "    time.sleep(1)"
   ]
  },
  {
   "cell_type": "code",
   "execution_count": 25,
   "id": "80b96241-2d49-4751-a58c-a67ff46c1407",
   "metadata": {},
   "outputs": [],
   "source": [
    "img = driver.find_elements(By.CLASS_NAME, '_fe_image_tab_content_thumbnail_image')\n",
    "\n",
    "# 이미지 주소 리스트\n",
    "img_list = []\n",
    "\n",
    "# 이미지 주소를 리스트에 누적\n",
    "for i in img:\n",
    "    img_list.append(i.get_attribute('src'))\n",
    "    \n",
    "# 주소를 이미지 파일로 저장\n",
    "for i in range(len(img_list)):\n",
    "    urlretrieve(img_list[i], f'C:/Users/USER/Desktop/네이버이미지/엄준식{i}.jpg')"
   ]
  },
  {
   "cell_type": "code",
   "execution_count": null,
   "id": "caf7bc76-35ab-4838-8313-bdbd47a31cc2",
   "metadata": {},
   "outputs": [],
   "source": []
  },
  {
   "cell_type": "code",
   "execution_count": null,
   "id": "3d229eff-3cd9-45b6-bdab-7c0c2a1ffc80",
   "metadata": {},
   "outputs": [],
   "source": []
  },
  {
   "cell_type": "code",
   "execution_count": null,
   "id": "870e29ec-5ea5-423b-8405-c5dec7b68ce8",
   "metadata": {},
   "outputs": [],
   "source": []
  },
  {
   "cell_type": "code",
   "execution_count": null,
   "id": "8df3fb45-1b04-4d7d-a2ab-59852b30740e",
   "metadata": {},
   "outputs": [],
   "source": []
  },
  {
   "cell_type": "code",
   "execution_count": null,
   "id": "9dea1366-863d-4e42-9545-ec8615939e45",
   "metadata": {},
   "outputs": [],
   "source": []
  },
  {
   "cell_type": "code",
   "execution_count": null,
   "id": "fc03adb5-e55a-47de-a2bf-88010f21c16f",
   "metadata": {},
   "outputs": [],
   "source": []
  },
  {
   "cell_type": "code",
   "execution_count": null,
   "id": "fb73c265-0ed6-46bc-adc9-edb3ff3f102c",
   "metadata": {},
   "outputs": [],
   "source": []
  },
  {
   "cell_type": "code",
   "execution_count": null,
   "id": "b7048e64-5578-4dd1-81c7-76c4583ae627",
   "metadata": {},
   "outputs": [],
   "source": []
  },
  {
   "cell_type": "code",
   "execution_count": null,
   "id": "818fe3d7-41e1-496d-b5bc-91463fff89f2",
   "metadata": {},
   "outputs": [],
   "source": []
  },
  {
   "cell_type": "code",
   "execution_count": null,
   "id": "374c20ee-4a91-48c7-aeb2-b2a1164568f7",
   "metadata": {},
   "outputs": [],
   "source": []
  },
  {
   "cell_type": "code",
   "execution_count": null,
   "id": "93cc104f-cf16-4bd1-8356-e58bdff6b696",
   "metadata": {},
   "outputs": [],
   "source": []
  },
  {
   "cell_type": "code",
   "execution_count": null,
   "id": "0e269c62-8281-4cff-a0f4-75e6ee50a08f",
   "metadata": {},
   "outputs": [],
   "source": []
  },
  {
   "cell_type": "code",
   "execution_count": null,
   "id": "62175c4a-0a18-48d1-b44b-41d9113f180f",
   "metadata": {},
   "outputs": [],
   "source": []
  },
  {
   "cell_type": "code",
   "execution_count": null,
   "id": "87d30ae2-0847-495f-990b-1ee566cb9c17",
   "metadata": {},
   "outputs": [],
   "source": []
  },
  {
   "cell_type": "code",
   "execution_count": null,
   "id": "00fa41b8-aa3b-4bca-b585-0040ccbb0248",
   "metadata": {},
   "outputs": [],
   "source": []
  },
  {
   "cell_type": "code",
   "execution_count": null,
   "id": "5e23c05f-d76c-46ba-bea6-02fd9bd9ed07",
   "metadata": {},
   "outputs": [],
   "source": []
  },
  {
   "cell_type": "code",
   "execution_count": null,
   "id": "4e109777-87ca-4950-a28d-aeef1003eb40",
   "metadata": {},
   "outputs": [],
   "source": []
  },
  {
   "cell_type": "code",
   "execution_count": null,
   "id": "b0f05f86-94b2-457b-ab70-549441b97176",
   "metadata": {},
   "outputs": [],
   "source": []
  },
  {
   "cell_type": "code",
   "execution_count": null,
   "id": "c7070b88-eec2-4ce6-a248-10aef4af9623",
   "metadata": {},
   "outputs": [],
   "source": []
  },
  {
   "cell_type": "code",
   "execution_count": null,
   "id": "7210731b-da53-44ff-ae79-53c84cc78f8b",
   "metadata": {},
   "outputs": [],
   "source": []
  },
  {
   "cell_type": "code",
   "execution_count": null,
   "id": "ed038a99-745a-47d4-b774-8ce8e464d5ca",
   "metadata": {},
   "outputs": [],
   "source": []
  },
  {
   "cell_type": "code",
   "execution_count": null,
   "id": "9f01a631-ad3e-4f2e-8792-742714c167de",
   "metadata": {},
   "outputs": [],
   "source": []
  }
 ],
 "metadata": {
  "kernelspec": {
   "display_name": "Python 3 (ipykernel)",
   "language": "python",
   "name": "python3"
  },
  "language_info": {
   "codemirror_mode": {
    "name": "ipython",
    "version": 3
   },
   "file_extension": ".py",
   "mimetype": "text/x-python",
   "name": "python",
   "nbconvert_exporter": "python",
   "pygments_lexer": "ipython3",
   "version": "3.11.7"
  }
 },
 "nbformat": 4,
 "nbformat_minor": 5
}
