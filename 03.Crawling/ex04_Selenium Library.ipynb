{
 "cells": [
  {
   "cell_type": "markdown",
   "id": "a322cd91-daa4-4328-9c9e-67fe0b0fbab5",
   "metadata": {},
   "source": [
    "### Selenium 라이브러리\n",
    "- 코드를 통해서 웹페이지를 제어하기 위한 라이브러리\n",
    "- 브라우저 동작을 자동화하여 코드로 제어할 수 있도록 도와주는 라이브러리"
   ]
  },
  {
   "cell_type": "code",
   "execution_count": 2,
   "id": "d7ede229-9b48-43bf-8330-06e902ef06ab",
   "metadata": {},
   "outputs": [
    {
     "name": "stdout",
     "output_type": "stream",
     "text": [
      "Requirement already satisfied: selenium in c:\\users\\user\\anaconda3\\lib\\site-packages (4.23.1)\n",
      "Requirement already satisfied: urllib3<3,>=1.26 in c:\\users\\user\\anaconda3\\lib\\site-packages (from urllib3[socks]<3,>=1.26->selenium) (2.0.7)\n",
      "Requirement already satisfied: trio~=0.17 in c:\\users\\user\\anaconda3\\lib\\site-packages (from selenium) (0.26.2)\n",
      "Requirement already satisfied: trio-websocket~=0.9 in c:\\users\\user\\anaconda3\\lib\\site-packages (from selenium) (0.11.1)\n",
      "Requirement already satisfied: certifi>=2021.10.8 in c:\\users\\user\\anaconda3\\lib\\site-packages (from selenium) (2024.6.2)\n",
      "Requirement already satisfied: typing_extensions~=4.9 in c:\\users\\user\\anaconda3\\lib\\site-packages (from selenium) (4.9.0)\n",
      "Requirement already satisfied: websocket-client~=1.8 in c:\\users\\user\\anaconda3\\lib\\site-packages (from selenium) (1.8.0)\n",
      "Requirement already satisfied: attrs>=23.2.0 in c:\\users\\user\\anaconda3\\lib\\site-packages (from trio~=0.17->selenium) (24.2.0)\n",
      "Requirement already satisfied: sortedcontainers in c:\\users\\user\\anaconda3\\lib\\site-packages (from trio~=0.17->selenium) (2.4.0)\n",
      "Requirement already satisfied: idna in c:\\users\\user\\anaconda3\\lib\\site-packages (from trio~=0.17->selenium) (3.4)\n",
      "Requirement already satisfied: outcome in c:\\users\\user\\anaconda3\\lib\\site-packages (from trio~=0.17->selenium) (1.3.0.post0)\n",
      "Requirement already satisfied: sniffio>=1.3.0 in c:\\users\\user\\anaconda3\\lib\\site-packages (from trio~=0.17->selenium) (1.3.0)\n",
      "Requirement already satisfied: cffi>=1.14 in c:\\users\\user\\anaconda3\\lib\\site-packages (from trio~=0.17->selenium) (1.16.0)\n",
      "Requirement already satisfied: wsproto>=0.14 in c:\\users\\user\\anaconda3\\lib\\site-packages (from trio-websocket~=0.9->selenium) (1.2.0)\n",
      "Requirement already satisfied: pysocks!=1.5.7,<2.0,>=1.5.6 in c:\\users\\user\\anaconda3\\lib\\site-packages (from urllib3[socks]<3,>=1.26->selenium) (1.7.1)\n",
      "Requirement already satisfied: pycparser in c:\\users\\user\\anaconda3\\lib\\site-packages (from cffi>=1.14->trio~=0.17->selenium) (2.21)\n",
      "Requirement already satisfied: h11<1,>=0.9.0 in c:\\users\\user\\anaconda3\\lib\\site-packages (from wsproto>=0.14->trio-websocket~=0.9->selenium) (0.14.0)\n"
     ]
    }
   ],
   "source": [
    "# 기본 내장 라이브러리가 아닌경우는 라이브러리 설치\n",
    "!pip install selenium"
   ]
  },
  {
   "cell_type": "code",
   "execution_count": 3,
   "id": "c9a0ad64-d50c-4004-911f-56b2c289fa4c",
   "metadata": {},
   "outputs": [
    {
     "name": "stdout",
     "output_type": "stream",
     "text": [
      "Requirement already satisfied: webdriver_manager in c:\\users\\user\\anaconda3\\lib\\site-packages (4.0.2)\n",
      "Requirement already satisfied: requests in c:\\users\\user\\anaconda3\\lib\\site-packages (from webdriver_manager) (2.31.0)\n",
      "Requirement already satisfied: python-dotenv in c:\\users\\user\\anaconda3\\lib\\site-packages (from webdriver_manager) (0.21.0)\n",
      "Requirement already satisfied: packaging in c:\\users\\user\\anaconda3\\lib\\site-packages (from webdriver_manager) (23.1)\n",
      "Requirement already satisfied: charset-normalizer<4,>=2 in c:\\users\\user\\anaconda3\\lib\\site-packages (from requests->webdriver_manager) (2.0.4)\n",
      "Requirement already satisfied: idna<4,>=2.5 in c:\\users\\user\\anaconda3\\lib\\site-packages (from requests->webdriver_manager) (3.4)\n",
      "Requirement already satisfied: urllib3<3,>=1.21.1 in c:\\users\\user\\anaconda3\\lib\\site-packages (from requests->webdriver_manager) (2.0.7)\n",
      "Requirement already satisfied: certifi>=2017.4.17 in c:\\users\\user\\anaconda3\\lib\\site-packages (from requests->webdriver_manager) (2024.6.2)\n"
     ]
    }
   ],
   "source": [
    "# 웹 드라이버를 관리하고 업데이트 해주는 라이브러리\n",
    "!pip install webdriver_manager"
   ]
  },
  {
   "cell_type": "code",
   "execution_count": 4,
   "id": "719d32d5-d8c6-4884-a004-8c99fa7007fc",
   "metadata": {},
   "outputs": [],
   "source": [
    "# 라이브러리 불러오기\n",
    "# ChromeDrierManager, Service 라이브러리를 사용하여\n",
    "# Chromedriver(컴퓨터용 크롬창) 를 관리\n",
    "\n",
    "from selenium.webdriver.chrome.service import Service\n",
    "from webdriver_manager.chrome import ChromeDriverManager\n",
    "\n",
    "from selenium import webdriver as wb # 컴퓨터용 브라우저\n",
    "from selenium.webdriver.common.keys import Keys # 컴퓨터용 키보드\n",
    "from selenium.webdriver.common.by import By # 기준 -> 선택자 지정 방식"
   ]
  },
  {
   "cell_type": "code",
   "execution_count": 8,
   "id": "9ca130a2-8e81-48a2-a2b9-2c760b885f33",
   "metadata": {},
   "outputs": [],
   "source": [
    "s = Service(ChromeDriverManager().install())\n",
    "driver = wb.Chrome(service = s) # 컴퓨터용 크롬창"
   ]
  },
  {
   "cell_type": "code",
   "execution_count": 9,
   "id": "47bb6f07-e07e-4d2f-ac22-0eeb0643d82b",
   "metadata": {},
   "outputs": [],
   "source": [
    "# 우리가 사용할 페이지 url 요청\n",
    "# 모든 요청은 driver를 통해 진행\n",
    "driver.get('https://www.naver.com/')"
   ]
  },
  {
   "cell_type": "code",
   "execution_count": 30,
   "id": "d088de6a-7d1c-4728-a437-ae4122cf89cb",
   "metadata": {},
   "outputs": [],
   "source": [
    "# 네이버 메인페이지에서 \"인공지능사관학교\" 검색 -> 자동화\n",
    "\n",
    "\n",
    "# 1. 검색창 위치 찾기\n",
    "search = driver.find_element(By.ID,'query')"
   ]
  },
  {
   "cell_type": "code",
   "execution_count": 32,
   "id": "fda5a4ef-7b28-433e-8bcf-0a2c6963f1c7",
   "metadata": {},
   "outputs": [],
   "source": [
    "# 2. 검색어 입력\n",
    "search.send_keys('인공지능사관학교')"
   ]
  },
  {
   "cell_type": "code",
   "execution_count": 34,
   "id": "689e94d7-a729-4a19-83ec-70e92d6c4103",
   "metadata": {},
   "outputs": [],
   "source": [
    "# 3. 검색 -> 엔터, 돋보기 클릭\n",
    "# 3-1. 엔터\n",
    "search.send_keys(Keys.ENTER)"
   ]
  },
  {
   "cell_type": "code",
   "execution_count": 36,
   "id": "8f3cc15b-3bd9-46d4-83d3-1a38cd811342",
   "metadata": {},
   "outputs": [],
   "source": [
    "# 뒤로가기\n",
    "# 뒤로가기 기능은 html 코드 부분이 아니라 브라우저가 가지는 기능 -> driver에게 요청\n",
    "driver.back()"
   ]
  },
  {
   "cell_type": "markdown",
   "id": "cfc01d97-46a6-4946-86cf-ed89c7e22c10",
   "metadata": {},
   "source": [
    "- 컴퓨터는 페이지가 새로고침 될때마다 (화면이 바뀔때마다) 초기화됨\n",
    "- 다시한번 검색창의 위치를 알려줘야한다."
   ]
  },
  {
   "cell_type": "code",
   "execution_count": 39,
   "id": "b8bba83f-f9af-411c-9cf5-9f73ac4e006a",
   "metadata": {},
   "outputs": [],
   "source": [
    "search = driver.find_element(By.ID,'query')\n",
    "search.send_keys('인공지능사관학교')"
   ]
  },
  {
   "cell_type": "code",
   "execution_count": 41,
   "id": "829c4758-806b-443f-a651-543c770f3f62",
   "metadata": {},
   "outputs": [],
   "source": [
    "# 돋보기버튼 클릭을 통한 검색\n",
    "btn = driver.find_element(By.CLASS_NAME, 'btn_search')\n",
    "btn.click()"
   ]
  },
  {
   "cell_type": "code",
   "execution_count": 43,
   "id": "31dcb1ab-941e-4c16-b119-47a21eebbbe6",
   "metadata": {},
   "outputs": [],
   "source": [
    "# 브라우저 닫기\n",
    "driver.quit()"
   ]
  },
  {
   "cell_type": "code",
   "execution_count": null,
   "id": "5b36e8cd-f55b-4547-b12e-535d94e389bf",
   "metadata": {},
   "outputs": [],
   "source": [
    "# driver.find_element(선택자 지정 방식, 값) : 단일 요소를 추출\n",
    "\n",
    "# driver.find_elements(선택자 지정 방식, 값) : 동일한 값을 가진 모든 요소 추출 -> []로 리턴"
   ]
  }
 ],
 "metadata": {
  "kernelspec": {
   "display_name": "Python 3 (ipykernel)",
   "language": "python",
   "name": "python3"
  },
  "language_info": {
   "codemirror_mode": {
    "name": "ipython",
    "version": 3
   },
   "file_extension": ".py",
   "mimetype": "text/x-python",
   "name": "python",
   "nbconvert_exporter": "python",
   "pygments_lexer": "ipython3",
   "version": "3.11.7"
  }
 },
 "nbformat": 4,
 "nbformat_minor": 5
}
