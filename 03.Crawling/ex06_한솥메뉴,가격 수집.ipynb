{
 "cells": [
  {
   "cell_type": "code",
   "execution_count": 1,
   "id": "451b4f82-299d-444c-879b-1916d2973698",
   "metadata": {},
   "outputs": [],
   "source": [
    "# 라이브러리 불러오기\n",
    "\n",
    "# ChromeDrierManager, Service 라이브러리를 사용하여\n",
    "# Chromedriver(컴퓨터용 크롬창) 를 관리\n",
    "\n",
    "from selenium.webdriver.chrome.service import Service\n",
    "from webdriver_manager.chrome import ChromeDriverManager\n",
    "\n",
    "from selenium import webdriver as wb                 # 컴퓨터용 브라우저\n",
    "from selenium.webdriver.common.keys import Keys      # 컴퓨터용 키보드\n",
    "from selenium.webdriver.common.by import By          # 기준 -> 선택자 지정 방식"
   ]
  },
  {
   "cell_type": "code",
   "execution_count": 3,
   "id": "b4148a70-3d68-46fe-971f-8653b8fb7690",
   "metadata": {},
   "outputs": [],
   "source": [
    "# 컴퓨터용 브라우저 열기\n",
    "s = Service(ChromeDriverManager().install())\n",
    "driver = wb.Chrome(service = s) # 컴퓨터용 크롬창"
   ]
  },
  {
   "cell_type": "code",
   "execution_count": 102,
   "id": "f3a7e1f5-3368-4889-9f95-038a6983d8c5",
   "metadata": {},
   "outputs": [],
   "source": [
    "driver.get('https://www.hsd.co.kr/menu/menu_list')"
   ]
  },
  {
   "cell_type": "code",
   "execution_count": 76,
   "id": "36d38f9f-af18-40bc-a404-225663bf94e1",
   "metadata": {},
   "outputs": [
    {
     "data": {
      "text/plain": [
       "'연잎 오리구이'"
      ]
     },
     "execution_count": 76,
     "metadata": {},
     "output_type": "execute_result"
    }
   ],
   "source": [
    "# 첫번째 메뉴의 이름\n",
    "findmenu = driver.find_element(By.CLASS_NAME,'h.fz_03')\n",
    "findmenu.text"
   ]
  },
  {
   "cell_type": "code",
   "execution_count": 78,
   "id": "24465759-ad95-4e5e-ada4-7e9a5f761ea3",
   "metadata": {},
   "outputs": [
    {
     "data": {
      "text/plain": [
       "'7,700'"
      ]
     },
     "execution_count": 78,
     "metadata": {},
     "output_type": "execute_result"
    }
   ],
   "source": [
    "# 첫번째 메뉴의 가격 추출\n",
    "driver.find_element(By.CLASS_NAME,'h.fz_03+div>strong').text\n",
    "# driver.find_element(By.CSS_SELECTOR,'div.item-price>strong').text \n",
    "# CSS_SELECTER 도 있음"
   ]
  },
  {
   "cell_type": "code",
   "execution_count": 106,
   "id": "6e7d3c83-ba08-4833-8924-e3b230a1d609",
   "metadata": {},
   "outputs": [
    {
     "name": "stdout",
     "output_type": "stream",
     "text": [
      "114\n",
      "114\n"
     ]
    }
   ],
   "source": [
    "# 한솥 메뉴페이지에 있는 모든 메뉴의 정보를 추출\n",
    "# 메뉴\n",
    "menu = driver.find_elements(By.CLASS_NAME,'h.fz_03')\n",
    "# 가격\n",
    "price = driver.find_elements(By.CSS_SELECTOR,'div.item-price>strong') \n",
    "\n",
    "print(len(menu))\n",
    "print(len(price))\n"
   ]
  },
  {
   "cell_type": "code",
   "execution_count": 43,
   "id": "694eb17d-cba9-4ce7-a26d-e92bfa10be5c",
   "metadata": {},
   "outputs": [],
   "source": [
    "# 전체메뉴를 수집하기 위해서 \"더보기\" 버튼을 클릭하여\n",
    "# 모든 메뉴를 화면에 출력되게 한 후 메뉴와 가격정보를 수집"
   ]
  },
  {
   "cell_type": "markdown",
   "id": "efd7600f-9059-402e-a144-024557e9dca9",
   "metadata": {},
   "source": [
    "- 더보기 버튼 클릭"
   ]
  },
  {
   "cell_type": "code",
   "execution_count": 92,
   "id": "01e17436-3ece-4d42-929e-742bc9fb5aa4",
   "metadata": {},
   "outputs": [
    {
     "ename": "ElementNotInteractableException",
     "evalue": "Message: element not interactable\n  (Session info: chrome=127.0.6533.90)\nStacktrace:\n\tGetHandleVerifier [0x007B8923+23283]\n\t(No symbol) [0x0077E934]\n\t(No symbol) [0x006B05AD]\n\t(No symbol) [0x006EE1F9]\n\t(No symbol) [0x006EC9BC]\n\t(No symbol) [0x0071441C]\n\t(No symbol) [0x006E9485]\n\t(No symbol) [0x007146B4]\n\t(No symbol) [0x0072CB8D]\n\t(No symbol) [0x007141B6]\n\t(No symbol) [0x006E8017]\n\t(No symbol) [0x006E890D]\n\tGetHandleVerifier [0x008AA5F3+1013699]\n\tGetHandleVerifier [0x008B3E4C+1052700]\n\tGetHandleVerifier [0x008AD4B4+1025668]\n\tGetHandleVerifier [0x007DEA2B+179195]\n\t(No symbol) [0x00786833]\n\t(No symbol) [0x00783198]\n\t(No symbol) [0x00783337]\n\t(No symbol) [0x0077B4BE]\n\tBaseThreadInitThunk [0x75AFFCC9+25]\n\tRtlGetAppContainerNamedObjectPath [0x77157B1E+286]\n\tRtlGetAppContainerNamedObjectPath [0x77157AEE+238]\n",
     "output_type": "error",
     "traceback": [
      "\u001b[1;31m---------------------------------------------------------------------------\u001b[0m",
      "\u001b[1;31mElementNotInteractableException\u001b[0m           Traceback (most recent call last)",
      "Cell \u001b[1;32mIn[92], line 6\u001b[0m\n\u001b[0;32m      4\u001b[0m \u001b[38;5;66;03m# driver 에게 클릭 요청하기\u001b[39;00m\n\u001b[0;32m      5\u001b[0m \u001b[38;5;28;01mfor\u001b[39;00m i \u001b[38;5;129;01min\u001b[39;00m \u001b[38;5;28mrange\u001b[39m(\u001b[38;5;241m30\u001b[39m):\n\u001b[1;32m----> 6\u001b[0m     more\u001b[38;5;241m.\u001b[39msend_keys(Keys\u001b[38;5;241m.\u001b[39mENTER)\n",
      "File \u001b[1;32m~\\anaconda3\\Lib\\site-packages\\selenium\\webdriver\\remote\\webelement.py:231\u001b[0m, in \u001b[0;36mWebElement.send_keys\u001b[1;34m(self, *value)\u001b[0m\n\u001b[0;32m    228\u001b[0m             remote_files\u001b[38;5;241m.\u001b[39mappend(\u001b[38;5;28mself\u001b[39m\u001b[38;5;241m.\u001b[39m_upload(file))\n\u001b[0;32m    229\u001b[0m         value \u001b[38;5;241m=\u001b[39m \u001b[38;5;124m\"\u001b[39m\u001b[38;5;130;01m\\n\u001b[39;00m\u001b[38;5;124m\"\u001b[39m\u001b[38;5;241m.\u001b[39mjoin(remote_files)\n\u001b[1;32m--> 231\u001b[0m \u001b[38;5;28mself\u001b[39m\u001b[38;5;241m.\u001b[39m_execute(\n\u001b[0;32m    232\u001b[0m     Command\u001b[38;5;241m.\u001b[39mSEND_KEYS_TO_ELEMENT, {\u001b[38;5;124m\"\u001b[39m\u001b[38;5;124mtext\u001b[39m\u001b[38;5;124m\"\u001b[39m: \u001b[38;5;124m\"\u001b[39m\u001b[38;5;124m\"\u001b[39m\u001b[38;5;241m.\u001b[39mjoin(keys_to_typing(value)), \u001b[38;5;124m\"\u001b[39m\u001b[38;5;124mvalue\u001b[39m\u001b[38;5;124m\"\u001b[39m: keys_to_typing(value)}\n\u001b[0;32m    233\u001b[0m )\n",
      "File \u001b[1;32m~\\anaconda3\\Lib\\site-packages\\selenium\\webdriver\\remote\\webelement.py:395\u001b[0m, in \u001b[0;36mWebElement._execute\u001b[1;34m(self, command, params)\u001b[0m\n\u001b[0;32m    393\u001b[0m     params \u001b[38;5;241m=\u001b[39m {}\n\u001b[0;32m    394\u001b[0m params[\u001b[38;5;124m\"\u001b[39m\u001b[38;5;124mid\u001b[39m\u001b[38;5;124m\"\u001b[39m] \u001b[38;5;241m=\u001b[39m \u001b[38;5;28mself\u001b[39m\u001b[38;5;241m.\u001b[39m_id\n\u001b[1;32m--> 395\u001b[0m \u001b[38;5;28;01mreturn\u001b[39;00m \u001b[38;5;28mself\u001b[39m\u001b[38;5;241m.\u001b[39m_parent\u001b[38;5;241m.\u001b[39mexecute(command, params)\n",
      "File \u001b[1;32m~\\anaconda3\\Lib\\site-packages\\selenium\\webdriver\\remote\\webdriver.py:354\u001b[0m, in \u001b[0;36mWebDriver.execute\u001b[1;34m(self, driver_command, params)\u001b[0m\n\u001b[0;32m    352\u001b[0m response \u001b[38;5;241m=\u001b[39m \u001b[38;5;28mself\u001b[39m\u001b[38;5;241m.\u001b[39mcommand_executor\u001b[38;5;241m.\u001b[39mexecute(driver_command, params)\n\u001b[0;32m    353\u001b[0m \u001b[38;5;28;01mif\u001b[39;00m response:\n\u001b[1;32m--> 354\u001b[0m     \u001b[38;5;28mself\u001b[39m\u001b[38;5;241m.\u001b[39merror_handler\u001b[38;5;241m.\u001b[39mcheck_response(response)\n\u001b[0;32m    355\u001b[0m     response[\u001b[38;5;124m\"\u001b[39m\u001b[38;5;124mvalue\u001b[39m\u001b[38;5;124m\"\u001b[39m] \u001b[38;5;241m=\u001b[39m \u001b[38;5;28mself\u001b[39m\u001b[38;5;241m.\u001b[39m_unwrap_value(response\u001b[38;5;241m.\u001b[39mget(\u001b[38;5;124m\"\u001b[39m\u001b[38;5;124mvalue\u001b[39m\u001b[38;5;124m\"\u001b[39m, \u001b[38;5;28;01mNone\u001b[39;00m))\n\u001b[0;32m    356\u001b[0m     \u001b[38;5;28;01mreturn\u001b[39;00m response\n",
      "File \u001b[1;32m~\\anaconda3\\Lib\\site-packages\\selenium\\webdriver\\remote\\errorhandler.py:229\u001b[0m, in \u001b[0;36mErrorHandler.check_response\u001b[1;34m(self, response)\u001b[0m\n\u001b[0;32m    227\u001b[0m         alert_text \u001b[38;5;241m=\u001b[39m value[\u001b[38;5;124m\"\u001b[39m\u001b[38;5;124malert\u001b[39m\u001b[38;5;124m\"\u001b[39m]\u001b[38;5;241m.\u001b[39mget(\u001b[38;5;124m\"\u001b[39m\u001b[38;5;124mtext\u001b[39m\u001b[38;5;124m\"\u001b[39m)\n\u001b[0;32m    228\u001b[0m     \u001b[38;5;28;01mraise\u001b[39;00m exception_class(message, screen, stacktrace, alert_text)  \u001b[38;5;66;03m# type: ignore[call-arg]  # mypy is not smart enough here\u001b[39;00m\n\u001b[1;32m--> 229\u001b[0m \u001b[38;5;28;01mraise\u001b[39;00m exception_class(message, screen, stacktrace)\n",
      "\u001b[1;31mElementNotInteractableException\u001b[0m: Message: element not interactable\n  (Session info: chrome=127.0.6533.90)\nStacktrace:\n\tGetHandleVerifier [0x007B8923+23283]\n\t(No symbol) [0x0077E934]\n\t(No symbol) [0x006B05AD]\n\t(No symbol) [0x006EE1F9]\n\t(No symbol) [0x006EC9BC]\n\t(No symbol) [0x0071441C]\n\t(No symbol) [0x006E9485]\n\t(No symbol) [0x007146B4]\n\t(No symbol) [0x0072CB8D]\n\t(No symbol) [0x007141B6]\n\t(No symbol) [0x006E8017]\n\t(No symbol) [0x006E890D]\n\tGetHandleVerifier [0x008AA5F3+1013699]\n\tGetHandleVerifier [0x008B3E4C+1052700]\n\tGetHandleVerifier [0x008AD4B4+1025668]\n\tGetHandleVerifier [0x007DEA2B+179195]\n\t(No symbol) [0x00786833]\n\t(No symbol) [0x00783198]\n\t(No symbol) [0x00783337]\n\t(No symbol) [0x0077B4BE]\n\tBaseThreadInitThunk [0x75AFFCC9+25]\n\tRtlGetAppContainerNamedObjectPath [0x77157B1E+286]\n\tRtlGetAppContainerNamedObjectPath [0x77157AEE+238]\n"
     ]
    }
   ],
   "source": [
    "# 더보기 버튼의 위치를 찾아서 driver 에게 알려주기\n",
    "more = driver.find_element(By.CLASS_NAME,'c_05')\n",
    "\n",
    "# driver 에게 클릭 요청하기\n",
    "for i in range(30):\n",
    "    more.send_keys(Keys.ENTER)\n",
    "    # more.click() 도 된다.\n",
    "\n",
    "\n",
    "# 오류가 나는 이유\n",
    "# 30번의 반복문을 진행했을때, 30개 미만의 더보기버튼이 존재하기에\n",
    "# 요소를 찾을수 없어 오류 발생.\n",
    "# 예외처리 try except 문 활용하여 해결"
   ]
  },
  {
   "cell_type": "markdown",
   "id": "ff2c647e-c05c-4829-9a1b-c08a24092406",
   "metadata": {},
   "source": [
    "- 예외처리\n",
    "- try, except 문\n",
    "- 코드실행 시 에러가 발생했을때 밑에 작성된 코드는 실행이 되지 않는다.\n",
    "- 에러가 났을 경우 멈추지 않고 다른 실행문장을 실행할 수 있도록 예외처리"
   ]
  },
  {
   "cell_type": "code",
   "execution_count": 95,
   "id": "c84728c1-3376-4f60-9a9f-1c5dd9b57795",
   "metadata": {},
   "outputs": [
    {
     "name": "stdout",
     "output_type": "stream",
     "text": [
      "클릭완료.\n"
     ]
    }
   ],
   "source": [
    "# try\n",
    "try:\n",
    "    more = driver.find_element(By.CLASS_NAME,'c_05')\n",
    "    for i in range(30):\n",
    "        more.click()\n",
    "except:\n",
    "    print(\"클릭완료.\")\n",
    "    "
   ]
  },
  {
   "cell_type": "markdown",
   "id": "04749c97-b22b-4ad5-a771-ceb4980ff2a9",
   "metadata": {},
   "source": [
    "- 코드실행 중간에 쉬는시간을 부여"
   ]
  },
  {
   "cell_type": "code",
   "execution_count": 98,
   "id": "56396b34-fe2a-4cff-9265-a37e1fc09159",
   "metadata": {},
   "outputs": [],
   "source": [
    "# time 라이브러리\n",
    "# 사람이 처리하는 속도만큼 진행해주어야지 서버에게 부하가 가지않아\n",
    "# 정상적인 실행이 가능하기 때문이다.\n",
    "# 새로고침 이후에 페이지 로딩 시간을 주기위함\n",
    "import time"
   ]
  },
  {
   "cell_type": "code",
   "execution_count": 104,
   "id": "d1fa081d-9216-4405-82f5-a89e00002240",
   "metadata": {},
   "outputs": [
    {
     "name": "stdout",
     "output_type": "stream",
     "text": [
      "클릭완료.\n"
     ]
    }
   ],
   "source": [
    "try:\n",
    "    more = driver.find_element(By.CLASS_NAME,'c_05')\n",
    "    for i in range(30):\n",
    "        more.click()\n",
    "        time.sleep(2)\n",
    "except:\n",
    "    print(\"클릭완료.\")"
   ]
  },
  {
   "cell_type": "markdown",
   "id": "d8b7669e-fb99-4771-843e-e55ddf972870",
   "metadata": {},
   "source": [
    "- 이전까지 조각나있는 코드를 하나의 셀로 합쳐주기\n",
    "- 한번의 실행으로 시작부터 종료까지 진행"
   ]
  },
  {
   "cell_type": "code",
   "execution_count": 109,
   "id": "a1797c79-7c79-4035-b276-f97b4e56bb7a",
   "metadata": {},
   "outputs": [
    {
     "name": "stdout",
     "output_type": "stream",
     "text": [
      "클릭완료.\n"
     ]
    }
   ],
   "source": [
    "# 컴퓨터용 브라우저 열기\n",
    "s = Service(ChromeDriverManager().install())\n",
    "driver = wb.Chrome(service = s) # 컴퓨터용 크롬창\n",
    "driver.get('https://www.hsd.co.kr/menu/menu_list')\n",
    "\n",
    "try:\n",
    "    more = driver.find_element(By.CLASS_NAME,'c_05')\n",
    "    for i in range(30):\n",
    "        more.click()\n",
    "        time.sleep(2)\n",
    "except:\n",
    "    print(\"클릭완료.\")\n",
    "    \n",
    "# 한솥 메뉴페이지에 있는 모든 메뉴의 정보를 추출\n",
    "# 메뉴\n",
    "menu = driver.find_elements(By.CLASS_NAME,'h.fz_03')\n",
    "# 가격\n",
    "price = driver.find_elements(By.CSS_SELECTOR,'div.item-price>strong') "
   ]
  },
  {
   "cell_type": "code",
   "execution_count": 111,
   "id": "968793cd-fe2b-4861-862a-e76db440921d",
   "metadata": {},
   "outputs": [],
   "source": [
    "# csv 파일로 내보내기\n",
    "# menu_list, price_list 빈 리스트 생성\n",
    "# 순수한 콘텐츠만을 list에 담기\n",
    "# dictionnary 형태로 메뉴 : menu_list, 가격 : price_list\n",
    "# DataFrame 으로 만들기\n",
    "# csv 파일로 내보내기 (인코딩 : 'euc-kr')"
   ]
  },
  {
   "cell_type": "code",
   "execution_count": 139,
   "id": "d44d596b-7767-4aa2-a214-1a66ec48f8b9",
   "metadata": {},
   "outputs": [
    {
     "data": {
      "text/html": [
       "<div>\n",
       "<style scoped>\n",
       "    .dataframe tbody tr th:only-of-type {\n",
       "        vertical-align: middle;\n",
       "    }\n",
       "\n",
       "    .dataframe tbody tr th {\n",
       "        vertical-align: top;\n",
       "    }\n",
       "\n",
       "    .dataframe thead th {\n",
       "        text-align: right;\n",
       "    }\n",
       "</style>\n",
       "<table border=\"1\" class=\"dataframe\">\n",
       "  <thead>\n",
       "    <tr style=\"text-align: right;\">\n",
       "      <th></th>\n",
       "      <th>음식이름</th>\n",
       "      <th>가격</th>\n",
       "    </tr>\n",
       "  </thead>\n",
       "  <tbody>\n",
       "    <tr>\n",
       "      <th>0</th>\n",
       "      <td>연잎 오리구이</td>\n",
       "      <td>7,700</td>\n",
       "    </tr>\n",
       "    <tr>\n",
       "      <th>1</th>\n",
       "      <td>열무 감초고추장 비빔밥</td>\n",
       "      <td>4,900</td>\n",
       "    </tr>\n",
       "    <tr>\n",
       "      <th>2</th>\n",
       "      <td>열무 두부강된장 비빔밥</td>\n",
       "      <td>5,200</td>\n",
       "    </tr>\n",
       "    <tr>\n",
       "      <th>3</th>\n",
       "      <td>열무 비빔면</td>\n",
       "      <td>3,900</td>\n",
       "    </tr>\n",
       "    <tr>\n",
       "      <th>4</th>\n",
       "      <td>마라치킨 덮밥</td>\n",
       "      <td>4,900</td>\n",
       "    </tr>\n",
       "    <tr>\n",
       "      <th>...</th>\n",
       "      <td>...</td>\n",
       "      <td>...</td>\n",
       "    </tr>\n",
       "    <tr>\n",
       "      <th>109</th>\n",
       "      <td>김치</td>\n",
       "      <td>400</td>\n",
       "    </tr>\n",
       "    <tr>\n",
       "      <th>110</th>\n",
       "      <td>무말랭이 무침</td>\n",
       "      <td>500</td>\n",
       "    </tr>\n",
       "    <tr>\n",
       "      <th>111</th>\n",
       "      <td>한솥밥</td>\n",
       "      <td>1,000</td>\n",
       "    </tr>\n",
       "    <tr>\n",
       "      <th>112</th>\n",
       "      <td>현미밥</td>\n",
       "      <td>1,700</td>\n",
       "    </tr>\n",
       "    <tr>\n",
       "      <th>113</th>\n",
       "      <td>리얼꿀 미니호떡</td>\n",
       "      <td>2,200</td>\n",
       "    </tr>\n",
       "  </tbody>\n",
       "</table>\n",
       "<p>114 rows × 2 columns</p>\n",
       "</div>"
      ],
      "text/plain": [
       "             음식이름     가격\n",
       "0         연잎 오리구이  7,700\n",
       "1    열무 감초고추장 비빔밥  4,900\n",
       "2    열무 두부강된장 비빔밥  5,200\n",
       "3          열무 비빔면  3,900\n",
       "4         마라치킨 덮밥  4,900\n",
       "..            ...    ...\n",
       "109            김치    400\n",
       "110       무말랭이 무침    500\n",
       "111           한솥밥  1,000\n",
       "112           현미밥  1,700\n",
       "113      리얼꿀 미니호떡  2,200\n",
       "\n",
       "[114 rows x 2 columns]"
      ]
     },
     "execution_count": 139,
     "metadata": {},
     "output_type": "execute_result"
    }
   ],
   "source": [
    "menu_list = []\n",
    "price_list = []\n",
    "\n",
    "for i in range(len(menu)):\n",
    "    menu_list.append(menu[i].text)\n",
    "    price_list.append(price[i].text)\n",
    "\n",
    "dic = {\"음식이름\":menu_list, \"가격\":price_list}\n",
    "\n",
    "import pandas as pd\n",
    "menuCSV = pd.DataFrame(dic, columns=['음식이름', '가격'])\n",
    "menuCSV"
   ]
  },
  {
   "cell_type": "code",
   "execution_count": 141,
   "id": "91c63a79-6f0c-4432-a0d2-1aabb2358acd",
   "metadata": {},
   "outputs": [],
   "source": [
    "menuCSV.to_csv('meun-list.csv', index=False, encoding='euc-kr')"
   ]
  },
  {
   "cell_type": "code",
   "execution_count": 143,
   "id": "37792a53-8874-4ca8-bd4e-907889d01666",
   "metadata": {},
   "outputs": [
    {
     "data": {
      "text/html": [
       "<div>\n",
       "<style scoped>\n",
       "    .dataframe tbody tr th:only-of-type {\n",
       "        vertical-align: middle;\n",
       "    }\n",
       "\n",
       "    .dataframe tbody tr th {\n",
       "        vertical-align: top;\n",
       "    }\n",
       "\n",
       "    .dataframe thead th {\n",
       "        text-align: right;\n",
       "    }\n",
       "</style>\n",
       "<table border=\"1\" class=\"dataframe\">\n",
       "  <thead>\n",
       "    <tr style=\"text-align: right;\">\n",
       "      <th></th>\n",
       "      <th>음식이름</th>\n",
       "      <th>가격</th>\n",
       "    </tr>\n",
       "  </thead>\n",
       "  <tbody>\n",
       "    <tr>\n",
       "      <th>0</th>\n",
       "      <td>연잎 오리구이</td>\n",
       "      <td>7,700</td>\n",
       "    </tr>\n",
       "    <tr>\n",
       "      <th>1</th>\n",
       "      <td>열무 감초고추장 비빔밥</td>\n",
       "      <td>4,900</td>\n",
       "    </tr>\n",
       "    <tr>\n",
       "      <th>2</th>\n",
       "      <td>열무 두부강된장 비빔밥</td>\n",
       "      <td>5,200</td>\n",
       "    </tr>\n",
       "    <tr>\n",
       "      <th>3</th>\n",
       "      <td>열무 비빔면</td>\n",
       "      <td>3,900</td>\n",
       "    </tr>\n",
       "    <tr>\n",
       "      <th>4</th>\n",
       "      <td>마라치킨 덮밥</td>\n",
       "      <td>4,900</td>\n",
       "    </tr>\n",
       "    <tr>\n",
       "      <th>...</th>\n",
       "      <td>...</td>\n",
       "      <td>...</td>\n",
       "    </tr>\n",
       "    <tr>\n",
       "      <th>109</th>\n",
       "      <td>김치</td>\n",
       "      <td>400</td>\n",
       "    </tr>\n",
       "    <tr>\n",
       "      <th>110</th>\n",
       "      <td>무말랭이 무침</td>\n",
       "      <td>500</td>\n",
       "    </tr>\n",
       "    <tr>\n",
       "      <th>111</th>\n",
       "      <td>한솥밥</td>\n",
       "      <td>1,000</td>\n",
       "    </tr>\n",
       "    <tr>\n",
       "      <th>112</th>\n",
       "      <td>현미밥</td>\n",
       "      <td>1,700</td>\n",
       "    </tr>\n",
       "    <tr>\n",
       "      <th>113</th>\n",
       "      <td>리얼꿀 미니호떡</td>\n",
       "      <td>2,200</td>\n",
       "    </tr>\n",
       "  </tbody>\n",
       "</table>\n",
       "<p>114 rows × 2 columns</p>\n",
       "</div>"
      ],
      "text/plain": [
       "             음식이름     가격\n",
       "0         연잎 오리구이  7,700\n",
       "1    열무 감초고추장 비빔밥  4,900\n",
       "2    열무 두부강된장 비빔밥  5,200\n",
       "3          열무 비빔면  3,900\n",
       "4         마라치킨 덮밥  4,900\n",
       "..            ...    ...\n",
       "109            김치    400\n",
       "110       무말랭이 무침    500\n",
       "111           한솥밥  1,000\n",
       "112           현미밥  1,700\n",
       "113      리얼꿀 미니호떡  2,200\n",
       "\n",
       "[114 rows x 2 columns]"
      ]
     },
     "execution_count": 143,
     "metadata": {},
     "output_type": "execute_result"
    }
   ],
   "source": [
    "test = pd.read_csv(\"meun-list.csv\", encoding=\"euc-kr\")\n",
    "test"
   ]
  },
  {
   "cell_type": "code",
   "execution_count": null,
   "id": "c858cc09-8d8b-46b8-bf23-e8e0dfc50bba",
   "metadata": {},
   "outputs": [],
   "source": []
  },
  {
   "cell_type": "code",
   "execution_count": null,
   "id": "f249d497-ace2-4c45-bda3-e7967aab44a1",
   "metadata": {},
   "outputs": [],
   "source": []
  },
  {
   "cell_type": "code",
   "execution_count": null,
   "id": "07c25e9e-4aa2-469c-9b45-2a91d4e48114",
   "metadata": {},
   "outputs": [],
   "source": []
  },
  {
   "cell_type": "code",
   "execution_count": null,
   "id": "ab4a8591-ed7e-4b4a-91be-2bb3d6e068ec",
   "metadata": {},
   "outputs": [],
   "source": []
  },
  {
   "cell_type": "code",
   "execution_count": null,
   "id": "4b43965b-4f59-46e9-ab1a-ec0315627bb4",
   "metadata": {},
   "outputs": [],
   "source": []
  },
  {
   "cell_type": "code",
   "execution_count": null,
   "id": "ef469384-d729-4f1f-a1b3-8b17103197c3",
   "metadata": {},
   "outputs": [],
   "source": []
  },
  {
   "cell_type": "code",
   "execution_count": null,
   "id": "5b351e11-816a-4b09-8c12-f725af0cfe1c",
   "metadata": {},
   "outputs": [],
   "source": []
  },
  {
   "cell_type": "code",
   "execution_count": null,
   "id": "a3cb29e1-d276-4590-8f23-11026c3eed2c",
   "metadata": {},
   "outputs": [],
   "source": []
  },
  {
   "cell_type": "code",
   "execution_count": null,
   "id": "d6a794eb-005c-487b-8ca7-d83fbc02f898",
   "metadata": {},
   "outputs": [],
   "source": []
  },
  {
   "cell_type": "code",
   "execution_count": null,
   "id": "8ba05cea-4ef7-42f2-b733-d595c5c72d60",
   "metadata": {},
   "outputs": [],
   "source": []
  },
  {
   "cell_type": "code",
   "execution_count": null,
   "id": "4fba82d4-a3cb-4630-93fd-cdc23f3b3da9",
   "metadata": {},
   "outputs": [],
   "source": []
  },
  {
   "cell_type": "code",
   "execution_count": null,
   "id": "425c8b7f-2d62-4160-8b11-e797afefa43b",
   "metadata": {},
   "outputs": [],
   "source": []
  },
  {
   "cell_type": "code",
   "execution_count": null,
   "id": "2323cb51-7cca-410a-bd21-f1c48e592754",
   "metadata": {},
   "outputs": [],
   "source": []
  },
  {
   "cell_type": "code",
   "execution_count": null,
   "id": "c0a3a2e9-7dcd-4afc-bc92-a7ec8d0810cc",
   "metadata": {},
   "outputs": [],
   "source": []
  },
  {
   "cell_type": "code",
   "execution_count": null,
   "id": "ac3644e7-a535-4f63-bc1a-318f5fd085f9",
   "metadata": {},
   "outputs": [],
   "source": []
  },
  {
   "cell_type": "code",
   "execution_count": null,
   "id": "814f1b1c-c827-4f6f-8e30-1cca8c4636bc",
   "metadata": {},
   "outputs": [],
   "source": []
  },
  {
   "cell_type": "code",
   "execution_count": null,
   "id": "f512dd63-9e92-4e9f-a7ec-7f15e436b19d",
   "metadata": {},
   "outputs": [],
   "source": []
  },
  {
   "cell_type": "code",
   "execution_count": null,
   "id": "2d580cd5-0636-4689-baef-d8012a000fdd",
   "metadata": {},
   "outputs": [],
   "source": []
  },
  {
   "cell_type": "code",
   "execution_count": null,
   "id": "d7866c4b-1628-4856-b911-d63118c7c86e",
   "metadata": {},
   "outputs": [],
   "source": []
  },
  {
   "cell_type": "code",
   "execution_count": null,
   "id": "63d2bfdc-8283-4723-a2ed-1f2545cb71f2",
   "metadata": {},
   "outputs": [],
   "source": []
  },
  {
   "cell_type": "code",
   "execution_count": null,
   "id": "640b44b6-69cc-44f7-a1b9-f39c88ce441b",
   "metadata": {},
   "outputs": [],
   "source": []
  },
  {
   "cell_type": "code",
   "execution_count": null,
   "id": "2c80ff3e-dd7f-411e-908e-76843129d5f4",
   "metadata": {},
   "outputs": [],
   "source": []
  },
  {
   "cell_type": "code",
   "execution_count": null,
   "id": "28479993-bfac-4596-8894-848a2cc6997a",
   "metadata": {},
   "outputs": [],
   "source": []
  }
 ],
 "metadata": {
  "kernelspec": {
   "display_name": "Python 3 (ipykernel)",
   "language": "python",
   "name": "python3"
  },
  "language_info": {
   "codemirror_mode": {
    "name": "ipython",
    "version": 3
   },
   "file_extension": ".py",
   "mimetype": "text/x-python",
   "name": "python",
   "nbconvert_exporter": "python",
   "pygments_lexer": "ipython3",
   "version": "3.11.7"
  }
 },
 "nbformat": 4,
 "nbformat_minor": 5
}
