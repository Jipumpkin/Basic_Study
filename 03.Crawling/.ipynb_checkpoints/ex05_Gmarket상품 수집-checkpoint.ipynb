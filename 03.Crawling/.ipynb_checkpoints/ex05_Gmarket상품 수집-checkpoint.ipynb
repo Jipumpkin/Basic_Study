{
 "cells": [
  {
   "cell_type": "code",
   "execution_count": 1,
   "id": "2a096fb9-30c4-45d2-bf27-d8b7ed9545be",
   "metadata": {},
   "outputs": [],
   "source": [
    "# 라이브러리 불러오기\n",
    "\n",
    "# ChromeDrierManager, Service 라이브러리를 사용하여\n",
    "# Chromedriver(컴퓨터용 크롬창) 를 관리\n",
    "\n",
    "from selenium.webdriver.chrome.service import Service\n",
    "from webdriver_manager.chrome import ChromeDriverManager\n",
    "\n",
    "from selenium import webdriver as wb                 # 컴퓨터용 브라우저\n",
    "from selenium.webdriver.common.keys import Keys      # 컴퓨터용 키보드\n",
    "from selenium.webdriver.common.by import By          # 기준 -> 선택자 지정 방식"
   ]
  },
  {
   "cell_type": "code",
   "execution_count": 9,
   "id": "339cb4bb-ae68-4161-944c-887ed15871f0",
   "metadata": {},
   "outputs": [],
   "source": [
    "# 컴퓨터용 브라우저 열기\n",
    "s = Service(ChromeDriverManager().install())\n",
    "driver = wb.Chrome(service = s) # 컴퓨터용 크롬창"
   ]
  },
  {
   "cell_type": "code",
   "execution_count": 13,
   "id": "f00e8736-b848-4860-94d7-de86b49a70a8",
   "metadata": {},
   "outputs": [],
   "source": [
    "driver.get(\"http://corners.gmarket.co.kr/Bestsellers\")"
   ]
  },
  {
   "cell_type": "code",
   "execution_count": null,
   "id": "dbef9fab-b56e-4962-85be-85ec5d6016b3",
   "metadata": {},
   "outputs": [],
   "source": []
  },
  {
   "cell_type": "code",
   "execution_count": null,
   "id": "d0ba8106-ed2f-4526-862c-e3c20359ae8a",
   "metadata": {},
   "outputs": [],
   "source": []
  },
  {
   "cell_type": "code",
   "execution_count": null,
   "id": "997cad9b-8430-4107-a20d-1b54be150e84",
   "metadata": {},
   "outputs": [],
   "source": []
  },
  {
   "cell_type": "code",
   "execution_count": null,
   "id": "f8b4cf68-78e1-4b99-8cab-26a20ed0d04f",
   "metadata": {},
   "outputs": [],
   "source": []
  },
  {
   "cell_type": "code",
   "execution_count": null,
   "id": "69510aa7-0627-480c-a210-c4176c01d3ab",
   "metadata": {},
   "outputs": [],
   "source": []
  },
  {
   "cell_type": "code",
   "execution_count": null,
   "id": "f4caaa6b-c79a-4978-82c1-cbd711c6e2c9",
   "metadata": {},
   "outputs": [],
   "source": []
  },
  {
   "cell_type": "code",
   "execution_count": null,
   "id": "6da6b6ab-47be-49c5-8832-101553d41090",
   "metadata": {},
   "outputs": [],
   "source": []
  },
  {
   "cell_type": "code",
   "execution_count": null,
   "id": "ddd65a8d-e87c-47af-852f-07ba6d85bced",
   "metadata": {},
   "outputs": [],
   "source": []
  },
  {
   "cell_type": "code",
   "execution_count": null,
   "id": "e5c5b87d-d5f4-4b87-9505-7fbb0797e8ab",
   "metadata": {},
   "outputs": [],
   "source": []
  },
  {
   "cell_type": "code",
   "execution_count": null,
   "id": "1abac768-42f0-4868-b840-83384de41ed1",
   "metadata": {},
   "outputs": [],
   "source": []
  },
  {
   "cell_type": "code",
   "execution_count": null,
   "id": "067dcf19-1a07-4ee7-8587-ab3599c89e5b",
   "metadata": {},
   "outputs": [],
   "source": []
  },
  {
   "cell_type": "code",
   "execution_count": null,
   "id": "02b6dfa9-0f87-484a-915f-f521afcbefe6",
   "metadata": {},
   "outputs": [],
   "source": []
  },
  {
   "cell_type": "code",
   "execution_count": null,
   "id": "bec28abb-de8d-40a3-8803-e2b9b6b9ad14",
   "metadata": {},
   "outputs": [],
   "source": []
  },
  {
   "cell_type": "code",
   "execution_count": null,
   "id": "703f6bd4-af86-4aea-b4cc-0f9d6df4d1a1",
   "metadata": {},
   "outputs": [],
   "source": []
  },
  {
   "cell_type": "code",
   "execution_count": null,
   "id": "78e9f85f-c398-4c26-851a-5d349ad1b032",
   "metadata": {},
   "outputs": [],
   "source": []
  },
  {
   "cell_type": "code",
   "execution_count": null,
   "id": "ff6abf17-b497-45cc-99cb-b937057ba89d",
   "metadata": {},
   "outputs": [],
   "source": []
  },
  {
   "cell_type": "code",
   "execution_count": null,
   "id": "f88063b8-36c5-41ee-8f12-22bc3c4690c8",
   "metadata": {},
   "outputs": [],
   "source": []
  },
  {
   "cell_type": "code",
   "execution_count": null,
   "id": "cecb3c30-77db-4384-996d-435ac20720f1",
   "metadata": {},
   "outputs": [],
   "source": []
  },
  {
   "cell_type": "code",
   "execution_count": null,
   "id": "08efc592-3556-447d-9b83-0ba9deaed081",
   "metadata": {},
   "outputs": [],
   "source": []
  },
  {
   "cell_type": "code",
   "execution_count": null,
   "id": "db8a63c5-c9a9-4cf9-b074-455b778a3a71",
   "metadata": {},
   "outputs": [],
   "source": []
  },
  {
   "cell_type": "code",
   "execution_count": null,
   "id": "3345643f-63f6-4519-b11f-42fa28a2b4c2",
   "metadata": {},
   "outputs": [],
   "source": []
  },
  {
   "cell_type": "code",
   "execution_count": null,
   "id": "86090711-7dd0-4ed2-8219-dcea62ac5665",
   "metadata": {},
   "outputs": [],
   "source": []
  },
  {
   "cell_type": "code",
   "execution_count": null,
   "id": "833df6d8-797e-425a-abb3-82b13461c693",
   "metadata": {},
   "outputs": [],
   "source": []
  },
  {
   "cell_type": "code",
   "execution_count": null,
   "id": "0da25561-3759-4c69-9043-bdb6a74eca0a",
   "metadata": {},
   "outputs": [],
   "source": []
  },
  {
   "cell_type": "code",
   "execution_count": null,
   "id": "ec4990e3-01df-4c25-9acd-fbe76266e555",
   "metadata": {},
   "outputs": [],
   "source": []
  },
  {
   "cell_type": "code",
   "execution_count": null,
   "id": "f3490d2f-5227-493e-80c1-708a5160cf4e",
   "metadata": {},
   "outputs": [],
   "source": []
  },
  {
   "cell_type": "code",
   "execution_count": null,
   "id": "86aed354-100a-413c-be33-8cef52ade3d1",
   "metadata": {},
   "outputs": [],
   "source": []
  },
  {
   "cell_type": "code",
   "execution_count": null,
   "id": "beca774c-9f91-4baa-b60a-796fb38a69c6",
   "metadata": {},
   "outputs": [],
   "source": []
  },
  {
   "cell_type": "code",
   "execution_count": null,
   "id": "47c6ced7-56ec-4469-b804-0296bd1cdad3",
   "metadata": {},
   "outputs": [],
   "source": []
  },
  {
   "cell_type": "code",
   "execution_count": null,
   "id": "c34b0438-4836-4add-b1d2-d626165d90b0",
   "metadata": {},
   "outputs": [],
   "source": []
  },
  {
   "cell_type": "code",
   "execution_count": null,
   "id": "96b9bc3f-128d-4063-8adf-d0b8d5dc1aa6",
   "metadata": {},
   "outputs": [],
   "source": []
  },
  {
   "cell_type": "code",
   "execution_count": null,
   "id": "d8eadb58-281f-4cc3-b5e1-a6672bb6fbdf",
   "metadata": {},
   "outputs": [],
   "source": []
  },
  {
   "cell_type": "code",
   "execution_count": null,
   "id": "008e8c25-6691-4cf4-a51c-19297ad5f7ba",
   "metadata": {},
   "outputs": [],
   "source": []
  },
  {
   "cell_type": "code",
   "execution_count": null,
   "id": "1250bf4a-63ff-4976-be3c-720dec53dd36",
   "metadata": {},
   "outputs": [],
   "source": []
  },
  {
   "cell_type": "code",
   "execution_count": null,
   "id": "a9f338e2-1887-4f01-b2ed-c82c000fab54",
   "metadata": {},
   "outputs": [],
   "source": []
  },
  {
   "cell_type": "code",
   "execution_count": null,
   "id": "9114c436-50df-47c1-9aa2-7bb602856292",
   "metadata": {},
   "outputs": [],
   "source": []
  },
  {
   "cell_type": "code",
   "execution_count": null,
   "id": "55737005-e2eb-4779-bdd9-fa054b91ca78",
   "metadata": {},
   "outputs": [],
   "source": []
  },
  {
   "cell_type": "code",
   "execution_count": 15,
   "id": "49301a34-d7a2-4d34-8b2f-c7ad9191bbb0",
   "metadata": {},
   "outputs": [],
   "source": [
    "# 브라우저 닫기\n",
    "driver.quit()"
   ]
  },
  {
   "cell_type": "code",
   "execution_count": null,
   "id": "a6f14f37-46f1-4f20-99fe-1b88fb7c8ab8",
   "metadata": {},
   "outputs": [],
   "source": []
  }
 ],
 "metadata": {
  "kernelspec": {
   "display_name": "Python 3 (ipykernel)",
   "language": "python",
   "name": "python3"
  },
  "language_info": {
   "codemirror_mode": {
    "name": "ipython",
    "version": 3
   },
   "file_extension": ".py",
   "mimetype": "text/x-python",
   "name": "python",
   "nbconvert_exporter": "python",
   "pygments_lexer": "ipython3",
   "version": "3.11.7"
  }
 },
 "nbformat": 4,
 "nbformat_minor": 5
}
