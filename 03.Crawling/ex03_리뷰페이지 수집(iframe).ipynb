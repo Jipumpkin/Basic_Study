{
 "cells": [
  {
   "cell_type": "code",
   "execution_count": 1,
   "id": "808213d2-1dd7-426c-99cc-93572287ad60",
   "metadata": {},
   "outputs": [],
   "source": [
    "# 라이브러리 불러오기\n",
    "import requests as req\n",
    "from bs4 import BeautifulSoup as bs"
   ]
  },
  {
   "cell_type": "code",
   "execution_count": 3,
   "id": "3ffaf4b1-5562-4622-ada8-470f0fe9558a",
   "metadata": {},
   "outputs": [],
   "source": [
    "# 페이지정보 받아서 bs객체화 후 soup 변수에 담아주기"
   ]
  },
  {
   "cell_type": "code",
   "execution_count": 5,
   "id": "8dfa91bf-2b8f-4b65-a26d-fb8aba3c62b1",
   "metadata": {},
   "outputs": [],
   "source": [
    "src = 'https://bodyluv.kr/product/%EB%B0%94%EB%94%94%EB%9F%BD-%EB%94%A5%EC%8A%AC%EB%A6%BD-%EC%BF%A8-%EC%9D%B4%EB%B6%88-v2-%EC%95%88%ED%8B%B0%EB%B2%84%EA%B7%B8/437/category/1/display/2/#prdReview'"
   ]
  },
  {
   "cell_type": "code",
   "execution_count": 11,
   "id": "2806a219-7bd5-4caa-9b07-3f326e20dfbd",
   "metadata": {},
   "outputs": [],
   "source": [
    "h = {'user-agent':'Mozilla/5.0 (Windows NT 10.0; Win64; x64) AppleWebKit/537.36 (KHTML, like Gecko) Chrome/127.0.0.0 Safari/537.36'}\n",
    "\n",
    "res = req.get(src, headers = h)\n",
    "soup = bs(res.text, 'lxml')"
   ]
  },
  {
   "cell_type": "code",
   "execution_count": 19,
   "id": "a6630edb-503e-470e-a43c-3c646c13a8ba",
   "metadata": {},
   "outputs": [
    {
     "data": {
      "text/plain": [
       "[]"
      ]
     },
     "execution_count": 19,
     "metadata": {},
     "output_type": "execute_result"
    }
   ],
   "source": [
    "# 첫번째 리뷰데이터 가져오기\n",
    "soup.select('div.review_list_v2__message.js-collapsed-review-content.js-translate-text')"
   ]
  },
  {
   "cell_type": "markdown",
   "id": "fd4c9fbd-648e-4d6c-bfd6-6cc61e1bbd2d",
   "metadata": {},
   "source": [
    "### iframe\n",
    "- 화면에는 존재하지만 실제데이터는 다른공간에 존재하는 경우\n",
    "- 데이터를 수집하기 위해서는 데이터가 존재하는 공간으로 접근\n",
    "- iframe 은 흔치 않은 웹페이지 구성 (최근에는 선호되지 않음)"
   ]
  },
  {
   "cell_type": "code",
   "execution_count": 23,
   "id": "89200d1c-623e-45d0-b731-23e38c6b3fe8",
   "metadata": {},
   "outputs": [],
   "source": [
    "# 리뷰데이터가 들어있는 페이지 주소로 가서 리뷰데이터 수집\n",
    "# 1. 페이지정보 요청 후 응답\n",
    "# 2. bs 객체화\n",
    "# 3. 리뷰데이터 가져오기\n",
    "\n",
    "src2 = 'https://review4.cre.ma/bodyluv.kr/products/reviews?product_code=437&iframe_id=crema-product-reviews-2&widget_style=&install_method=hardcoded&app=0&parent_url=https%3A%2F%2Fbodyluv.kr%2Fproduct%2F%25EB%25B0%2594%25EB%2594%2594%25EB%259F%25BD-%25EB%2594%25A5%25EC%258A%25AC%25EB%25A6%25BD-%25EC%25BF%25A8-%25EC%259D%25B4%25EB%25B6%2588-v2-%25EC%2595%2588%25ED%258B%25B0%25EB%25B2%2584%25EA%25B7%25B8%2F437%2Fcategory%2F1%2Fdisplay%2F2%2F%23prdReview&nonmember_token=&secure_device_token=V224ac63d1d97db75b00ab168b169ac792ab9ceabe1cf82cd811c338b2038f65f4f84e8e0555c0c33e60d6f45c2aa3d146&iframe=1'\n",
    "res2 = req.get(src2, headers = h)\n",
    "soup2 = bs(res2.text, 'lxml')"
   ]
  },
  {
   "cell_type": "code",
   "execution_count": 29,
   "id": "93802a7b-8ed5-457a-80f4-c6b844670690",
   "metadata": {},
   "outputs": [],
   "source": [
    "review = soup2.select('div.review_list_v2__message.js-collapsed-review-content.js-translate-text')"
   ]
  },
  {
   "cell_type": "code",
   "execution_count": 33,
   "id": "99febeee-7084-4867-801d-303d7b245512",
   "metadata": {},
   "outputs": [
    {
     "data": {
      "text/plain": [
       "'아이들 여름 이불을 바꾸려고 겅색중 알게되어 구입했는데 신랑이 탐을 내어 하나더 구입 했네요. 촉감도 양면으로 부트러운면콰 시윈한 냉감이 있어 좋네요. 여름 이불로 적극 추천입니다(2020-08-07 14:26:40 에 등록된 네이버 페이 구매평)'"
      ]
     },
     "execution_count": 33,
     "metadata": {},
     "output_type": "execute_result"
    }
   ],
   "source": [
    "# strip(): 문자열 이외의 불필요한 특수기호(공백, 개행기호) 제거하고 출력\n",
    "review[0].text.strip()"
   ]
  },
  {
   "cell_type": "code",
   "execution_count": 47,
   "id": "7876b844-65a8-40cd-8691-e4c4d33ebe60",
   "metadata": {},
   "outputs": [
    {
     "name": "stdout",
     "output_type": "stream",
     "text": [
      "1번째 리뷰 \n",
      " 아이들 여름 이불을 바꾸려고 겅색중 알게되어 구입했는데 신랑이 탐을 내어 하나더 구입 했네요. 촉감도 양면으로 부트러운면콰 시윈한 냉감이 있어 좋네요. 여름 이불로 적극 추천입니다(2020-08-07 14:26:40 에 등록된 네이버 페이 구매평)\n",
      "\n",
      "2번째 리뷰 \n",
      " 주말부부라 신랑이 원룸에서 사용중인데너무 좋다고아들것도 주문해주라고 난리랍니다..평소 불면증을 호소하며..힘들어했는데요즘은 그런 불평이 사라졌어요^^\n",
      "\n",
      "3번째 리뷰 \n",
      " 신랑이 피부가 예민해서 피부과 약을 장기적으로 복용즁이에요  다른 이불은 피부가 긁혀 힘들어 했는데 바디럽 쓰고는 신세계라고 해여~ 감사해용! 제품 굿 세상 시원합니다!!\n",
      "\n",
      "4번째 리뷰 \n",
      " 바디럽 제품은 매트리스부터 믿고 사용하고 있던 와중에 남편이 쿨이불 사달라해서 구매했습니다.구매하고 얼마 되지않아 24년 신제품이 출시되는바람에 좀 더 기다릴까 후회스러웠지만 피스타치오 색상을 사고싶었기에 리뉴얼 제품은 다음에 사볼게요 ㅎㅎㅎ일단 이불 정말 가볍고 받자마자 울코스로 세탁했는데 엄청 빨리 건조되더라구요겉감이랑 안감이 따로 노는 느낌이 있지만 촉감이 좋고 촉촉한 부드러움입니다~ 남편이 시원하다고 좋아하네요색상도 너무 마음에 들어요! 매트리스 커버 색상과 잘 어울려요저희집은 매트리스, 베개, 이불까지 바디럽 제품을 사용한답니당만족도 좋아요\n",
      "\n",
      "5번째 리뷰 \n",
      " 아이보리 싱글이 품절이라 기다렸다가 드디어 받았어요!!왜 진작 안샀을까 싶을만큼 매트와 이불 만족도 넘 높아요.이불 너무 부드럽고 가벼워요.매트는 방수가 되서 물을 쏟아도 걱정없구요, 땀 흘려도 몸에 붙지 않아 좋아요.마약 베개도 구매하러 갑니다ㅎㅎ\n",
      "\n"
     ]
    }
   ],
   "source": [
    "# 전체리뷰 출력\n",
    "for i in range(len(review)):\n",
    "    print(f\"{i+1}번째 리뷰 \\n {review[i].text.strip()}\", end = \"\\n\\n\")"
   ]
  },
  {
   "cell_type": "code",
   "execution_count": null,
   "id": "8e917e1f-5196-4b52-8f06-6af457907afb",
   "metadata": {},
   "outputs": [],
   "source": []
  }
 ],
 "metadata": {
  "kernelspec": {
   "display_name": "Python 3 (ipykernel)",
   "language": "python",
   "name": "python3"
  },
  "language_info": {
   "codemirror_mode": {
    "name": "ipython",
    "version": 3
   },
   "file_extension": ".py",
   "mimetype": "text/x-python",
   "name": "python",
   "nbconvert_exporter": "python",
   "pygments_lexer": "ipython3",
   "version": "3.11.7"
  }
 },
 "nbformat": 4,
 "nbformat_minor": 5
}
