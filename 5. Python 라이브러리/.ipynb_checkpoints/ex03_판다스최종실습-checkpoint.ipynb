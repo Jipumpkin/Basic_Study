{
 "cells": [
  {
   "cell_type": "code",
   "execution_count": 1,
   "id": "b527fb67-d732-45fe-9e1d-a1df0f964e95",
   "metadata": {},
   "outputs": [],
   "source": [
    "import pandas as pd"
   ]
  },
  {
   "cell_type": "code",
   "execution_count": 133,
   "id": "872abc7f-793e-4434-b92e-d67a11333065",
   "metadata": {},
   "outputs": [],
   "source": [
    "y2019 = pd.read_csv('data/2019.csv', encoding = 'euc-kr', index_col = '관서명')\n",
    "y2020 = pd.read_csv('data/2020.csv', encoding = 'euc-kr', index_col = '관서명')\n",
    "y2021 = pd.read_csv('data/2021.csv', encoding = 'euc-kr', index_col = '관서명')"
   ]
  },
  {
   "cell_type": "code",
   "execution_count": 135,
   "id": "1273fd09-4d95-43e4-8c0d-449326cb25eb",
   "metadata": {},
   "outputs": [],
   "source": [
    "# 21년도에만 존재하는 광주지방경찰청 삭제\n",
    "y2021.drop('광주지방경찰청', inplace = True)"
   ]
  },
  {
   "cell_type": "code",
   "execution_count": 191,
   "id": "97054544-e343-4329-9ae4-79abc57db001",
   "metadata": {},
   "outputs": [],
   "source": [
    "# 각 연도별 범죄현황 총합 구하기 -> 총합 컬럼 추가\n",
    "y2019['총합'] = y2019.loc[:,'살인':'폭력'].sum(axis =1)\n",
    "y2020['총합'] = y2020.loc[:,'살인':'폭력'].sum(axis =1)\n",
    "y2021['총합'] = y2021.loc[:,'살인':'폭력'].sum(axis =1)"
   ]
  },
  {
   "cell_type": "code",
   "execution_count": 193,
   "id": "156eeb7f-62e2-47c8-996c-b3260b9c584b",
   "metadata": {},
   "outputs": [],
   "source": [
    "# 각 연도별로 구분이 '발생건수'인 데이터만 추출해서 임시변수(temp2019 - -) 에 담기\n",
    "temp2019 = y2019[y2019['구분'] == '발생건수']\n",
    "temp2020 = y2020[y2019['구분'] == '발생건수']\n",
    "temp2021 = y2021[y2019['구분'] == '발생건수']"
   ]
  },
  {
   "cell_type": "code",
   "execution_count": 195,
   "id": "9a6f802a-cdc3-4f36-abdc-3582004ab4d9",
   "metadata": {},
   "outputs": [],
   "source": [
    "# 각 연도별로 '총합'컬럼만 추출하기 -> Series 형태로 추출될것임 (s2019 - - )담기\n",
    "s2019 = temp2019['총합']\n",
    "s2020 = temp2020['총합']\n",
    "s2021 = temp2021['총합']"
   ]
  },
  {
   "cell_type": "code",
   "execution_count": 199,
   "id": "40bca18a-92e6-4ff9-afae-8d661b543a54",
   "metadata": {},
   "outputs": [],
   "source": [
    "# Series 데이터 이름 변경 (병합할건데 이름이 다 총합이기에) 2019총계 2020총계 2021총계\n",
    "s2019.name = '2019총계'\n",
    "s2020.name = '2020총계'\n",
    "s2021.name = '2021총계'"
   ]
  },
  {
   "cell_type": "code",
   "execution_count": 216,
   "id": "4161633e-30d0-406f-a236-881550ee864f",
   "metadata": {},
   "outputs": [
    {
     "data": {
      "text/html": [
       "<div>\n",
       "<style scoped>\n",
       "    .dataframe tbody tr th:only-of-type {\n",
       "        vertical-align: middle;\n",
       "    }\n",
       "\n",
       "    .dataframe tbody tr th {\n",
       "        vertical-align: top;\n",
       "    }\n",
       "\n",
       "    .dataframe thead th {\n",
       "        text-align: right;\n",
       "    }\n",
       "</style>\n",
       "<table border=\"1\" class=\"dataframe\">\n",
       "  <thead>\n",
       "    <tr style=\"text-align: right;\">\n",
       "      <th></th>\n",
       "      <th>2019총계</th>\n",
       "      <th>2019-2020증감률</th>\n",
       "      <th>2020총계</th>\n",
       "      <th>2020-2021증감률</th>\n",
       "      <th>2021총계</th>\n",
       "    </tr>\n",
       "    <tr>\n",
       "      <th>관서명</th>\n",
       "      <th></th>\n",
       "      <th></th>\n",
       "      <th></th>\n",
       "      <th></th>\n",
       "      <th></th>\n",
       "    </tr>\n",
       "  </thead>\n",
       "  <tbody>\n",
       "    <tr>\n",
       "      <th>광주지방경찰청계</th>\n",
       "      <td>18830</td>\n",
       "      <td>-18.130643</td>\n",
       "      <td>15416</td>\n",
       "      <td>-9.516087</td>\n",
       "      <td>13949</td>\n",
       "    </tr>\n",
       "    <tr>\n",
       "      <th>광주동부경찰서</th>\n",
       "      <td>2355</td>\n",
       "      <td>-12.186837</td>\n",
       "      <td>2068</td>\n",
       "      <td>-13.007737</td>\n",
       "      <td>1799</td>\n",
       "    </tr>\n",
       "    <tr>\n",
       "      <th>광주서부경찰서</th>\n",
       "      <td>4720</td>\n",
       "      <td>-17.542373</td>\n",
       "      <td>3892</td>\n",
       "      <td>-6.526208</td>\n",
       "      <td>3638</td>\n",
       "    </tr>\n",
       "    <tr>\n",
       "      <th>광주남부경찰서</th>\n",
       "      <td>2117</td>\n",
       "      <td>-11.903637</td>\n",
       "      <td>1865</td>\n",
       "      <td>-17.050938</td>\n",
       "      <td>1547</td>\n",
       "    </tr>\n",
       "    <tr>\n",
       "      <th>광주북부경찰서</th>\n",
       "      <td>5466</td>\n",
       "      <td>-24.112697</td>\n",
       "      <td>4148</td>\n",
       "      <td>-4.893925</td>\n",
       "      <td>3945</td>\n",
       "    </tr>\n",
       "    <tr>\n",
       "      <th>광주광산경찰서</th>\n",
       "      <td>4172</td>\n",
       "      <td>-17.473634</td>\n",
       "      <td>3443</td>\n",
       "      <td>-12.285797</td>\n",
       "      <td>3020</td>\n",
       "    </tr>\n",
       "  </tbody>\n",
       "</table>\n",
       "</div>"
      ],
      "text/plain": [
       "          2019총계  2019-2020증감률  2020총계  2020-2021증감률  2021총계\n",
       "관서명                                                         \n",
       "광주지방경찰청계   18830    -18.130643   15416     -9.516087   13949\n",
       "광주동부경찰서     2355    -12.186837    2068    -13.007737    1799\n",
       "광주서부경찰서     4720    -17.542373    3892     -6.526208    3638\n",
       "광주남부경찰서     2117    -11.903637    1865    -17.050938    1547\n",
       "광주북부경찰서     5466    -24.112697    4148     -4.893925    3945\n",
       "광주광산경찰서     4172    -17.473634    3443    -12.285797    3020"
      ]
     },
     "execution_count": 216,
     "metadata": {},
     "output_type": "execute_result"
    }
   ],
   "source": [
    "#증감률구하기\n",
    "j2 = (s2020-s2019)/s2019*100\n",
    "j3 = (s2021-s2020)/s2020*100 #변수명 규칙 지켜야함\n",
    "\n",
    "#아름 바꿔주기\n",
    "j2.name = \"2019-2020증감률\"\n",
    "j3.name = \"2020-2021증감률\"\n",
    "\n",
    "# 데이터 병합하기\n",
    "result = pd.concat([s2019,j2,s2020,j3,s2021],axis=1)\n",
    "\n",
    "result"
   ]
  },
  {
   "cell_type": "code",
   "execution_count": null,
   "id": "c1d7b7cd-3bc1-489e-8e71-6ac71c94d3d4",
   "metadata": {},
   "outputs": [],
   "source": []
  },
  {
   "cell_type": "code",
   "execution_count": null,
   "id": "c7582a7c-6b87-4740-a048-c49b02c25150",
   "metadata": {},
   "outputs": [],
   "source": []
  },
  {
   "cell_type": "code",
   "execution_count": null,
   "id": "0b0b4038-7837-4886-9917-f4618ace460b",
   "metadata": {},
   "outputs": [],
   "source": []
  },
  {
   "cell_type": "code",
   "execution_count": null,
   "id": "5a85bda6-9649-426f-8dff-fa201ef051b8",
   "metadata": {},
   "outputs": [],
   "source": []
  }
 ],
 "metadata": {
  "kernelspec": {
   "display_name": "Python 3 (ipykernel)",
   "language": "python",
   "name": "python3"
  },
  "language_info": {
   "codemirror_mode": {
    "name": "ipython",
    "version": 3
   },
   "file_extension": ".py",
   "mimetype": "text/x-python",
   "name": "python",
   "nbconvert_exporter": "python",
   "pygments_lexer": "ipython3",
   "version": "3.11.7"
  }
 },
 "nbformat": 4,
 "nbformat_minor": 5
}
