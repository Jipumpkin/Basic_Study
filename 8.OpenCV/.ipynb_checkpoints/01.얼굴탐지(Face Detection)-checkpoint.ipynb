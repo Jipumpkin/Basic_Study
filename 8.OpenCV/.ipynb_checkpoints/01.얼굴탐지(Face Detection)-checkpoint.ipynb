{
 "cells": [
  {
   "cell_type": "code",
   "execution_count": 1,
   "id": "c8323d1e-8061-4966-964a-1f4a7eb57071",
   "metadata": {},
   "outputs": [],
   "source": [
    "# !pip list\n",
    "# 설치한 패키지 전부 조회\n",
    "# !pip install cvlib"
   ]
  },
  {
   "cell_type": "code",
   "execution_count": 2,
   "id": "a6e22a5c-27fa-497b-9ad4-2eff09a9c814",
   "metadata": {},
   "outputs": [],
   "source": [
    "# !pip install tensorflow==2.16.2\n",
    "# cvlib은 tensorflow 기반의 딥러닝 모델을 제공함\n",
    "# 그래서 tensorflow 를 설치해야함"
   ]
  },
  {
   "cell_type": "code",
   "execution_count": 3,
   "id": "cec3e406-4f7e-4429-9ca4-544339e57d57",
   "metadata": {},
   "outputs": [],
   "source": [
    "import cvlib as cv # 객체탐지, 얼굴인식, 이미지 분류, 새그멘테이션 등의 기능"
   ]
  },
  {
   "cell_type": "code",
   "execution_count": 4,
   "id": "c9258dbe-dc58-4542-90e8-3ee455cf3838",
   "metadata": {},
   "outputs": [],
   "source": [
    "import cv2\n",
    "import matplotlib.pyplot as plt"
   ]
  },
  {
   "cell_type": "code",
   "execution_count": 5,
   "id": "23770b74-b215-427e-bafb-5e47aeae1241",
   "metadata": {},
   "outputs": [
    {
     "data": {
      "text/plain": [
       "[[173, 266, 223, 344], [327, 264, 375, 330]]"
      ]
     },
     "metadata": {},
     "output_type": "display_data"
    },
    {
     "data": {
      "text/plain": [
       "[0.99384004, 0.9714806]"
      ]
     },
     "metadata": {},
     "output_type": "display_data"
    }
   ],
   "source": [
    "img = cv2.imread(\"./data/team.png\")\n",
    "\n",
    "faces, conf = cv.detect_face(img) # 얼굴이라는 객체를 추적\n",
    "display(faces) # [좌상단 x, 좌상단y , 우하단x, 우상단y]\n",
    "display(conf) # 얼굴이라는 확률(컨피젼스, 확률)\n",
    "\n",
    "cv2.imshow(\"cute\",img)\n",
    "cv2.waitKey(0)\n",
    "cv2.destroyAllWindows()\n"
   ]
  },
  {
   "cell_type": "code",
   "execution_count": 6,
   "id": "db4d5045-7b9f-41ae-8801-9fe16665d5f1",
   "metadata": {},
   "outputs": [],
   "source": [
    "import numpy as np\n",
    "img_bg = np.zeros((480, 640, 3))\n",
    "line_color = [0,255,0] # 초록색\n",
    "line_thick = 4 # 두께\n",
    "\n",
    "cv2.rectangle(\n",
    "    img_bg,\n",
    "    (0, 240),\n",
    "    (320,480),\n",
    "    line_color,\n",
    "    line_thick\n",
    "    \n",
    "    \n",
    ")\n",
    "\n",
    "\n",
    "cv2.rectangle(img_bg, (0,240), (320,480), line_color, cv2.FILLED)\n",
    "cv2.imshow('img_bg', img_bg)\n",
    "cv2.waitKey(0)\n",
    "cv2.destroyAllWindows()\n"
   ]
  },
  {
   "cell_type": "code",
   "execution_count": 7,
   "id": "993f946e-bc73-4578-8ea5-8af46953f315",
   "metadata": {},
   "outputs": [
    {
     "data": {
      "text/plain": [
       "266"
      ]
     },
     "metadata": {},
     "output_type": "display_data"
    },
    {
     "data": {
      "text/plain": [
       "0.99384004"
      ]
     },
     "metadata": {},
     "output_type": "display_data"
    }
   ],
   "source": [
    "# 모델이 뱉어낸 좌표값으로 바운딩 박스 표현, 확률값 표현 해보기\n",
    "img = cv2.imread(\"./data/team.png\")\n",
    "faces, conf = cv.detect_face(img) # 얼굴이라는 객체를 추적\n",
    "\n",
    "display(faces[0][1]) # [좌상단 x, 좌상단y , 우하단x, 우상단y]\n",
    "display(conf[0]) # 얼굴이라는 확률(컨피젼스, 확률)\n",
    "\n",
    "# 바운딩 박스(사각형) 그리기\n",
    "for (top_left_x, top_left_y, bot_right_x, bot_right_y), confidence in zip(faces, conf) :\n",
    "    # 확률(텍스트) 추가\n",
    "\n",
    "    cv2.putText(\n",
    "        img,\n",
    "        f\"{confidence:.3f}\", # 이미지에 넣을 텍스트(:.3f )\n",
    "        (top_left_x, top_left_y-10),\n",
    "        cv2.FONT_HERSHEY_PLAIN, # 글꼴\n",
    "        2, # 글꼴 크기\n",
    "        line_color, # 텍스트 색상\n",
    "        2 # 텍스트 선 두께\n",
    "    )\n",
    "    cv2.rectangle(img, (top_left_x, top_left_y), (bot_right_x, bot_right_y), line_color, line_thick )\n",
    "\n",
    "\n",
    "cv2.imshow(\"cute\",img)\n",
    "cv2.waitKey(0)\n",
    "cv2.destroyAllWindows()\n"
   ]
  },
  {
   "cell_type": "code",
   "execution_count": 8,
   "id": "b03a194d-0f50-4d96-ae80-5322864824a3",
   "metadata": {},
   "outputs": [],
   "source": [
    "# for faces, conf in zip(faces, conf) :\n",
    "#     print(faces)\n",
    "#     print(conf)\n",
    "\n",
    "# 반복문 순회 이런식으로도 가능"
   ]
  },
  {
   "cell_type": "code",
   "execution_count": 9,
   "id": "3990a966-c317-4977-ac21-61ef759eb771",
   "metadata": {},
   "outputs": [
    {
     "name": "stdout",
     "output_type": "stream",
     "text": [
      "173\n",
      "266\n",
      "223\n",
      "344\n",
      "0.99384004\n",
      "327\n",
      "264\n",
      "375\n",
      "330\n",
      "0.9714806\n"
     ]
    }
   ],
   "source": [
    "img = cv2.imread(\"./data/team.png\")\n",
    "faces, conf = cv.detect_face(img)\n",
    "for (top_left_x, top_left_y, bot_right_x, bot_right_y), conf in zip(faces, conf) :\n",
    "    print(top_left_x)\n",
    "    print(top_left_y)\n",
    "    print(bot_right_x)\n",
    "    print(bot_right_y)\n",
    "    print(conf)\n",
    "# 반복문 순회 이런식으로도 가능"
   ]
  },
  {
   "cell_type": "markdown",
   "id": "e4e248f2-7ffd-44d3-b34d-e6596ce43d58",
   "metadata": {},
   "source": [
    "##### 직선(Line) 그리기\r\n",
    "\r\n",
    "`cv.line()`\r\n",
    "\r\n",
    "|파라미터|설명|\r\n",
    "|--------|----|\r\n",
    "|`img`|그림을 그릴 이미지 파일|\r\n",
    "|`start`|시작 좌표|\r\n",
    "|`end`|종료 좌표|\r\n",
    "|`color`|BGR형태의 Color (e.g., (255, 0, 0)→Blue)|\r\n",
    "|`thickness` (int)|선의 두께 (pixel)|\r\n",
    "\r\n",
    "---\r\n",
    "\r\n",
    "##### 사각형(Rectangle) 그리기\r\n",
    "\r\n",
    "`cv2.rectangle()`\r\n",
    "\r\n",
    "|파라미터|설명|\r\n",
    "|--------|----|\r\n",
    "|`img`|그림을 그릴 이미지|\r\n",
    "|`start`|시작 좌표|\r\n",
    "|`end`|종료 좌표|\r\n",
    "|`color`|BGR형태의 Color (e.g., (255, 0, 0)→Blue)|\r\n",
    "|`thickness` (int)|선의 두께 (pixel)|\r\n",
    "\r\n",
    "---\r\n",
    "\r\n",
    "##### 원(Circle) 그리기\r\n",
    "\r\n",
    "`cv2.circle()`\r\n",
    "\r\n",
    "|파라미터|설명|\r\n",
    "|--------|----|\r\n",
    "|`img`|그림을 그릴 이미지|\r\n",
    "|`center`|원의 중심 좌표(x, y)|\r\n",
    "|`radian`|반지름|\r\n",
    "|`color`|BGR형태의 Color|\r\n",
    "|`thickness`|선 두께, -1이면 원 안쪽을 채움|\r\n",
    "|`lineType`|선의 형태, `cv2.line()` 함수의 인수와 동일|\r\n",
    "|`shift`|좌표에 대한 비트 시프트 연산|\r\n",
    "\r\n",
    "---\r\n",
    "\r\n",
    "##### 타원(Ellipse) 그리기\r\n",
    "\r\n",
    "`cv2.ellipse()`\r\n",
    "\r\n",
    "|파라미터|설명|\r\n",
    "|--------|----|\r\n",
    "|`img`|image|\r\n",
    "|`center`|타원의 중심|\r\n",
    "|`axes`|중심에서 가장 큰 거리와 작은 거리|\r\n",
    "|`angle`|타원의 기울기 각|\r\n",
    "|`startAngle`|타원의 시작 각도|\r\n",
    "|`endAngle`|타원이 끝나는 각도|\r\n",
    "|`color`|타원의 색|\r\n",
    "|`thickness`|선의 두께, -1이면 안쪽을 채움|\r\n",
    "|`lineType`|선의 형태|\r\n",
    "|`shift`|좌표에 대한 비트 시프트|\r\n",
    "\r\n",
    "---\r\n",
    "\r\n",
    "##### 다각형(Polygon) 그리기\r\n",
    "\r\n",
    "`cv2.polylines()`\r\n",
    "\r\n",
    "|파라미터|설명|\r\n",
    "|--------|----|\r\n",
    "|`img`|image|\r\n",
    "|`pts` (array)|연결할 꼭지점 좌표|\r\n",
    "|`isClosed`|닫힌 도형 여부|\r\n",
    "|`color`|Color|\r\n",
    "|`thickness`|선 두께|\r\n",
    "\r\n",
    "- 이미지에 표현하기 위해 점 좌표를 3차원 행렬로 변환\r\n",
    "  - 변환이전과 이후의 행렬 갯수는 동일해야함\r\n",
    "  - -1은 원본에 해당하는 값을 그대로 유지"
   ]
  },
  {
   "cell_type": "markdown",
   "id": "3089b360-602c-47f3-88b2-580212b4e53f",
   "metadata": {},
   "source": [
    "##### 텍스트(Text) 그리기\r\n",
    "\r\n",
    "`cv2.putText()`\r\n",
    "\r\n",
    "|파라미터|설명|\r\n",
    "|--------|----|\r\n",
    "|`img`|image|\r\n",
    "|`text`|표시할 문자열|\r\n",
    "|`org`|문자열이 표시될 위치. 문자열의 **bottom-left corner 점**|\r\n",
    "|`fontFace`|폰트 타입. `CV2.FONT_XXX`|\r\n",
    "|`fontScale`|폰트 크기|\r\n",
    "|`color`|폰트 색상|\r\n",
    "|`thichness`|글자의 굵기|\r\n",
    "|`lineType`|글자 선의 형태|\r\n",
    "|`bottomLeftOrigin`|영상의 원점 좌표 설정(True: 좌하단, False: 좌상단)|\r\n",
    "\r\n",
    "---\r\n",
    "\r\n",
    "- 문자열 폰트 옵션\r\n",
    "\r\n",
    "|옵션|값|설명|\r\n",
    "|----|--|----|\r\n",
    "|`cv2.FONT_HERSHEY_SIMPLEX`|0|중간 크기 산세리프 폰트|\r\n",
    "|`cv2.FONT_HERSHEY_PLAIN`|1|작은 크기 산세리프 폰트|\r\n",
    "|`cv2.FONT_HERSHEY_DUPLEX`|2|2줄 산세리프 폰트|\r\n",
    "|`cv2.FONT_HERSHEY_COMPLEX`|3|중간 크기 세리프 폰트|\r\n",
    "|`cv2.FONT_HERSHEY_TRIPLEX`|4|3줄 세리프 폰트|\r\n",
    "|`cv2.FONT_HERSHEY_COMPLEX_SMALL`|5|COMPLEX 보다 작은 크기|\r\n",
    "|`cv2.FONT_HERSHEY_SCRIPT_SIMPLEX`|6|필기체 스타일 폰트|\r\n",
    "|`cv2.FONT_HERSHEY_SCRIPT_COMPLEX`|7|복잡한 필기체 스타일|\r\n",
    "|`cv2.FONT_ITALIC`|16|이탤릭체를 위한 플래그|"
   ]
  },
  {
   "cell_type": "code",
   "execution_count": 12,
   "id": "e76f487a-f243-43d0-8fb2-46f8edf4198f",
   "metadata": {},
   "outputs": [
    {
     "name": "stdout",
     "output_type": "stream",
     "text": [
      "사용자가 꺼버림\n"
     ]
    }
   ],
   "source": [
    "import cv2\n",
    "\n",
    "# 카메라 캡처 초기화\n",
    "cap = cv2.VideoCapture(0)\n",
    "\n",
    "# Haar Cascade 얼굴 탐지기 로드\n",
    "face_cascade = cv2.CascadeClassifier(cv2.data.haarcascades + 'haarcascade_frontalface_default.xml')\n",
    "\n",
    "# 사각형 색상과 두께 설정\n",
    "line_color = [0, 255, 0] # 초록색\n",
    "line_thick = 2 # 두께\n",
    "\n",
    "cnt = 0\n",
    "while True:\n",
    "    # 프레임 읽기\n",
    "    ch, frame = cap.read() # ch : 읽기 성공 여부, frame : 받아온 프레임\n",
    "    \n",
    "    # 프레임 읽기 실패할 경우\n",
    "    if not ch:\n",
    "        print(\"끝. 읽기 실패\")\n",
    "        break\n",
    "    \n",
    "    # 프레임 좌우 반전\n",
    "    flip_frame = cv2.flip(frame, 1)\n",
    "    \n",
    "    # 그레이스케일로 변환 (얼굴 탐지를 위해)\n",
    "    gray = cv2.cvtColor(flip_frame, cv2.COLOR_BGR2GRAY)\n",
    "    \n",
    "    # 얼굴 탐지\n",
    "    faces = face_cascade.detectMultiScale(gray, scaleFactor=1.1, minNeighbors=5, minSize=(30, 30))\n",
    "    \n",
    "    # 얼굴에 사각형과 확률(여기서는 고정된 확률 값 사용)을 그리기\n",
    "    for (x, y, w, h) in faces:\n",
    "        confidence = 1.0 # Haar Cascades는 확률 값을 제공하지 않지만, 다른 모델을 사용하면 확률 값을 얻을 수 있음\n",
    "        cv2.putText(\n",
    "            flip_frame,\n",
    "            f\"{confidence:.3f}\", # 이미지에 넣을 텍스트(:.3f)\n",
    "            (x, y - 10),\n",
    "            cv2.FONT_HERSHEY_PLAIN, # 글꼴\n",
    "            2, # 글꼴 크기\n",
    "            line_color, # 텍스트 색상\n",
    "            2 # 텍스트 선 두께\n",
    "        )\n",
    "        cv2.rectangle(flip_frame, (x, y), (x + w, y + h), line_color, line_thick)\n",
    "    \n",
    "    # 제대로 읽을 경우\n",
    "    cv2.imshow(\"Video\", flip_frame)\n",
    "    \n",
    "    key = cv2.waitKey(30)\n",
    "    if key == ord('q'): # 종료 기능\n",
    "        print(\"사용자가 꺼버림\")\n",
    "        break\n",
    "    if key == ord('w'): # 캡처 기능\n",
    "        cnt += 1\n",
    "        print(f\"./data/face_dt{cnt}.png 으로 사진저장\")\n",
    "        cv2.imwrite(f\"./data/face_dt{cnt}.png\", flip_frame, params=[cv2.IMWRITE_PNG_COMPRESSION, 0])\n",
    "\n",
    "# 리소스 해제\n",
    "cap.release()\n",
    "cv2.destroyAllWindows()\n"
   ]
  },
  {
   "cell_type": "markdown",
   "id": "4717152b-4c70-4965-b137-752b60b29a98",
   "metadata": {},
   "source": [
    "- 얼굴영역을 자동으로 모자이크 처리하기\n",
    "- 블러링 : 초점이 맞지 않듯이 이미지나 영상을 흐릿하게 하는 작업\n",
    "- 컴퓨터 비전에서 객체 인식이나 추적을 수행하기 전에 블러링 처리를 하여, 불필요한 정보를 제거하고 종요한 특징이 더 잘 드러나도록 활용"
   ]
  },
  {
   "cell_type": "markdown",
   "id": "7e34e432-cf73-4b25-bebf-bb29624400cb",
   "metadata": {},
   "source": [
    "#### Gaussian Blur 활용\n",
    "- 주변 픽셓에 대해 가중평균 계산 시 가우시안(정규 분포) 함수 활용\n",
    "- 중심 픽셀에 더 큰 가중치를, 멀어질수록 가중치를 감소\n",
    "- 여러 가지 블러링 기법보다 훨씬 더 자연스러운 블러링 효과를 제공, 이미지의 중요한 특성을 상대적으로 더 잘 보존하는 경향을 보임\n",
    "- 노이즈감소에 효과적"
   ]
  },
  {
   "cell_type": "code",
   "execution_count": 51,
   "id": "44ee97ff-db37-47f4-b2f5-8381b44dbea4",
   "metadata": {},
   "outputs": [],
   "source": [
    "img = cv2.imread(\"./data/team.png\")\n",
    "\n",
    "faces, conf = cv.detect_face(img)\n",
    "\n",
    "for (x, y, w, h), confidence in zip(faces, conf):\n",
    "    img_crop = img[ y : h , x : w ]\n",
    "    img_blur = cv2.GaussianBlur(\n",
    "        img_crop,\n",
    "        ksize = (0,0),\n",
    "        sigmaX = 13 \n",
    "    )\n",
    "\n",
    "    img[ y : h , x : w  ] = img_blur\n",
    "    \n",
    "cv2.imshow(\"img\",img)\n",
    "cv2.waitKey(0)\n",
    "cv2.destroyAllWindows()\n",
    "\n"
   ]
  },
  {
   "cell_type": "markdown",
   "id": "9182d94e-a290-485d-bb71-deb26f92ec72",
   "metadata": {},
   "source": [
    "- 카메라 연동해서 얼굴 모자이크 처리하기"
   ]
  },
  {
   "cell_type": "code",
   "execution_count": 64,
   "id": "7fb3a0c8-5970-4751-aa0f-99b91bdb94d8",
   "metadata": {},
   "outputs": [
    {
     "name": "stdout",
     "output_type": "stream",
     "text": [
      "사용자가 꺼버림\n"
     ]
    }
   ],
   "source": [
    "import cv2\n",
    "\n",
    "# 카메라 캡처 초기화\n",
    "cap = cv2.VideoCapture(0)\n",
    "\n",
    "# Haar Cascade 얼굴 탐지기 로드\n",
    "face_cascade = cv2.CascadeClassifier(cv2.data.haarcascades + 'haarcascade_frontalface_default.xml')\n",
    "\n",
    "# 사각형 색상과 두께 설정\n",
    "line_color = [0, 255, 0] # 초록색\n",
    "line_thick = 2 # 두께\n",
    "\n",
    "cnt = 0\n",
    "while True:\n",
    "    # 프레임 읽기\n",
    "    ch, frame = cap.read() # ch : 읽기 성공 여부, frame : 받아온 프레임\n",
    "    \n",
    "    # 프레임 읽기 실패할 경우\n",
    "    if not ch:\n",
    "        print(\"끝. 읽기 실패\")\n",
    "        break\n",
    "    \n",
    "    # 프레임 좌우 반전\n",
    "    flip_frame = cv2.flip(frame, 1)\n",
    "\n",
    "\n",
    "    \n",
    "    \n",
    "    # 그레이스케일로 변환 (얼굴 탐지를 위해)\n",
    "    gray = cv2.cvtColor(flip_frame, cv2.COLOR_BGR2GRAY)\n",
    "    # 얼굴 객체 추적\n",
    "    faces, conf = cv.detect_face(flip_frame)\n",
    "\n",
    "    for (x, y, w, h), confidence in zip(faces, conf):\n",
    "        img_crop = flip_frame[ y : h , x : w ]\n",
    "        img_blur = cv2.GaussianBlur(\n",
    "            img_crop,\n",
    "            ksize = (0,0),\n",
    "            sigmaX = 13 \n",
    "        )\n",
    "\n",
    "        flip_frame[ y : h , x : w  ] = img_blur\n",
    "    \n",
    "    # 제대로 읽을 경우\n",
    "    cv2.imshow(\"Video\", img_blur)\n",
    "    \n",
    "    key = cv2.waitKey(30)\n",
    "    if key == ord('q'): # 종료 기능\n",
    "        print(\"사용자가 꺼버림\")\n",
    "        break\n",
    "    if key == ord('w'): # 캡처 기능\n",
    "        cnt += 1\n",
    "        print(f\"./data/face_dt{cnt}.png 으로 사진저장\")\n",
    "        cv2.imwrite(f\"./data/face_dt{cnt}.png\", flip_frame, params=[cv2.IMWRITE_PNG_COMPRESSION, 0])\n",
    "\n",
    "# 리소스 해제\n",
    "cap.release()\n",
    "cv2.destroyAllWindows()\n"
   ]
  },
  {
   "cell_type": "code",
   "execution_count": null,
   "id": "151c1c6e-ac47-4153-a514-4c88155196e6",
   "metadata": {},
   "outputs": [],
   "source": []
  },
  {
   "cell_type": "code",
   "execution_count": null,
   "id": "984d4c5b-fb93-48b5-9b35-a6da31f99ed7",
   "metadata": {},
   "outputs": [],
   "source": []
  },
  {
   "cell_type": "code",
   "execution_count": null,
   "id": "698a5898-5aaa-4c6a-9b00-c3a5ff7fc565",
   "metadata": {},
   "outputs": [],
   "source": []
  },
  {
   "cell_type": "code",
   "execution_count": null,
   "id": "a88c8864-e12f-4727-b4ef-c846f4bf1b73",
   "metadata": {},
   "outputs": [],
   "source": []
  },
  {
   "cell_type": "code",
   "execution_count": null,
   "id": "b63fef78-3dcb-40aa-9371-3a21b454c732",
   "metadata": {},
   "outputs": [],
   "source": []
  },
  {
   "cell_type": "code",
   "execution_count": null,
   "id": "c4f9a669-2bea-45bd-88a8-b6dc0a04ff71",
   "metadata": {},
   "outputs": [],
   "source": []
  },
  {
   "cell_type": "code",
   "execution_count": null,
   "id": "afc98088-52db-4bb5-9f4f-81f6c1a5fdc4",
   "metadata": {},
   "outputs": [],
   "source": []
  },
  {
   "cell_type": "code",
   "execution_count": null,
   "id": "3e37e4f7-f431-40b0-82eb-0d221153c3e2",
   "metadata": {},
   "outputs": [],
   "source": []
  },
  {
   "cell_type": "code",
   "execution_count": null,
   "id": "2fa34d2e-7fef-456a-b302-cd6fa7fa6f58",
   "metadata": {},
   "outputs": [],
   "source": []
  }
 ],
 "metadata": {
  "kernelspec": {
   "display_name": "Python 3 (ipykernel)",
   "language": "python",
   "name": "python3"
  },
  "language_info": {
   "codemirror_mode": {
    "name": "ipython",
    "version": 3
   },
   "file_extension": ".py",
   "mimetype": "text/x-python",
   "name": "python",
   "nbconvert_exporter": "python",
   "pygments_lexer": "ipython3",
   "version": "3.11.7"
  }
 },
 "nbformat": 4,
 "nbformat_minor": 5
}
