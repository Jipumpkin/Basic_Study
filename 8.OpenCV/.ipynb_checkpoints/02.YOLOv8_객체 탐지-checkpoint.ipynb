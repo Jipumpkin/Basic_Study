{
 "cells": [
  {
   "cell_type": "code",
   "execution_count": 1,
   "id": "4dace3cb-89cd-4e5b-89fc-fbb46f46e789",
   "metadata": {},
   "outputs": [],
   "source": [
    "# !pip install ultralytics --user\n",
    "# --user : 관리자 권한으로 실행(설치) 하겠다는 의미\n"
   ]
  },
  {
   "cell_type": "markdown",
   "id": "8e04d0f0-786e-4d9f-92c9-bb2335f44060",
   "metadata": {},
   "source": [
    "### Yolo 모델 사용해보기\n",
    "- cocodataset 으로 학습됨\n",
    "- 전이 학습 X, 활용만 해보기"
   ]
  },
  {
   "cell_type": "code",
   "execution_count": null,
   "id": "4276d08e-97f4-42af-ad24-e173b2434ce7",
   "metadata": {},
   "outputs": [],
   "source": []
  },
  {
   "cell_type": "code",
   "execution_count": null,
   "id": "d838d9c8-4397-4177-9bdf-8fc6bcff10fc",
   "metadata": {},
   "outputs": [],
   "source": []
  },
  {
   "cell_type": "code",
   "execution_count": 3,
   "id": "092d9b63-6ed5-47d1-8383-4afb1a6c9aa1",
   "metadata": {},
   "outputs": [
    {
     "name": "stdout",
     "output_type": "stream",
     "text": [
      "\n",
      "Found https://ultralytics.com/images/bus.jpg locally at bus.jpg\n",
      "image 1/1 C:\\Users\\USER\\Desktop\\STUDTY\\8.OpenCV\\bus.jpg: 640x480 4 persons, 1 bus, 1 stop sign, 204.5ms\n",
      "Speed: 4.0ms preprocess, 204.5ms inference, 5.0ms postprocess per image at shape (1, 3, 640, 480)\n",
      "Results saved to \u001b[1mruns\\detect\\predict2\u001b[0m\n",
      "1 label saved to runs\\detect\\predict2\\labels\n"
     ]
    }
   ],
   "source": [
    "from ultralytics import YOLO\n",
    "\n",
    "# Load a model\n",
    "model = YOLO(\"yolov8n.pt\")  # 사전에 학습됭있는 모델을 로드\n",
    "\n",
    "# Use the model\n",
    "results = model(\"https://ultralytics.com/images/bus.jpg\",\n",
    "                save = True, # 예측 결과정보 저장\n",
    "                save_txt = True)  # 정보에 대한 txt 파일 저장\n"
   ]
  },
  {
   "cell_type": "code",
   "execution_count": 4,
   "id": "c8d9e3ce-6116-4e57-ac6d-b2bede5a5f14",
   "metadata": {},
   "outputs": [
    {
     "data": {
      "text/plain": [
       "[ultralytics.engine.results.Results object with attributes:\n",
       " \n",
       " boxes: ultralytics.engine.results.Boxes object\n",
       " keypoints: None\n",
       " masks: None\n",
       " names: {0: 'person', 1: 'bicycle', 2: 'car', 3: 'motorcycle', 4: 'airplane', 5: 'bus', 6: 'train', 7: 'truck', 8: 'boat', 9: 'traffic light', 10: 'fire hydrant', 11: 'stop sign', 12: 'parking meter', 13: 'bench', 14: 'bird', 15: 'cat', 16: 'dog', 17: 'horse', 18: 'sheep', 19: 'cow', 20: 'elephant', 21: 'bear', 22: 'zebra', 23: 'giraffe', 24: 'backpack', 25: 'umbrella', 26: 'handbag', 27: 'tie', 28: 'suitcase', 29: 'frisbee', 30: 'skis', 31: 'snowboard', 32: 'sports ball', 33: 'kite', 34: 'baseball bat', 35: 'baseball glove', 36: 'skateboard', 37: 'surfboard', 38: 'tennis racket', 39: 'bottle', 40: 'wine glass', 41: 'cup', 42: 'fork', 43: 'knife', 44: 'spoon', 45: 'bowl', 46: 'banana', 47: 'apple', 48: 'sandwich', 49: 'orange', 50: 'broccoli', 51: 'carrot', 52: 'hot dog', 53: 'pizza', 54: 'donut', 55: 'cake', 56: 'chair', 57: 'couch', 58: 'potted plant', 59: 'bed', 60: 'dining table', 61: 'toilet', 62: 'tv', 63: 'laptop', 64: 'mouse', 65: 'remote', 66: 'keyboard', 67: 'cell phone', 68: 'microwave', 69: 'oven', 70: 'toaster', 71: 'sink', 72: 'refrigerator', 73: 'book', 74: 'clock', 75: 'vase', 76: 'scissors', 77: 'teddy bear', 78: 'hair drier', 79: 'toothbrush'}\n",
       " obb: None\n",
       " orig_img: array([[[119, 146, 172],\n",
       "         [121, 148, 174],\n",
       "         [122, 152, 177],\n",
       "         ...,\n",
       "         [161, 171, 188],\n",
       "         [160, 170, 187],\n",
       "         [160, 170, 187]],\n",
       " \n",
       "        [[120, 147, 173],\n",
       "         [122, 149, 175],\n",
       "         [123, 153, 178],\n",
       "         ...,\n",
       "         [161, 171, 188],\n",
       "         [160, 170, 187],\n",
       "         [160, 170, 187]],\n",
       " \n",
       "        [[123, 150, 176],\n",
       "         [124, 151, 177],\n",
       "         [125, 155, 180],\n",
       "         ...,\n",
       "         [161, 171, 188],\n",
       "         [160, 170, 187],\n",
       "         [160, 170, 187]],\n",
       " \n",
       "        ...,\n",
       " \n",
       "        [[183, 182, 186],\n",
       "         [179, 178, 182],\n",
       "         [180, 179, 183],\n",
       "         ...,\n",
       "         [121, 111, 117],\n",
       "         [113, 103, 109],\n",
       "         [115, 105, 111]],\n",
       " \n",
       "        [[165, 164, 168],\n",
       "         [173, 172, 176],\n",
       "         [187, 186, 190],\n",
       "         ...,\n",
       "         [102,  92,  98],\n",
       "         [101,  91,  97],\n",
       "         [103,  93,  99]],\n",
       " \n",
       "        [[123, 122, 126],\n",
       "         [145, 144, 148],\n",
       "         [176, 175, 179],\n",
       "         ...,\n",
       "         [ 95,  85,  91],\n",
       "         [ 96,  86,  92],\n",
       "         [ 98,  88,  94]]], dtype=uint8)\n",
       " orig_shape: (1080, 810)\n",
       " path: 'C:\\\\Users\\\\USER\\\\Desktop\\\\STUDTY\\\\8.OpenCV\\\\bus.jpg'\n",
       " probs: None\n",
       " save_dir: 'runs\\\\detect\\\\predict2'\n",
       " speed: {'preprocess': 4.023313522338867, 'inference': 204.453706741333, 'postprocess': 4.983425140380859}]"
      ]
     },
     "execution_count": 4,
     "metadata": {},
     "output_type": "execute_result"
    }
   ],
   "source": [
    "results"
   ]
  },
  {
   "cell_type": "code",
   "execution_count": 5,
   "id": "da79489c-8e50-4060-b711-b37dab1989ea",
   "metadata": {},
   "outputs": [],
   "source": [
    "# 클래스 ID | 중심 x 좌표 | 중심 y 좌표 | 너비 | 높이\n",
    "# 5 0.511033 0.457462 0.965594 0.486632\n",
    "# 0 0.181417 0.602433 0.242957 0.466806\n",
    "# 0 0.913082 0.587603 0.173145 0.448935\n",
    "# 0 0.349684 0.584877 0.152412 0.418276\n",
    "# 0 0.0388932 0.659244 0.0777864 0.298998\n",
    "# 11 0.0201331 0.26821 0.0401225 0.0651988\n",
    "\n",
    "# 값은 이미지 너비나 높이에 대한 비율로 표현 (0 ~ 1)\n",
    "# 중심 x좌표 : 탐지한 객체의 바운딩박스 중심 X 좌표\n",
    "# 중심 y좌표 : 탐지한 객체의 바운딩박스 중심 Y 좌표\n",
    "\n",
    "\n",
    "\n"
   ]
  },
  {
   "cell_type": "code",
   "execution_count": 6,
   "id": "e24af6ce-83f7-45fe-bd3d-01bc02d6a63f",
   "metadata": {},
   "outputs": [
    {
     "data": {
      "text/plain": [
       "ultralytics.engine.results.Results"
      ]
     },
     "execution_count": 6,
     "metadata": {},
     "output_type": "execute_result"
    }
   ],
   "source": [
    "type(results[0])"
   ]
  },
  {
   "cell_type": "code",
   "execution_count": 7,
   "id": "7d56fdd2-106a-4784-b062-554b78057350",
   "metadata": {},
   "outputs": [],
   "source": [
    "import cv2\n",
    "\n",
    "cv2.imshow(\"yolon8 result\", results[0].plot())\n",
    "cv2.waitKey(0)\n",
    "cv2.destroyAllWindows()"
   ]
  },
  {
   "cell_type": "code",
   "execution_count": 8,
   "id": "83798895-3252-4b14-9515-4bc3fa441efa",
   "metadata": {},
   "outputs": [
    {
     "name": "stdout",
     "output_type": "stream",
     "text": [
      "\n",
      "0: 480x640 1 person, 215.9ms\n",
      "Speed: 6.0ms preprocess, 215.9ms inference, 2.9ms postprocess per image at shape (1, 3, 480, 640)\n",
      "\n",
      "0: 480x640 1 person, 226.9ms\n",
      "Speed: 4.0ms preprocess, 226.9ms inference, 4.0ms postprocess per image at shape (1, 3, 480, 640)\n",
      "\n",
      "0: 480x640 1 person, 241.2ms\n",
      "Speed: 10.0ms preprocess, 241.2ms inference, 4.0ms postprocess per image at shape (1, 3, 480, 640)\n",
      "\n",
      "0: 480x640 1 person, 201.5ms\n",
      "Speed: 8.0ms preprocess, 201.5ms inference, 3.0ms postprocess per image at shape (1, 3, 480, 640)\n",
      "\n",
      "0: 480x640 1 person, 201.5ms\n",
      "Speed: 2.0ms preprocess, 201.5ms inference, 3.0ms postprocess per image at shape (1, 3, 480, 640)\n",
      "\n",
      "0: 480x640 1 person, 190.5ms\n",
      "Speed: 4.0ms preprocess, 190.5ms inference, 4.0ms postprocess per image at shape (1, 3, 480, 640)\n",
      "\n",
      "0: 480x640 1 person, 191.5ms\n",
      "Speed: 5.0ms preprocess, 191.5ms inference, 3.0ms postprocess per image at shape (1, 3, 480, 640)\n",
      "\n",
      "0: 480x640 1 person, 208.5ms\n",
      "Speed: 3.0ms preprocess, 208.5ms inference, 4.0ms postprocess per image at shape (1, 3, 480, 640)\n",
      "\n",
      "0: 480x640 1 person, 206.4ms\n",
      "Speed: 2.0ms preprocess, 206.4ms inference, 4.0ms postprocess per image at shape (1, 3, 480, 640)\n",
      "\n",
      "0: 480x640 1 person, 207.4ms\n",
      "Speed: 4.0ms preprocess, 207.4ms inference, 2.9ms postprocess per image at shape (1, 3, 480, 640)\n",
      "\n",
      "0: 480x640 1 person, 204.9ms\n",
      "Speed: 1.0ms preprocess, 204.9ms inference, 4.0ms postprocess per image at shape (1, 3, 480, 640)\n"
     ]
    }
   ],
   "source": [
    "import cv2\n",
    "\n",
    "from ultralytics import YOLO\n",
    "\n",
    "# Load the YOLOv8 model\n",
    "model = YOLO(\"yolov8n.pt\")\n",
    "\n",
    "# Open the video fileq\n",
    "video_path = 0\n",
    "cap = cv2.VideoCapture(video_path)\n",
    "\n",
    "# Loop through the video frames\n",
    "while cap.isOpened():\n",
    "    # Read a frame from the video\n",
    "    success, frame = cap.read()\n",
    "\n",
    "    # frame = cv2.filp(frame, 1)\n",
    "\n",
    "    if success:\n",
    "        # Run YOLOv8 inference on the frame\n",
    "        results = model(frame)\n",
    "\n",
    "        # Visualize the results on the frame\n",
    "        annotated_frame = results[0].plot()\n",
    "\n",
    "        # Display the annotated frame\n",
    "        cv2.imshow(\"YOLOv8 Inference\", annotated_frame)\n",
    "\n",
    "        # Break the loop if 'q' is pressed\n",
    "        if cv2.waitKey(1) & 0xFF == ord(\"q\"): # 0xFF : \n",
    "            # 값의 마지막 8비트만 유지하고 남지 상위바트는 무시\n",
    "            # 0xFF : 운영체제에 따라 입력받은 키값을 저장하는 방식이 다름\n",
    "            break\n",
    "    else:\n",
    "        # Break the loop if the end of the video is reached\n",
    "        break\n",
    "\n",
    "# Release the video capture object and close the display window\n",
    "cap.release()\n",
    "cv2.destroyAllWindows()"
   ]
  },
  {
   "cell_type": "code",
   "execution_count": 9,
   "id": "c2765fcd-6fef-40df-9aa1-4a68ec05a130",
   "metadata": {},
   "outputs": [
    {
     "name": "stdout",
     "output_type": "stream",
     "text": [
      "\n",
      "image 1/1 C:\\Users\\USER\\Desktop\\STUDTY\\8.OpenCV\\data\\team.png: 480x640 4 persons, 242.4ms\n",
      "Speed: 8.0ms preprocess, 242.4ms inference, 3.0ms postprocess per image at shape (1, 3, 480, 640)\n"
     ]
    }
   ],
   "source": [
    "result = model(\"./data/team.png\")\n",
    "\n"
   ]
  },
  {
   "cell_type": "code",
   "execution_count": 10,
   "id": "f2c8b272-5141-426a-add7-2ee17d7ebcde",
   "metadata": {},
   "outputs": [
    {
     "data": {
      "text/plain": [
       "array([          0,           0,           0,           0], dtype=float32)"
      ]
     },
     "execution_count": 10,
     "metadata": {},
     "output_type": "execute_result"
    }
   ],
   "source": [
    "result[0].boxes.cls.numpy()\n",
    "# yolov8의 반환값은 항상 List형"
   ]
  },
  {
   "cell_type": "markdown",
   "id": "9e6c1ea1-5bdf-4360-8e6a-5c24a670fb6d",
   "metadata": {},
   "source": [
    "### yolov8모델 Flask 연동!"
   ]
  },
  {
   "cell_type": "code",
   "execution_count": 12,
   "id": "6599986e-3a9e-43d7-b8f3-4e299ce2f337",
   "metadata": {},
   "outputs": [],
   "source": [
    "def render_form():\n",
    "    return '''<!DOCTYPE html>\n",
    "                <html lang=\"en\">\n",
    "                <head>\n",
    "                    <meta charset=\"UTF-8\">\n",
    "                    <meta name=\"viewport\" content=\"width=device-width, initial-scale=1.0\">\n",
    "                    <title>Document</title>\n",
    "                </head>\n",
    "                <body>\n",
    "                    <form action=\"/predict\" method=\"post\" enctype=\"multipart/form-data\">\n",
    "                        <input type=\"file\" name=\"file\" id=\"\">\n",
    "                        <input type=\"submit\" value=\"예측하기\">\n",
    "                    </form>\n",
    "                </body>\n",
    "                </html>'''"
   ]
  },
  {
   "cell_type": "code",
   "execution_count": 13,
   "id": "b5c977cc-44f0-4f87-a0cd-bca52ceb1762",
   "metadata": {},
   "outputs": [],
   "source": [
    "import os\n",
    "from flask import Flask, request, jsonify\n",
    "# jsonify : 예측결과를 JSON 형태로 반환하는 도구"
   ]
  },
  {
   "cell_type": "code",
   "execution_count": null,
   "id": "f2a4b44e-f9cc-4e49-8917-a4d2e4360a8a",
   "metadata": {},
   "outputs": [
    {
     "name": "stdout",
     "output_type": "stream",
     "text": [
      " * Serving Flask app '__name__'\n",
      " * Debug mode: off\n"
     ]
    },
    {
     "name": "stderr",
     "output_type": "stream",
     "text": [
      "WARNING: This is a development server. Do not use it in a production deployment. Use a production WSGI server instead.\n",
      " * Running on http://127.0.0.1:5000\n",
      "Press CTRL+C to quit\n",
      "127.0.0.1 - - [18/Jul/2024 12:25:15] \"GET / HTTP/1.1\" 200 -\n",
      "[2024-07-18 12:25:23,276] ERROR in app: Exception on /predict [POST]\n",
      "Traceback (most recent call last):\n",
      "  File \"C:\\Users\\USER\\anaconda3\\Lib\\site-packages\\flask\\app.py\", line 2529, in wsgi_app\n",
      "    response = self.full_dispatch_request()\n",
      "               ^^^^^^^^^^^^^^^^^^^^^^^^^^^^\n",
      "  File \"C:\\Users\\USER\\anaconda3\\Lib\\site-packages\\flask\\app.py\", line 1826, in full_dispatch_request\n",
      "    return self.finalize_request(rv)\n",
      "           ^^^^^^^^^^^^^^^^^^^^^^^^^\n",
      "  File \"C:\\Users\\USER\\anaconda3\\Lib\\site-packages\\flask\\app.py\", line 1845, in finalize_request\n",
      "    response = self.make_response(rv)\n",
      "               ^^^^^^^^^^^^^^^^^^^^^^\n",
      "  File \"C:\\Users\\USER\\anaconda3\\Lib\\site-packages\\flask\\app.py\", line 2138, in make_response\n",
      "    raise TypeError(\n",
      "TypeError: The view function for 'make_predicthion' did not return a valid response. The function either returned None or ended without a return statement.\n",
      "127.0.0.1 - - [18/Jul/2024 12:25:23] \"POST /predict HTTP/1.1\" 500 -\n"
     ]
    },
    {
     "name": "stdout",
     "output_type": "stream",
     "text": [
      "<FileStorage: 'unnamed (2).jpg' ('image/jpeg')>\n"
     ]
    },
    {
     "name": "stderr",
     "output_type": "stream",
     "text": [
      "127.0.0.1 - - [18/Jul/2024 12:25:34] \"GET / HTTP/1.1\" 200 -\n",
      "127.0.0.1 - - [18/Jul/2024 12:25:37] \"POST /predict HTTP/1.1\" 200 -\n"
     ]
    }
   ],
   "source": [
    "app = Flask('__name__') # 초기화\n",
    "model = YOLO(\"yolov8n.pt\") # 모델 로드\n",
    "\n",
    "\n",
    "\n",
    "# 기본 웹페이지 경로 설정\n",
    "@app.route('/')\n",
    "def index() :\n",
    "    return render_form() # 사용자에게 업로드 폼을 제공하는 화면 띄우기\n",
    "\n",
    "@app.route(\"/predict\", methods = [\"POST\"])\n",
    "def make_predicthion() :\n",
    "    if 'file' not in request.files : # 요청에 file이 포함되어있는지 확인\n",
    "        return \"파일이 전송되지 않았습니다.\"\n",
    "\n",
    "    # 파일명이 비어있는지 확인\n",
    "    file = request.files['file']\n",
    "    if file.filename == '':\n",
    "        return \"선택한 파일이 없다\"\n",
    "    print(file.filename)\n",
    "\n",
    "    \n",
    "# 실행\n",
    "if __name__ == \"__main__\" :\n",
    "    app.run(host = \"127.0.0.1\", port = 5000)\n"
   ]
  },
  {
   "cell_type": "code",
   "execution_count": null,
   "id": "db057cef-a741-4b50-b0b5-ec400741712d",
   "metadata": {},
   "outputs": [],
   "source": []
  }
 ],
 "metadata": {
  "kernelspec": {
   "display_name": "Python 3 (ipykernel)",
   "language": "python",
   "name": "python3"
  },
  "language_info": {
   "codemirror_mode": {
    "name": "ipython",
    "version": 3
   },
   "file_extension": ".py",
   "mimetype": "text/x-python",
   "name": "python",
   "nbconvert_exporter": "python",
   "pygments_lexer": "ipython3",
   "version": "3.11.7"
  }
 },
 "nbformat": 4,
 "nbformat_minor": 5
}
