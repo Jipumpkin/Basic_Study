{
 "cells": [
  {
   "cell_type": "markdown",
   "metadata": {},
   "source": [
    "<img src=\"https://arome1004.cafe24.com/images/opencv/lecture_image/00_title.png\">"
   ]
  },
  {
   "cell_type": "markdown",
   "metadata": {},
   "source": [
    "<table border=1 width=100%>\n",
    "    <tr><td style=\"border: 1px solid black; width:600px; height:40px; text-align: center;\"><font size=4 color=blue><b>[3차시] 학습목표</b></font></td></tr>       \n",
    "    <tr><td style=\"border: 1px solid black; text-align: left;\"><font size=3>\n",
    "○ 플라스크와 연동하여 웹 화면에 카메라 영상 출력하기<br>\n",
    "        </font></td></tr>   \n",
    "</table>"
   ]
  },
  {
   "cell_type": "markdown",
   "metadata": {},
   "source": [
    "# 플라스크"
   ]
  },
  {
   "cell_type": "code",
   "execution_count": null,
   "metadata": {},
   "outputs": [],
   "source": [
    "# Flask 설치\n",
    "#!pip install flask"
   ]
  },
  {
   "cell_type": "markdown",
   "metadata": {
    "id": "gLauf9_UarFp"
   },
   "source": [
    "## 플라스크 개요\n",
    "\n",
    "- 파이썬으로 작성된 마이크로 웹 프레임워크\n",
    "- Flask는 웹 애플리케이션을 구축하는 데 필요한 핵심 기능을 제공하는 데 중점을 둔 단순하고 미니멀한 디자인으로 유명\n",
    "- Python을 사용해 웹 애플리케이션과 API를 구축하는 데 널리 사용되고 있음\n",
    "\n",
    "## 플라스크 사용 방법\n",
    "- <font color=red>app = Flask(__name__)</font>\n",
    "  - 플라스크 어플리케이션을 생성하는 코드\n",
    "  - 플라스크 어플리케이션을 초기화하고 구성\n",
    "  - 기본적으로 app.py를 실행\n",
    "\n",
    "- <font color=red>@app.route('/')</font>\n",
    "  - 해당 주소에서 @app.route('/') 다음에 나오는 함수를 실행한다는 의미\n",
    "  - ex) www.naver.com/mail 주소가 있을 때, @app.route('/mail') 뒤에 메일 관련 함수가 오고,  \n",
    "  네이버에서 mail을 누르면(www.naver.com/mail로 이동하면) 메일 관련 함수가 실행\n"
   ]
  },
  {
   "cell_type": "code",
   "execution_count": null,
   "metadata": {},
   "outputs": [],
   "source": [
    "!mkdir -p flask/static\n",
    "!mkdir -p flask/templates\n",
    "!touch flask/app.py\n",
    "!touch flask/templates/profile.html"
   ]
  },
  {
   "cell_type": "code",
   "execution_count": null,
   "metadata": {},
   "outputs": [],
   "source": [
    "# 실습 1\n",
    "\n",
    "!python flask/app.py"
   ]
  },
  {
   "cell_type": "code",
   "execution_count": null,
   "metadata": {
    "colab": {
     "base_uri": "https://localhost:8080/",
     "height": 55
    },
    "executionInfo": {
     "elapsed": 585,
     "status": "ok",
     "timestamp": 1601964088660,
     "user": {
      "displayName": "강성관",
      "photoUrl": "",
      "userId": "00571094306841577419"
     },
     "user_tz": -540
    },
    "id": "Gdu9-Y9LarFn",
    "outputId": "dc8915da-3df0-4d1f-d9fe-4e472c1c0911"
   },
   "outputs": [],
   "source": [
    "# 실습 2\n",
    "!python flask/EXEC_01.py"
   ]
  },
  {
   "cell_type": "markdown",
   "metadata": {},
   "source": [
    "## 웹 화면에 카메라 출력\n",
    "\n",
    "- <font color=red>yield() 함수</font>\n",
    "  - return은 모든 결과에 대한 처리를 메모리에 올림\n",
    "  - yield는 함수에서 요청할 때 해당 yield만 사용하고 다음 부분은 사용하지 않음 -> 메모리 절감\n",
    "  - flask 프로젝트에서 객체를 yield로 반환\n",
    "\n",
    "- <font color=red>generator</font>\n",
    "  - 최소 하나의 yield를 포함\n",
    "  - next() 메소드가 자동으로 실행\n",
    "\n",
    "- <font color=red>MIME 타입</font>\n",
    "  - 미디어 타입 설정\n",
    "  - multipart/x-mixed-replace은 이미지들을 연속적으로 전송하여 애니메이션 같은 효과"
   ]
  },
  {
   "cell_type": "code",
   "execution_count": 3,
   "metadata": {},
   "outputs": [
    {
     "name": "stdout",
     "output_type": "stream",
     "text": [
      " * Serving Flask app 'app'\n",
      " * Debug mode: off\n",
      "\u001b[31m\u001b[1mWARNING: This is a development server. Do not use it in a production deployment. Use a production WSGI server instead.\u001b[0m\n",
      " * Running on http://127.0.0.1:5000\n",
      "\u001b[33mPress CTRL+C to quit\u001b[0m\n",
      "127.0.0.1 - - [09/Jul/2024 15:55:50] \"GET / HTTP/1.1\" 200 -\n",
      "^C\n"
     ]
    }
   ],
   "source": [
    "# 실습 3\n",
    "!python flask/app.py"
   ]
  },
  {
   "cell_type": "code",
   "execution_count": 7,
   "metadata": {},
   "outputs": [
    {
     "name": "stdout",
     "output_type": "stream",
     "text": [
      "2024-07-09 16:43:28.789 python[15943:1346408] WARNING: AVCaptureDeviceTypeExternal is deprecated for Continuity Cameras. Please use AVCaptureDeviceTypeContinuityCamera and add NSCameraUseContinuityCameraDeviceType to your Info.plist.\n",
      "False\n",
      " * Serving Flask app 'app'\n",
      " * Debug mode: off\n",
      "\u001b[31m\u001b[1mWARNING: This is a development server. Do not use it in a production deployment. Use a production WSGI server instead.\u001b[0m\n",
      " * Running on http://127.0.0.1:5000\n",
      "\u001b[33mPress CTRL+C to quit\u001b[0m\n",
      "127.0.0.1 - - [09/Jul/2024 16:43:31] \"GET / HTTP/1.1\" 200 -\n",
      "127.0.0.1 - - [09/Jul/2024 16:43:31] \"GET /video_feed HTTP/1.1\" 200 -\n",
      "^C\n"
     ]
    }
   ],
   "source": [
    "# 실습 4\n",
    "!python flask/app.py"
   ]
  },
  {
   "cell_type": "code",
   "execution_count": 8,
   "metadata": {},
   "outputs": [
    {
     "name": "stdout",
     "output_type": "stream",
     "text": [
      "2024-07-09 16:45:44.128 python[16066:1349080] WARNING: AVCaptureDeviceTypeExternal is deprecated for Continuity Cameras. Please use AVCaptureDeviceTypeContinuityCamera and add NSCameraUseContinuityCameraDeviceType to your Info.plist.\n",
      "False\n",
      " * Serving Flask app 'app'\n",
      " * Debug mode: off\n",
      "\u001b[31m\u001b[1mWARNING: This is a development server. Do not use it in a production deployment. Use a production WSGI server instead.\u001b[0m\n",
      " * Running on http://127.0.0.1:5000\n",
      "\u001b[33mPress CTRL+C to quit\u001b[0m\n",
      "127.0.0.1 - - [09/Jul/2024 16:45:46] \"GET / HTTP/1.1\" 200 -\n",
      "127.0.0.1 - - [09/Jul/2024 16:45:47] \"GET /video_feed HTTP/1.1\" 200 -\n",
      "^C\n"
     ]
    }
   ],
   "source": [
    "# 실습 5\n",
    "!python flask/app.py"
   ]
  },
  {
   "cell_type": "markdown",
   "metadata": {},
   "source": [
    "<table border=1 width=100%>\n",
    "    <tr><td style=\"border: 1px solid black; width:600px; text-align: left;\"><font size=4 color=red><b>실습문제</b></font><br><br>\n",
    "        <font size=4>○ 웹 화면에 이진 이미지를 출력하기</font></td></tr>       \n",
    "    <tr><td style=\"border: 1px solid black; text-align: left;\">\n",
    "</table>"
   ]
  }
 ],
 "metadata": {
  "colab": {
   "name": "DL008_01_OpenCV.ipynb",
   "provenance": []
  },
  "hide_input": false,
  "kernelspec": {
   "display_name": "torch",
   "language": "python",
   "name": "torch"
  },
  "language_info": {
   "codemirror_mode": {
    "name": "ipython",
    "version": 3
   },
   "file_extension": ".py",
   "mimetype": "text/x-python",
   "name": "python",
   "nbconvert_exporter": "python",
   "pygments_lexer": "ipython3",
   "version": "3.7.0"
  },
  "toc": {
   "base_numbering": 1,
   "nav_menu": {},
   "number_sections": true,
   "sideBar": true,
   "skip_h1_title": false,
   "title_cell": "Table of Contents",
   "title_sidebar": "Contents",
   "toc_cell": false,
   "toc_position": {
    "height": "calc(100% - 180px)",
    "left": "10px",
    "top": "150px",
    "width": "165px"
   },
   "toc_section_display": true,
   "toc_window_display": true
  }
 },
 "nbformat": 4,
 "nbformat_minor": 1
}
