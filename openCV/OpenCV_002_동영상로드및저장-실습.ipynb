{
 "cells": [
  {
   "cell_type": "markdown",
   "metadata": {},
   "source": [
    "<img src=\"https://arome1004.cafe24.com/images/opencv/lecture_image/00_title.png\">"
   ]
  },
  {
   "cell_type": "markdown",
   "metadata": {},
   "source": [
    "<table border=1 width=100%>\n",
    "    <tr><td style=\"border: 1px solid black; width:600px; height:40px; text-align: center;\"><font size=4 color=blue><b>[2차시] 학습목표</b></font></td></tr>       \n",
    "    <tr><td style=\"border: 1px solid black; text-align: left;\"><font size=3>○ 카메라나 동영상으로부터 비디오 프레임 캡처하기<br>\n",
    "○ CCTV 만들기 - 동영상 녹화하기<br>\n",
    "○ 동영상에서 한 프레임을 이미지 파일로 저장하기<br>\n",
    "○ 저장한 이미지들을 동영상으로 만들기<br>\n",
    "○ 유튜브 영상 연동하기<br>\n",
    "        </font></td></tr>   \n",
    "</table>"
   ]
  },
  {
   "cell_type": "markdown",
   "metadata": {
    "id": "gLauf9_UarFp"
   },
   "source": [
    "# 동영상을 읽고 출력하기\n",
    "\n",
    "## 카메라나 동영상으로부터 비디오 프레임 캡처하기\n",
    "\n",
    "- <font color=red>cap = cv2.VideoCapture(0)</font>\n",
    "  - 0번 카메라로부터 비디오 캡처\n",
    "  - 0 대신에 파일명을 입력하면 동영상으로부터 캡처 \n",
    "    - cv2.VideoCapture(“images/video.mp4”)\n",
    "  - IP가 부여된 웹캠인 경우 IP와 카메라 번호를 입력 \n",
    "    - cap = cv2.VideoCapture(\"rtsp:127.0.0.1/0\")\n",
    "  \n",
    "  \n",
    "- <font color=red>cap.set(3, 480)</font> : 비디오의 가로 크기 설정하기\n",
    "- <font color=red>cap.set(4, 320)</font> : 비디오의 세로 크기 설정하기\n",
    "- <font color=red>w = cap.get(3)</font> : 비디오의 가로 크기 가져오기\n",
    "- <font color=red>h = cap.get(4)</font> : 비디오의 세로 크기 가져오기\n",
    "\n",
    "\n",
    "- <font color=red>ret, frame = cap.read()</font> \n",
    "  - 카메라로부터 비디오 파일을 읽고 프레임(frame) 이미지와 읽기성공여부(ret)를 반환 (True/False)\n",
    "\n",
    "\n",
    "- <font color=red>key = cv2.waitKey(33)</font>\n",
    "  - 0.03초동안 키 입력을 대기 (30프레임인 경우)\n",
    "  - key 값은 아스키 코드로 반환\n",
    "  \n",
    "  \n",
    "- <font color=red>cap.release()</font>\n",
    "  - 비디오 객체를 종료하고 메모리를 해제\n",
    "  \n",
    "\n",
    "- 아스키 코드\n",
    "<img src=\"https://arome1004.cafe24.com/images/opencv/lecture_image/03_ascii.png\" width=70%>"
   ]
  },
  {
   "cell_type": "code",
   "execution_count": null,
   "metadata": {
    "colab": {
     "base_uri": "https://localhost:8080/",
     "height": 55
    },
    "executionInfo": {
     "elapsed": 585,
     "status": "ok",
     "timestamp": 1601964088660,
     "user": {
      "displayName": "강성관",
      "photoUrl": "",
      "userId": "00571094306841577419"
     },
     "user_tz": -540
    },
    "id": "Gdu9-Y9LarFn",
    "outputId": "dc8915da-3df0-4d1f-d9fe-4e472c1c0911"
   },
   "outputs": [],
   "source": [
    "# 실습\n",
    "\n",
    "import cv2\n",
    "\n",
    "video = cv2.VideoCapture(\"videos/puppy.mp4\")\n",
    "\n",
    "while cv2.waitKey(25) < 0:\n",
    "    ret, frame = video.read()\n",
    "    if not ret:\n",
    "        print(\"Frame이 끝났습니다.\")\n",
    "        break\n",
    "        \n",
    "    cv2.imshow(\"puppy\", frame)\n",
    "    \n",
    "video.release()\n",
    "cv2.destroyAllWindows()\n",
    "cv2.waitKey(1)"
   ]
  },
  {
   "cell_type": "markdown",
   "metadata": {},
   "source": [
    "<table border=1 width=100%>\n",
    "    <tr><td style=\"border: 1px solid black; width:600px; text-align: left;\"><font size=4 color=red><b>실습문제</b></font><br><br>\n",
    "        <font size=4>○ 동영상 출력 중 소문자 q를 눌렀을 때 종료되도록 코드를 짜보자.</font></td></tr>       \n",
    "    <tr><td style=\"border: 1px solid black; text-align: left;\">\n",
    "</table>"
   ]
  },
  {
   "cell_type": "code",
   "execution_count": null,
   "metadata": {},
   "outputs": [],
   "source": [
    "# 실습 문제\n",
    "\n",
    "import cv2\n",
    "\n",
    "video = cv2.VideoCapture(\"videos/puppy.mp4\")\n",
    "\n",
    "while video.isOpened():\n",
    "    ret, frame = video.read()\n",
    "    if not ret:\n",
    "        print(\"Frame이 끝났습니다.\")\n",
    "        break\n",
    "\n",
    "    cv2.imshow(\"puppy\", frame)\n",
    "    if cv2.waitKey(25) == ord('q'):\n",
    "        # 여기서 waitKey에 들어가는 인자값은 프레임 출력 속도를 의미(25는 1배속)\n",
    "        print(\"동영상 종료\")\n",
    "        break\n",
    "\n",
    "video.release()\n",
    "cv2.destroyAllWindows()\n",
    "cv2.waitKey(1)"
   ]
  },
  {
   "cell_type": "markdown",
   "metadata": {
    "id": "ARYE0iZR7YGL"
   },
   "source": [
    "# 동영상에서 한 프레임을 이미지 파일로 저장하기\n",
    "\n",
    "- <font color=red>cv2.imwrite(“파일명.확장자”, 프레임이미지, 옵션)</font>\n",
    "  - params=[cv2.IMWRITE_PNG_COMPRESSION, 0]) : 압축 하지 않는 PNG, 세 번째 파라미터는 압축률로 0~9까지 설정 가능 (0은 압축 없음)"
   ]
  },
  {
   "cell_type": "code",
   "execution_count": null,
   "metadata": {
    "id": "mm27wOurarFs",
    "outputId": "23d68150-df97-4770-e818-42974043234c"
   },
   "outputs": [],
   "source": [
    "# 실습\n",
    "\n",
    "import cv2\n",
    "\n",
    "video = cv2.VideoCapture(\"videos/puppy.mp4\")\n",
    "\n",
    "while cv2.waitKey(25) < 0:\n",
    "    ret, frame = video.read()    \n",
    "    cv2.imwrite(\"images/frame.png\", frame)\n",
    "    break"
   ]
  },
  {
   "cell_type": "markdown",
   "metadata": {},
   "source": [
    "# 유튜브 영상 연동하기\n",
    "\n",
    "## pafy로 유튜브 영상 연동하기\n",
    "\n",
    "- pafy : youtube의 메타 데이터를 수집/검색하거나 다운로드 할 수 있는 Python 라이브러리\n",
    "- yt-dlp : 현재 업데이트가 되지 않는 youtube-dl을 업그레이드한 버전, 유튜브로부터 영상을 다운로드 (영상만 다운로드 – 음성 제외)"
   ]
  },
  {
   "cell_type": "code",
   "execution_count": null,
   "metadata": {},
   "outputs": [],
   "source": [
    "# Youtube의 메타 데이터를 수집/검색하거나 다운로드 할 수 있는 Python 라이브러리\n",
    "#!pip install pafy\n",
    "# 유튜브로부터 영상만을 다운로드 \n",
    "#!pip install youtube-dl\n",
    "# 유튜브로부터 영상만을 다운로드 (youtube-dl 라이브러리 업그레이드 버전)\n",
    "#!pip install yt-dlp"
   ]
  },
  {
   "cell_type": "code",
   "execution_count": null,
   "metadata": {},
   "outputs": [],
   "source": [
    "!pip install --upgrade --force-reinstall \"git+https://github.com/ytdl-org/youtube-dl.git\""
   ]
  },
  {
   "cell_type": "markdown",
   "metadata": {},
   "source": [
    "- <font color=red>video = pafy.new(\"유튜브 주소\")</font> : YouTube 주소로 영상 정보 가져오기"
   ]
  },
  {
   "cell_type": "code",
   "execution_count": null,
   "metadata": {},
   "outputs": [],
   "source": [
    "# 실습\n",
    "\n",
    "import pafy\n",
    "\n",
    "url = \"https://www.youtube.com/watch?v=Q3K0TOvTOno\"\n",
    "video = pafy.new(url)\n",
    "print(f\"영상제목: {video.title}\")\n",
    "print(f\"별점: {video.rating}\")\n",
    "print(f\"뷰수: {video.viewcount}\")\n",
    "print(f\"제작자: {video.author}\")"
   ]
  },
  {
   "cell_type": "markdown",
   "metadata": {},
   "source": [
    "- 코드 수행시에 에러가 뜨는 경우(모든 경우)\n",
    "  - pafy 설치폴더 (anaconda3설치폴더\\envs\\OpenCV\\Lib\\site-packages\\pafy)로 이동해서 backend_youtube_dl.py 파일을 열어서 50, 53, 54라인을\n",
    "    - self._likes = self._ydl_info['average_rating']\n",
    "    - self._likes = self._ydl_info['like_count']\n",
    "    - self._dislikes = self._ydl_info['dislike_count']\n",
    "  - 다음 코드로 변경    \n",
    "    - self._rating = self._ydl_info.get('average_rating', 0)\n",
    "    - self._likes = self._ydl_info.get('like_count',0)\n",
    "    - self._dislikes = self._ydl_info.get('dislike_count',0)\n",
    "    \n",
    "  - 주피터노트북을 닫고 재실행  "
   ]
  },
  {
   "cell_type": "markdown",
   "metadata": {},
   "source": [
    "## yt-dlp로 유튜브 영상 다운로드하기"
   ]
  },
  {
   "cell_type": "code",
   "execution_count": null,
   "metadata": {
    "scrolled": true
   },
   "outputs": [],
   "source": [
    "# 실습\n",
    "import youtube_dl\n",
    "import os\n",
    "\n",
    "output_dir = os.path.join('videos/', '%(title)s.%(ext)s')\n",
    "\n",
    "# 여러 영상을 받을 수 있음\n",
    "download_list = [\n",
    "    \"https://www.youtube.com/watch?v=Q3K0TOvTOno\",\n",
    "    ]\n",
    "\n",
    "ydl_opt = {\n",
    "    'outtmpl': output_dir,\n",
    "    'format': 'bestvideo/best', # 최상 품질의 비디오 형식 선택\n",
    "}\n",
    "\n",
    "with youtube_dl.YoutubeDL(ydl_opt) as ydl:\n",
    "    ydl.download(download_list)\n",
    "\n",
    "print('다운로드 완료')"
   ]
  },
  {
   "cell_type": "markdown",
   "metadata": {},
   "source": [
    "## pytube로 유튜브 영상 다운로드\n",
    "  \n",
    "  - 영상과 음성을 모두 다운로드"
   ]
  },
  {
   "cell_type": "code",
   "execution_count": null,
   "metadata": {},
   "outputs": [],
   "source": [
    "# 아나콘다 프롬프트 창에서 실행\n",
    "!pip install --upgrade \"git+https://github.com/nficano/pytube.git\""
   ]
  },
  {
   "cell_type": "code",
   "execution_count": null,
   "metadata": {},
   "outputs": [],
   "source": [
    "# 실습\n",
    "\n",
    "from pytube import YouTube\n",
    "import os\n",
    "\n",
    "def downloadYouTube(videourl, path):\n",
    "\n",
    "    yt = YouTube(videourl)\n",
    "    yt = yt.streams.filter(progressive=True, file_extension='mp4').order_by('resolution').desc().first()\n",
    "    if not os.path.exists(path):\n",
    "        os.makedirs(path)\n",
    "    yt.download(path)\n",
    "\n",
    "video_path = \"https://www.youtube.com/watch?v=Qik3RP-1CV8\"\n",
    "downloadYouTube(video_path, 'videos')"
   ]
  },
  {
   "cell_type": "markdown",
   "metadata": {},
   "source": [
    "<table border=1 width=100%>\n",
    "    <tr><td style=\"border: 1px solid black; width:600px; text-align: left;\"><font size=4 color=red><b>실습문제</b></font><br><br>\n",
    "        <font size=4>○ 다른 유튜브 영상을 저장해보자.</font></td></tr>   \n",
    "</table>"
   ]
  },
  {
   "cell_type": "markdown",
   "metadata": {},
   "source": [
    "<table border=1 width=100%>\n",
    "    <tr><td style=\"border: 1px solid black; width:600px; text-align: left;\"><font size=4 color=red><b>실습문제</b></font><br><br>\n",
    "        <font size=4>○ 다른 유튜브 영상을 저장하고, 해당 영상을 출력한 뒤 마지막 프레임을 이미지로 저장해보자.</font></td></tr>   \n",
    "</table>"
   ]
  }
 ],
 "metadata": {
  "colab": {
   "name": "DL008_01_OpenCV.ipynb",
   "provenance": []
  },
  "hide_input": false,
  "kernelspec": {
   "display_name": "torch",
   "language": "python",
   "name": "torch"
  },
  "language_info": {
   "codemirror_mode": {
    "name": "ipython",
    "version": 3
   },
   "file_extension": ".py",
   "mimetype": "text/x-python",
   "name": "python",
   "nbconvert_exporter": "python",
   "pygments_lexer": "ipython3",
   "version": "3.7.0"
  },
  "toc": {
   "base_numbering": 1,
   "nav_menu": {},
   "number_sections": true,
   "sideBar": true,
   "skip_h1_title": false,
   "title_cell": "Table of Contents",
   "title_sidebar": "Contents",
   "toc_cell": false,
   "toc_position": {
    "height": "calc(100% - 180px)",
    "left": "10px",
    "top": "150px",
    "width": "165px"
   },
   "toc_section_display": true,
   "toc_window_display": true
  }
 },
 "nbformat": 4,
 "nbformat_minor": 1
}
