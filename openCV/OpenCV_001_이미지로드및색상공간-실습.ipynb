{
 "cells": [
  {
   "cell_type": "markdown",
   "metadata": {},
   "source": [
    "<img src=\"https://arome1004.cafe24.com/images/opencv/lecture_image/00_title.png\">"
   ]
  },
  {
   "cell_type": "markdown",
   "metadata": {},
   "source": [
    "<table border=1 width=100%>\n",
    "    <tr><td style=\"border: 1px solid black; width:600px; height:40px; text-align: center;\"><font size=4 color=blue><b>[1차시] 학습목표</b></font></td></tr>       \n",
    "    <tr><td style=\"border: 1px solid black; text-align: left;\"><font size=3>○ OpenCV의 사용법을 학습한다.<br>\n",
    "○ 이미지를 읽는 방법을 학습한다.<br>\n",
    "○ 이미지를 출력하는 방법을 학습한다 (새 창, Matplotlib) <br>\n",
    "○ 칼라 이미지를 gray 이미지로 변환하는 방법을 학습한다. <br>\n",
    "○ gray 이미지를 binary 이미지로 변환하는 방법을 학습한다.           \n",
    "        </font></td></tr>   \n",
    "</table>"
   ]
  },
  {
   "cell_type": "markdown",
   "metadata": {},
   "source": [
    "# OpenCV 개요 및 환경설정"
   ]
  },
  {
   "cell_type": "markdown",
   "metadata": {},
   "source": [
    "## 필요 선수학습\n",
    "\n",
    "- 파이썬\n",
    "- 파이썬 라이브러리 (Numpy, Pandas, Matplotlib 등)\n",
    "\n",
    "<img src=\"https://arome1004.cafe24.com/images/opencv/lecture_image/01_tools.png\" width=50%>"
   ]
  },
  {
   "cell_type": "markdown",
   "metadata": {},
   "source": [
    "## 개요\n",
    "\n",
    "- <b>OpenCV </b>\n",
    "  - Gray Bradsky에 의해 1996년 인텔에서 시작된 프로젝트\n",
    "  - 컴퓨터 비전, 머신러닝과 관련된 다양한 알고리즘을 지원\n",
    "  - C++, Python, Java 등의 언어를 지원\n",
    "  - CUDA(Compute Unified Device Architecture), OpenCL (Open Computing Language)에 기반한 인터페이스를 지원\n",
    "  <br><br>\n",
    "- <b>OpenCV + Python</b> \n",
    "  - OpenCV의 파이썬 API로 C/C++로 된 OpenCV 라이브러리들을 파이썬 래퍼로 감싼 후에 파이썬 모듈을 추가시킨 것\n",
    "  - 속도문제를 해결하기 위해 속도가 문제되는 코드는 C/C++로 코딩하고 파이썬에서 불러 사용할 수 있는 파이썬 래퍼를 제공\n",
    "  - OpenCV 배열은 Numpy 배열로 변환되어 내부 처리를 수행 (Numpy의 모든 연산 가능)\n",
    "  - Numpy, SciPy, Matplotlib 라이브러리와도 호환"
   ]
  },
  {
   "cell_type": "markdown",
   "metadata": {},
   "source": [
    "## 추천 사이트\n",
    "- https://opencv.org/ : OpenCV 공식 사이트\n",
    "  - https://github.com/opencv/opencv : OpenCV github 사이트\n",
    "  - https://docs.opencv.org/4.x/d9/df8/tutorial_root.html : 튜토리얼\n",
    "  - https://docs.opencv.org/ : 온라인 문서 (명령어)\n",
    "- https://leechamin.tistory.com/category/%F0%9F%90%8DPython/OpenCV?page=10 : 블로그  \n",
    "- https://www.codeproject.com/Tags/OpenCV : 다양한 OpenCV 코드 제공\n",
    "- https://learnopencv.com/ : 프로젝트에 활용하기 좋은 다양한 코드 제공\n",
    "- https://github.com/spmallick/learnopencv/tree/master/ : 파이토치로 된 좋은 예시 코드\n",
    "- https://github.com/spmallick/learnopencv/blob/master/README.md?ck_subscriber_id=1390420859\n",
    "- https://meissa.tistory.com/ : OpenCV 고급 응용 예시 코드 (딥러닝 학습 포함)\n",
    "- http://www.computer-vision-software.com/blog/ : 컴퓨터 비젼 관련 해외 블로그\n",
    "- https://github.com/LongxingTan/Yolov5 : Yolov5 코드\n",
    "- https://blog.naver.com/samsjang/220498694383 : 블로그\n",
    "- https://m.blog.naver.com/samsjang/220498694383 : 블로그\n",
    "- https://cafe.naver.com/opencv : OpenCV 커뮤니티 카페\n",
    "- https://m.blog.naver.com/teach3450/221906560229 : 블로그 (다양한 알고리즘 소개)\n",
    "\n",
    "\n"
   ]
  },
  {
   "cell_type": "markdown",
   "metadata": {},
   "source": [
    "##  OpenCV 환경 설정\n",
    "\n",
    "###  아나콘다 네비게이터에서 설치하는 방법\n",
    "- 아나콘다 네비게이터 실행\n",
    "\n",
    "<img src=\"https://arome1004.cafe24.com/images/opencv/lecture_image/01_setting1.png\" width=30%>\n",
    "\n",
    "- Python 3.7 사용\n",
    "\n",
    "- Environments 메뉴를 선택하고 Create 버튼을 클릭\n",
    "- Name에 OpenCV를 입력하고 Python 버전은 3.7을 선택\n",
    "  - 3.7이 나오지 않는다면 update index 버튼을 클릭하여 업데이터 진행\n",
    "- Create 버튼을 클릭하여 새로운 환경 생성  \n",
    "  \n",
    "<img src=\"https://arome1004.cafe24.com/images/opencv/lecture_image/01_setting2.png\" width=80%>\n",
    "\n",
    "\n",
    "- 생성된 환경을 선택하고 리스트에서 Not installed 항목을 선택\n",
    "- 입력창에 opencv를 입력하여 libopencv, opencv, py-opencv를 선택\n",
    "- 같은 방법으로 Jupyther, numpy(자동설치확인), pandas, matplotlib, searborn, scikit-learn, tensorflow-gpu, cudnn, codatookit을 선택\n",
    "- Apply 버튼을 클릭하여 설치 준비\n",
    "\n",
    "<img src=\"https://arome1004.cafe24.com/images/opencv/lecture_image/01_setting3.png\" width=80%>\n",
    "\n",
    "\n",
    "- 새창이 뜨면 선택한 목록을 확인하고 Apply 버튼을 클릭하여 설치 시작\n",
    "\n",
    "<img src=\"https://arome1004.cafe24.com/images/opencv/lecture_image/01_setting4.png\" width=40%>\n",
    "\n",
    "- 생성한 환경으로 주피터 노트북 실행\n",
    "\n",
    "<img src=\"https://arome1004.cafe24.com/images/opencv/lecture_image/01_setting5.png\" width=30%>"
   ]
  },
  {
   "cell_type": "markdown",
   "metadata": {},
   "source": [
    "### 프롬프트 창에서 설치하는 방법\n",
    "\n",
    "- https://www.lfd.uci.edu/~gohlke/pythonlibs/ 에서 다운로드하거나 아래와 같이 입력하여 설치\n"
   ]
  },
  {
   "cell_type": "code",
   "execution_count": null,
   "metadata": {},
   "outputs": [],
   "source": [
    "#!pip uninstall opencv-python\n",
    "#!pip uninstall opencv-contrib-python"
   ]
  },
  {
   "cell_type": "code",
   "execution_count": null,
   "metadata": {
    "id": "-Hxl1-h390Yz",
    "outputId": "d123f8a3-9728-4633-d9b6-c8356ea543c2",
    "scrolled": true
   },
   "outputs": [],
   "source": [
    "# opencv-python : 주요 모듈이 포함된 라이브러리\n",
    "# opencv-contrib-python : 추가 모듈이 포함된 라이브러리\n",
    "\n",
    "#!pip install opencv-python==3.4.2.17\n",
    "#!pip install opencv-contrib-python==3.4.11.45\n",
    "#!pip install opencv-python opencv-contrib-python"
   ]
  },
  {
   "cell_type": "code",
   "execution_count": null,
   "metadata": {},
   "outputs": [],
   "source": [
    "# opencv 설치 확인\n",
    "import cv2\n",
    "\n",
    "# 버전 확인\n",
    "print(cv2.__version__)"
   ]
  },
  {
   "cell_type": "markdown",
   "metadata": {},
   "source": []
  },
  {
   "cell_type": "markdown",
   "metadata": {
    "id": "yyE9fiNR7YFx"
   },
   "source": [
    "## 이미지를 읽고 출력하기\n",
    "### 이미지를 읽고 새창에 출력하기"
   ]
  },
  {
   "cell_type": "markdown",
   "metadata": {
    "id": "1OiRFwzOarFj"
   },
   "source": [
    "  - <font color=red>cv2.imread(파일명, 이미지 형식)</font> : 이미지 파일을 읽기 위한 객체를 리턴 \n",
    "    - 이미지형식 : 칼라 (cv2.IMREAD_COLOR), 흑백(cv2.IMREAD_GRAYSCALE) 등\n",
    "  - <font color=red>cv2.imshow(제목, 이미지 객체)</font>  : 이미지 출력\n",
    "  - <font color=red>cv2.waitKey(0)</font>  : 키보드 입력을 기다리는 시간 설정 (0 : 계속 기다림)\n",
    "    - 1/1000초 단위\n",
    "  - <font color=red>cv2.destroyAllWindows()</font>  : 생성한 윈도우를 모두 닫는다\n",
    "\n",
    "<img src=\"https://arome1004.cafe24.com/images/opencv/lecture_image/01_lenna.png\" width=30%>"
   ]
  },
  {
   "cell_type": "code",
   "execution_count": null,
   "metadata": {
    "id": "eVjfGGxqarFf",
    "scrolled": true
   },
   "outputs": [],
   "source": [
    "# 실습\n",
    "import cv2\n",
    "\n",
    "cv2.startWindowThread()\n",
    "image = cv2.imread('images/01_lenna.png', cv2.IMREAD_COLOR)\n",
    "cv2.imshow('Lena', image)\n",
    "cv2.waitKey(0)\n",
    "cv2.destroyAllWindows()\n",
    "cv2.waitKey(1)"
   ]
  },
  {
   "cell_type": "code",
   "execution_count": 1,
   "metadata": {},
   "outputs": [],
   "source": [
    "!python session_01/ex_01.py"
   ]
  },
  {
   "cell_type": "markdown",
   "metadata": {},
   "source": [
    "<table border=1 width=100%>\n",
    "    <tr><td style=\"border: 1px solid black; width:600px; text-align: left;\"><font size=4 color=red><b>실습문제</b></font><br><br>\n",
    "        <font size=4>○ 학습한 OpenCV 함수를 이용해서 다른 이미지를 출력해보자.</font></td></tr>       \n",
    "    <tr><td style=\"border: 1px solid black; text-align: left;\"> \n",
    "</table>"
   ]
  },
  {
   "cell_type": "markdown",
   "metadata": {
    "id": "K2C3kGDP7YF1"
   },
   "source": [
    "### matplotlib를 이용하여 이미지 출력하기"
   ]
  },
  {
   "cell_type": "markdown",
   "metadata": {},
   "source": [
    "  - <font color=red>plt.xticks()</font> : x축에 간격을 구분하기 위한 눈금을 표현 \n",
    "  - <font color=red>plt.yticks()</font> : y축에 간격을 구분하기 위한 눈금을 표현 \n",
    "  - <font color=red>plt.imshow()</font>  : 현재 Figure에서 이미지 출력(없을 경우 새 figure 생성)\n",
    "  - <font color=red>plt.show()</font>  : figure를 디스플레이 해줌(imshow()의 뒤에 오는 것은 가능, 반대는 불가능)\n",
    "  - <font color=red>%matplotlib inline</font>  : 주피터 노트북에서 피겨가 셀 바로 밑에 출력되도록 하는 백엔드 커맨드"
   ]
  },
  {
   "cell_type": "code",
   "execution_count": null,
   "metadata": {},
   "outputs": [],
   "source": [
    "# 예제1\n",
    "import matplotlib.pyplot as plt\n",
    "import numpy as np\n",
    "\n",
    "x = np.arange(0, 2, 0.2)\n",
    "\n",
    "plt.plot(x, x, 'bo')\n",
    "plt.plot(x, x**2, color='#e35f62', marker='*', linewidth=2)\n",
    "plt.plot(x, x**3, color='forestgreen', marker='^', markersize=9)\n",
    "plt.xticks([0, 1, 2])\n",
    "plt.yticks(np.arange(1, 6))\n",
    "\n",
    "plt.show()"
   ]
  },
  {
   "cell_type": "code",
   "execution_count": null,
   "metadata": {
    "id": "Z9p339Qc7YF1",
    "outputId": "e554031b-5b05-474f-8b0f-538c5c1282b3"
   },
   "outputs": [],
   "source": [
    "# 실습\n",
    "\n",
    "import matplotlib.pyplot as plt\n",
    "%matplotlib inline\n",
    "plt.imshow(image)"
   ]
  },
  {
   "cell_type": "markdown",
   "metadata": {},
   "source": [
    "- OpenCV는 색상공간을 BGR(Blue Green Red)을 사용\n",
    "- Python 이미지들은 RGB(Red Green Blue)을 사용하므로 변환 필요\n",
    "- 따라서, OpenCV로 읽은 이미지를 Matplotlib으로 출력하려면 색상공간을 변환해야 함\n",
    "\n",
    "<img src=\"https://arome1004.cafe24.com/images/opencv/lecture_image/01_color_space.png\" width=40%>\n",
    "\n",
    "- <font color=red>cv2.cvtColor(img, 색상변환옵션)</font>\n",
    "  - 색상변환옵션 : cv2.COLOR_BGR2RGB, cv2.COLOR_RGB2GRAY, cv2.COLOR_RGB2HSV 등"
   ]
  },
  {
   "cell_type": "code",
   "execution_count": null,
   "metadata": {
    "id": "rZFtlGwL_enS"
   },
   "outputs": [],
   "source": [
    "# 실습\n",
    "image = cv2.cvtColor(image, cv2.COLOR_BGR2RGB)\n",
    "plt.imshow(image)"
   ]
  },
  {
   "cell_type": "markdown",
   "metadata": {},
   "source": [
    "### 직접 Red 채널과 Blue 채널을 바꾸기\n",
    "\n",
    "-  <font color=red>b, g, r = cv2.split(img)</font> : img파일을 b,g,r로 분리\n",
    "-  <font color=red>cv2.merge([r,g,b])</font> : b, r을 바꿔서 Merge"
   ]
  },
  {
   "cell_type": "code",
   "execution_count": null,
   "metadata": {},
   "outputs": [],
   "source": [
    "# 실습\n",
    "\n",
    "cv2.startWindowThread()\n",
    "image = cv2.imread('images/01_lenna.png', cv2.IMREAD_COLOR)\n",
    "b, g, r = cv2.split(image)\n",
    "new_img = cv2.merge([r, g, b])\n",
    "plt.imshow(new_img)"
   ]
  },
  {
   "cell_type": "markdown",
   "metadata": {},
   "source": [
    "<table border=1 width=100%>\n",
    "    <tr><td style=\"border: 1px solid black; width:600px; text-align: left;\"><font size=4 color=red><b>실습문제</b></font><br><br>\n",
    "        <font size=3>○ 다른 이미지를 이용해서 Red 채널과 Blue 채널의 색상을 바꿔보자.</font></td></tr> \n",
    "</table>"
   ]
  },
  {
   "cell_type": "markdown",
   "metadata": {},
   "source": [
    "# Gray와 Binary 이미지 \n",
    "\n",
    "- 시각은 색상정보에 대해 잘못된 정보를 보내주는 경우가 많음\n",
    "  - 밤에 색상을 볼때 정확한 색상을 보여주지 못함 - 명도 (검정색이 섞이는 것)\n",
    "  - 색상에 빛을 강하게 비추는 경우 정확한 색상을 보여주지 못함 - 채도 (흰색이 섞이는 것)\n",
    "- 칼라는 너무 많은 정보를 가지고 있기때문에 연산량이 많음\n",
    "  - 실시간 처리가 어려움\n",
    "  - 따라서 gray 이미지나 binary 이미지로 변환해서 처리하는 것이 일반적\n",
    "<br><br>  \n",
    "- gray 이미지 : 0-255로 된 픽섹로만 구성된 흑백이미지\n",
    "- binary(이진) 이미지 : 0(검정색)과 255(흰색)으로만 구성된 이미지 (마스크 패턴, 필터링)\n",
    "\n",
    "<img src=\"https://arome1004.cafe24.com/images/opencv/lecture_image/02_gray_binary.png\" width=50%>\n",
    "\n",
    "\n",
    "- 칼라 → gray 이미지 변환 방법 2가지\n",
    "  - imread()로 이미지를 읽을 때 변환해서 읽는 방법\n",
    "    -  img = cv2.imread(파일명, <font color=red>cv2.IMREAD_GRAYSCALE</font>)\n",
    "  - 칼라 이미지로 읽어서 cvtColor() 변환하는 방법 → 칼라 이미지가 필요한 경우 (출력)\n",
    "    -  img_gray = cv2.cvtColor(이미지객체, <font color=red>cv2.COLOR_BGR2GRAY</font>)\n",
    "<br><br>    \n",
    "- matplotlib 라이브러리의 colormap\n",
    "  - 기본값 :  viridis\n",
    "  \n",
    "  <img src=\"https://arome1004.cafe24.com/images/opencv/lecture_image/02_colormap.png\" width=70%>"
   ]
  },
  {
   "cell_type": "markdown",
   "metadata": {},
   "source": [
    "### Colormap 살펴보기"
   ]
  },
  {
   "cell_type": "code",
   "execution_count": null,
   "metadata": {},
   "outputs": [],
   "source": [
    "# 예제 1\n",
    "\n",
    "import numpy as np\n",
    "from matplotlib import pyplot as plt\n",
    "\n",
    "Z = np.array([[10,0,0],[0,10,0],[0,0,10]])\n",
    "print(Z)\n",
    "\n",
    "plt.imshow(Z)\n",
    "plt.show()"
   ]
  },
  {
   "cell_type": "code",
   "execution_count": null,
   "metadata": {},
   "outputs": [],
   "source": [
    "# 예제 2\n",
    "\n",
    "import numpy as np\n",
    "import matplotlib.cm as cm\n",
    "from matplotlib import pyplot as plt\n",
    "\n",
    "Z = np.array([[20,5,2],[2,20,3],[11,2,20]])\n",
    "plt.imshow(Z, cmap = cm.gray)\n",
    "plt.show()"
   ]
  },
  {
   "cell_type": "code",
   "execution_count": null,
   "metadata": {},
   "outputs": [],
   "source": [
    "# 실습\n",
    "\n",
    "import numpy as np\n",
    "import matplotlib.cm as cm\n",
    "from matplotlib import pyplot as plt\n",
    "\n",
    "Z = np.array([[20,5,2],[2,20,3],[11,2,20]])\n",
    "plt.imshow(Z, cmap = cm.plasma)\n",
    "plt.show()"
   ]
  },
  {
   "cell_type": "markdown",
   "metadata": {},
   "source": [
    "## gray 이미지  만들기\n",
    "\n",
    "### imread()를 사용해서 gray 이미지로 변환해서 읽는 방법 "
   ]
  },
  {
   "cell_type": "code",
   "execution_count": null,
   "metadata": {},
   "outputs": [],
   "source": [
    "# 실습\n",
    "\n",
    "image = cv2.imread('images/01_lenna.png', cv2.IMREAD_GRAYSCALE)\n",
    "cv2.imshow('Lena', image)\n",
    "cv2.waitKey(0)\n",
    "cv2.destroyAllWindows()\n",
    "cv2.waitKey(1)"
   ]
  },
  {
   "cell_type": "markdown",
   "metadata": {},
   "source": [
    "### 칼라이미지로 읽어서 gray 이미지로 변환하는 방법"
   ]
  },
  {
   "cell_type": "code",
   "execution_count": null,
   "metadata": {},
   "outputs": [],
   "source": [
    "# 실습\n",
    "\n",
    "image = cv2.imread('images/01_lenna.png', cv2.IMREAD_COLOR)\n",
    "img_gray = cv2.cvtColor(image, cv2.COLOR_BGR2GRAY)\n",
    "cv2.imshow('Lena', img_gray)\n",
    "cv2.waitKey(0)\n",
    "cv2.destroyAllWindows()\n",
    "cv2.waitKey(1)\n"
   ]
  },
  {
   "cell_type": "markdown",
   "metadata": {},
   "source": [
    "## 이진 (Binary) 이미지 만들기\n",
    "\n",
    "- 이진 이미지는 픽셀값이 0과 1(255)로만 구성\n",
    "- 이진 이미지의 필요 : 배경과 객체의 구분, 관심영역과 비관심 영역의 구분, 마스크 생성 등\n",
    "\n",
    "\n",
    "- <font color=red>_, thr = cv2.threshold(img, threshold_value, value, flag)</font>\n",
    "  - img : Grayscale 이미지\n",
    "  - threshold_value : 픽셀 문턱값 (0과 1로 나누기 위한 기준값)\n",
    "  - value : 문턱값보다 클 때 적용되는 값\n",
    "  - flag : 문턱값 적용 방법\n",
    "  \n",
    "\n",
    "\n",
    "- flag : 문턱값 적용 방법\n",
    "  - cv2.THRESH_BINARY : 픽셀값이 문턱값보다 크면 value, 아니면 0을 할당\n",
    "  - cv2.THRESH_BINARY_INV : 픽셀값이 문턱값보다 크면 0, 아니면 value를 할당\n",
    "  - cv2.THRESH_TRUNC : 픽셀값이 문턱값보다 크면 문턱값, 아니면 픽셀값을 그대로 할당\n",
    "  - cv2.THRESH_TOZERO : 픽셀값이 문턱값보다 크면 픽셀값, 아니면 0을 할당\n",
    "  - cv2.THRESH_TOZERO_INV : 픽셀값이 문턱값보다 크면 0, 아니면 픽셀값을 할당"
   ]
  },
  {
   "cell_type": "code",
   "execution_count": null,
   "metadata": {},
   "outputs": [],
   "source": [
    "# 실습\n",
    "\n",
    "image = cv2.imread('images/01_lenna.png', cv2.IMREAD_GRAYSCALE)\n",
    "\n",
    "retval, thresholded_image = cv2.threshold(image, 127, 255, cv2.THRESH_BINARY)\n",
    "# 이진화된 이미지를 출력합니다.\n",
    "# retval은 사용된 임계값, thresholded_image는 이진화된 결과 이미지\n",
    "cv2.imshow('Thresholded Image', thresholded_image)\n",
    "cv2.waitKey(0)\n",
    "cv2.destroyAllWindows()\n",
    "cv2.waitKey(1)"
   ]
  },
  {
   "cell_type": "code",
   "execution_count": null,
   "metadata": {},
   "outputs": [],
   "source": [
    "# 실습\n",
    "\n",
    "image = cv2.imread('images/01_lenna.png', cv2.IMREAD_GRAYSCALE)\n",
    "\n",
    "retval, thresholded_image = cv2.threshold(image, 127, 255, cv2.THRESH_BINARY_INV)\n",
    "# 이진화된 이미지를 출력합니다.\n",
    "# retval은 사용된 임계값, thresholded_image는 이진화된 결과 이미지\n",
    "cv2.imshow('Thresholded Image', thresholded_image)\n",
    "cv2.waitKey(0)\n",
    "cv2.destroyAllWindows()\n",
    "cv2.waitKey(1)"
   ]
  }
 ],
 "metadata": {
  "colab": {
   "name": "DL008_01_OpenCV.ipynb",
   "provenance": []
  },
  "hide_input": false,
  "kernelspec": {
   "display_name": "torch",
   "language": "python",
   "name": "torch"
  },
  "language_info": {
   "codemirror_mode": {
    "name": "ipython",
    "version": 3
   },
   "file_extension": ".py",
   "mimetype": "text/x-python",
   "name": "python",
   "nbconvert_exporter": "python",
   "pygments_lexer": "ipython3",
   "version": "3.7.0"
  },
  "toc": {
   "base_numbering": 1,
   "nav_menu": {},
   "number_sections": true,
   "sideBar": true,
   "skip_h1_title": false,
   "title_cell": "Table of Contents",
   "title_sidebar": "Contents",
   "toc_cell": false,
   "toc_position": {
    "height": "calc(100% - 180px)",
    "left": "10px",
    "top": "150px",
    "width": "165px"
   },
   "toc_section_display": true,
   "toc_window_display": true
  }
 },
 "nbformat": 4,
 "nbformat_minor": 1
}
