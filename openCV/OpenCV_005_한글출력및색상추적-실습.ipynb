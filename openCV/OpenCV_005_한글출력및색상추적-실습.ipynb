{
 "cells": [
  {
   "cell_type": "markdown",
   "metadata": {},
   "source": [
    "<img src=\"https://arome1004.cafe24.com/images/opencv/lecture_image/00_title.png\">"
   ]
  },
  {
   "cell_type": "markdown",
   "metadata": {},
   "source": [
    "<table border=1 width=100%>\n",
    "    <tr><td style=\"border: 1px solid black; width:600px; height:40px; text-align: center;\"><font size=4 color=blue><b>[5차시] 학습목표</b></font></td></tr>       \n",
    "    <tr><td style=\"border: 1px solid black; text-align: left;\"><font size=3>\n",
    "○ 이미지 위에 한글 출력하기<br>\n",
    "○ 비트연산으로 이미지 합성하기<br>\n",
    "○ 색상추적에 대해 알아보기<br>\n",
    "        </font></td></tr>   \n",
    "</table>"
   ]
  },
  {
   "cell_type": "code",
   "execution_count": 1,
   "metadata": {},
   "outputs": [],
   "source": [
    "# 실습\n",
    "\n",
    "from PIL import ImageFont, ImageDraw, Image\n",
    "import numpy as np\n",
    "import cv2\n",
    "\n",
    "img = cv2.imread('images/02_bingbong.jpeg')\n",
    "img = cv2.rectangle(img, (180,35),(20,200),(0,0,255),3)\n",
    "\n",
    "font = ImageFont.truetype(\"fonts/gulim.ttc\", 30)\n",
    "img_pil = Image.fromarray(img)\n",
    "draw = ImageDraw.Draw(img_pil)\n",
    "\n",
    "draw.text((30,50),'빙봉', font = font, fill = (255,0,0,0))\n",
    "img_pil.show()"
   ]
  },
  {
   "cell_type": "code",
   "execution_count": 4,
   "metadata": {},
   "outputs": [],
   "source": [
    "!python3 session_05/ex_01.py"
   ]
  },
  {
   "cell_type": "markdown",
   "metadata": {
    "id": "gLauf9_UarFp"
   },
   "source": [
    "# 이미지 합성 하기\n",
    "## 비트 연산\n",
    "- 비트 단위로 논리 연산을 할 때 사용하는 연산\n",
    "  - AND, OR, XOR, NOT 등\n",
    "\n",
    "  - <font color=red>cv2.bitwise_and(src1, src2[, dst[, mask]])</font>\n",
    "  - <font color=red>cv2.bitwise_or(src1, src2[, dst[, mask]])</font>\n",
    "  - <font color=red>cv2.bitwise_not(src1[, dst[, mask]])</font>\n",
    "  - <font color=red>cv2.bitwise_xor(src1, src2[, dst[, mask]])</font>\n",
    "\n",
    "<img src=\"session_05/img_03.png\" width=70%>\n"
   ]
  },
  {
   "cell_type": "code",
   "execution_count": 12,
   "metadata": {},
   "outputs": [],
   "source": [
    "# 실습\n",
    "\n",
    "# !python3 session_05/ex_02.py\n",
    "\n",
    "import cv2\n",
    "\n",
    "img1 = cv2.imread('session_05/img_01.png')\n",
    "img2 = cv2.imread('session_05/img_02.png')\n",
    "\n",
    "img1 = cv2.resize(img1, (300, 150))\n",
    "img2 = cv2.resize(img2, (300, 150))\n",
    "\n",
    "bit_and = cv2.bitwise_and(img1, img2)\n",
    "bit_or = cv2.bitwise_or(img1, img2)\n",
    "bit_not = cv2.bitwise_not(img2)\n",
    "bit_xor = cv2.bitwise_xor(img1, img2)\n",
    "\n",
    "cv2.imshow('img1', img1)\n",
    "cv2.imshow('img2', img2)\n",
    "\n",
    "cv2.imshow('bit_and', bit_and)\n",
    "cv2.imshow('bit_or', bit_or)\n",
    "cv2.imshow('bit_not', bit_not)\n",
    "cv2.imshow('bit_xor', bit_xor)\n",
    "\n",
    "cv2.waitKey(0)\n",
    "cv2.desttoyAllWindows()\n"
   ]
  },
  {
   "cell_type": "markdown",
   "metadata": {},
   "source": [
    "## 색상 추적하기\n",
    "### RGB\n",
    "- 각 채널의 최대 강도를 결합하면 흰색\n",
    "- 각 채널의 최소 강도를 결합하면 검은색\n",
    "- 인간의 눈으로 인식되는 색상을 표현하기에 한계 존재\n",
    "\n",
    "### HSV\n",
    "- 색을 표현하는 색상공간 중 하나\n",
    "- 색상(H),채도(S),명도(V)\n",
    "- 채도 : 색상의 선명한 정도, 채도가 낮으면 탁하다, 채도가 높을수록 선명\n",
    "- 명도 : 색의 밝은 정도, 명도가 가장 높으면 흰색, 가장 낮으면 검은색"
   ]
  },
  {
   "cell_type": "code",
   "execution_count": 2,
   "metadata": {},
   "outputs": [
    {
     "name": "stderr",
     "output_type": "stream",
     "text": [
      "Python\n"
     ]
    }
   ],
   "source": [
    "# 실습 - 색상 추적하기\n",
    "!python3 session_05/ex_03.py"
   ]
  },
  {
   "cell_type": "code",
   "execution_count": 3,
   "metadata": {},
   "outputs": [],
   "source": [
    "# 실습 - 비디오에서 색상 추적하기\n",
    "!python session_05/ex_04.py"
   ]
  },
  {
   "cell_type": "code",
   "execution_count": null,
   "metadata": {},
   "outputs": [],
   "source": []
  }
 ],
 "metadata": {
  "colab": {
   "name": "DL008_01_OpenCV.ipynb",
   "provenance": []
  },
  "hide_input": false,
  "kernelspec": {
   "display_name": "opencv",
   "language": "python",
   "name": "python3"
  },
  "language_info": {
   "codemirror_mode": {
    "name": "ipython",
    "version": 3
   },
   "file_extension": ".py",
   "mimetype": "text/x-python",
   "name": "python",
   "nbconvert_exporter": "python",
   "pygments_lexer": "ipython3",
   "version": "3.11.9"
  },
  "toc": {
   "base_numbering": 1,
   "nav_menu": {},
   "number_sections": true,
   "sideBar": true,
   "skip_h1_title": false,
   "title_cell": "Table of Contents",
   "title_sidebar": "Contents",
   "toc_cell": false,
   "toc_position": {
    "height": "calc(100% - 180px)",
    "left": "10px",
    "top": "150px",
    "width": "165px"
   },
   "toc_section_display": true,
   "toc_window_display": true
  }
 },
 "nbformat": 4,
 "nbformat_minor": 1
}
